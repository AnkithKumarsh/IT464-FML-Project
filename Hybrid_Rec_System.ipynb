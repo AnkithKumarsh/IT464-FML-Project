{
 "cells": [
  {
   "cell_type": "code",
   "execution_count": null,
   "id": "4b647f00",
   "metadata": {
    "execution": {
     "iopub.execute_input": "2025-03-23T17:34:31.195639Z",
     "iopub.status.busy": "2025-03-23T17:34:31.195340Z",
     "iopub.status.idle": "2025-03-23T17:34:31.922309Z",
     "shell.execute_reply": "2025-03-23T17:34:31.921619Z"
    },
    "papermill": {
     "duration": 0.747486,
     "end_time": "2025-03-23T17:34:31.923894",
     "exception": false,
     "start_time": "2025-03-23T17:34:31.176408",
     "status": "completed"
    },
    "tags": []
   },
   "outputs": [],
   "source": [
    "import pandas as pd\n",
    "import numpy as np"
   ]
  },
  {
   "cell_type": "code",
   "execution_count": null,
   "id": "cbe4d32c",
   "metadata": {
    "execution": {
     "iopub.execute_input": "2025-03-23T17:34:31.958674Z",
     "iopub.status.busy": "2025-03-23T17:34:31.958275Z",
     "iopub.status.idle": "2025-03-23T17:34:34.074867Z",
     "shell.execute_reply": "2025-03-23T17:34:34.074107Z"
    },
    "papermill": {
     "duration": 2.135529,
     "end_time": "2025-03-23T17:34:34.076495",
     "exception": false,
     "start_time": "2025-03-23T17:34:31.940966",
     "status": "completed"
    },
    "tags": []
   },
   "outputs": [],
   "source": [
    "books = pd.read_csv('/kaggle/input/best-book-ever-data-for-2021/books_1.Best_Books_Ever.csv')"
   ]
  },
  {
   "cell_type": "code",
   "execution_count": null,
   "id": "3a797f76",
   "metadata": {
    "execution": {
     "iopub.execute_input": "2025-03-23T17:34:34.113913Z",
     "iopub.status.busy": "2025-03-23T17:34:34.113639Z",
     "iopub.status.idle": "2025-03-23T17:34:34.146269Z",
     "shell.execute_reply": "2025-03-23T17:34:34.145465Z"
    },
    "papermill": {
     "duration": 0.051297,
     "end_time": "2025-03-23T17:34:34.147757",
     "exception": false,
     "start_time": "2025-03-23T17:34:34.096460",
     "status": "completed"
    },
    "tags": []
   },
   "outputs": [
    {
     "data": {
      "text/html": [
       "<div>\n",
       "<style scoped>\n",
       "    .dataframe tbody tr th:only-of-type {\n",
       "        vertical-align: middle;\n",
       "    }\n",
       "\n",
       "    .dataframe tbody tr th {\n",
       "        vertical-align: top;\n",
       "    }\n",
       "\n",
       "    .dataframe thead th {\n",
       "        text-align: right;\n",
       "    }\n",
       "</style>\n",
       "<table border=\"1\" class=\"dataframe\">\n",
       "  <thead>\n",
       "    <tr style=\"text-align: right;\">\n",
       "      <th></th>\n",
       "      <th>bookId</th>\n",
       "      <th>title</th>\n",
       "      <th>series</th>\n",
       "      <th>author</th>\n",
       "      <th>rating</th>\n",
       "      <th>description</th>\n",
       "      <th>language</th>\n",
       "      <th>isbn</th>\n",
       "      <th>genres</th>\n",
       "      <th>characters</th>\n",
       "      <th>...</th>\n",
       "      <th>firstPublishDate</th>\n",
       "      <th>awards</th>\n",
       "      <th>numRatings</th>\n",
       "      <th>ratingsByStars</th>\n",
       "      <th>likedPercent</th>\n",
       "      <th>setting</th>\n",
       "      <th>coverImg</th>\n",
       "      <th>bbeScore</th>\n",
       "      <th>bbeVotes</th>\n",
       "      <th>price</th>\n",
       "    </tr>\n",
       "  </thead>\n",
       "  <tbody>\n",
       "    <tr>\n",
       "      <th>0</th>\n",
       "      <td>2767052-the-hunger-games</td>\n",
       "      <td>The Hunger Games</td>\n",
       "      <td>The Hunger Games #1</td>\n",
       "      <td>Suzanne Collins</td>\n",
       "      <td>4.33</td>\n",
       "      <td>WINNING MEANS FAME AND FORTUNE.LOSING MEANS CE...</td>\n",
       "      <td>English</td>\n",
       "      <td>9780439023481</td>\n",
       "      <td>['Young Adult', 'Fiction', 'Dystopia', 'Fantas...</td>\n",
       "      <td>['Katniss Everdeen', 'Peeta Mellark', 'Cato (H...</td>\n",
       "      <td>...</td>\n",
       "      <td>NaN</td>\n",
       "      <td>['Locus Award Nominee for Best Young Adult Boo...</td>\n",
       "      <td>6376780</td>\n",
       "      <td>['3444695', '1921313', '745221', '171994', '93...</td>\n",
       "      <td>96.0</td>\n",
       "      <td>['District 12, Panem', 'Capitol, Panem', 'Pane...</td>\n",
       "      <td>https://i.gr-assets.com/images/S/compressed.ph...</td>\n",
       "      <td>2993816</td>\n",
       "      <td>30516</td>\n",
       "      <td>5.09</td>\n",
       "    </tr>\n",
       "    <tr>\n",
       "      <th>1</th>\n",
       "      <td>2.Harry_Potter_and_the_Order_of_the_Phoenix</td>\n",
       "      <td>Harry Potter and the Order of the Phoenix</td>\n",
       "      <td>Harry Potter #5</td>\n",
       "      <td>J.K. Rowling, Mary GrandPré (Illustrator)</td>\n",
       "      <td>4.50</td>\n",
       "      <td>There is a door at the end of a silent corrido...</td>\n",
       "      <td>English</td>\n",
       "      <td>9780439358071</td>\n",
       "      <td>['Fantasy', 'Young Adult', 'Fiction', 'Magic',...</td>\n",
       "      <td>['Sirius Black', 'Draco Malfoy', 'Ron Weasley'...</td>\n",
       "      <td>...</td>\n",
       "      <td>06/21/03</td>\n",
       "      <td>['Bram Stoker Award for Works for Young Reader...</td>\n",
       "      <td>2507623</td>\n",
       "      <td>['1593642', '637516', '222366', '39573', '14526']</td>\n",
       "      <td>98.0</td>\n",
       "      <td>['Hogwarts School of Witchcraft and Wizardry (...</td>\n",
       "      <td>https://i.gr-assets.com/images/S/compressed.ph...</td>\n",
       "      <td>2632233</td>\n",
       "      <td>26923</td>\n",
       "      <td>7.38</td>\n",
       "    </tr>\n",
       "  </tbody>\n",
       "</table>\n",
       "<p>2 rows × 25 columns</p>\n",
       "</div>"
      ],
      "text/plain": [
       "                                        bookId  \\\n",
       "0                     2767052-the-hunger-games   \n",
       "1  2.Harry_Potter_and_the_Order_of_the_Phoenix   \n",
       "\n",
       "                                       title               series  \\\n",
       "0                           The Hunger Games  The Hunger Games #1   \n",
       "1  Harry Potter and the Order of the Phoenix      Harry Potter #5   \n",
       "\n",
       "                                      author  rating  \\\n",
       "0                            Suzanne Collins    4.33   \n",
       "1  J.K. Rowling, Mary GrandPré (Illustrator)    4.50   \n",
       "\n",
       "                                         description language           isbn  \\\n",
       "0  WINNING MEANS FAME AND FORTUNE.LOSING MEANS CE...  English  9780439023481   \n",
       "1  There is a door at the end of a silent corrido...  English  9780439358071   \n",
       "\n",
       "                                              genres  \\\n",
       "0  ['Young Adult', 'Fiction', 'Dystopia', 'Fantas...   \n",
       "1  ['Fantasy', 'Young Adult', 'Fiction', 'Magic',...   \n",
       "\n",
       "                                          characters  ... firstPublishDate  \\\n",
       "0  ['Katniss Everdeen', 'Peeta Mellark', 'Cato (H...  ...              NaN   \n",
       "1  ['Sirius Black', 'Draco Malfoy', 'Ron Weasley'...  ...         06/21/03   \n",
       "\n",
       "                                              awards numRatings  \\\n",
       "0  ['Locus Award Nominee for Best Young Adult Boo...    6376780   \n",
       "1  ['Bram Stoker Award for Works for Young Reader...    2507623   \n",
       "\n",
       "                                      ratingsByStars likedPercent  \\\n",
       "0  ['3444695', '1921313', '745221', '171994', '93...         96.0   \n",
       "1  ['1593642', '637516', '222366', '39573', '14526']         98.0   \n",
       "\n",
       "                                             setting  \\\n",
       "0  ['District 12, Panem', 'Capitol, Panem', 'Pane...   \n",
       "1  ['Hogwarts School of Witchcraft and Wizardry (...   \n",
       "\n",
       "                                            coverImg  bbeScore bbeVotes  price  \n",
       "0  https://i.gr-assets.com/images/S/compressed.ph...   2993816    30516   5.09  \n",
       "1  https://i.gr-assets.com/images/S/compressed.ph...   2632233    26923   7.38  \n",
       "\n",
       "[2 rows x 25 columns]"
      ]
     },
     "execution_count": 3,
     "metadata": {},
     "output_type": "execute_result"
    }
   ],
   "source": [
    "books.head(2) "
   ]
  },
  {
   "cell_type": "code",
   "execution_count": null,
   "id": "5f8fc97f",
   "metadata": {
    "execution": {
     "iopub.execute_input": "2025-03-23T17:34:34.182898Z",
     "iopub.status.busy": "2025-03-23T17:34:34.182606Z",
     "iopub.status.idle": "2025-03-23T17:34:34.243513Z",
     "shell.execute_reply": "2025-03-23T17:34:34.242608Z"
    },
    "papermill": {
     "duration": 0.079356,
     "end_time": "2025-03-23T17:34:34.244833",
     "exception": false,
     "start_time": "2025-03-23T17:34:34.165477",
     "status": "completed"
    },
    "tags": []
   },
   "outputs": [
    {
     "data": {
      "text/plain": [
       "bookId                  0\n",
       "title                   0\n",
       "series              29008\n",
       "author                  0\n",
       "rating                  0\n",
       "description          1338\n",
       "language             3806\n",
       "isbn                    0\n",
       "genres                  0\n",
       "characters              0\n",
       "bookFormat           1473\n",
       "edition             47523\n",
       "pages                2347\n",
       "publisher            3696\n",
       "publishDate           880\n",
       "firstPublishDate    21326\n",
       "awards                  0\n",
       "numRatings              0\n",
       "ratingsByStars          0\n",
       "likedPercent          622\n",
       "setting                 0\n",
       "coverImg              605\n",
       "bbeScore                0\n",
       "bbeVotes                0\n",
       "price               14365\n",
       "dtype: int64"
      ]
     },
     "execution_count": 4,
     "metadata": {},
     "output_type": "execute_result"
    }
   ],
   "source": [
    "books.isnull().sum()"
   ]
  },
  {
   "cell_type": "code",
   "execution_count": null,
   "id": "4481089f",
   "metadata": {
    "execution": {
     "iopub.execute_input": "2025-03-23T17:34:34.278564Z",
     "iopub.status.busy": "2025-03-23T17:34:34.278286Z",
     "iopub.status.idle": "2025-03-23T17:34:34.283061Z",
     "shell.execute_reply": "2025-03-23T17:34:34.282270Z"
    },
    "papermill": {
     "duration": 0.022976,
     "end_time": "2025-03-23T17:34:34.284341",
     "exception": false,
     "start_time": "2025-03-23T17:34:34.261365",
     "status": "completed"
    },
    "tags": []
   },
   "outputs": [
    {
     "data": {
      "text/plain": [
       "Index(['bookId', 'title', 'series', 'author', 'rating', 'description',\n",
       "       'language', 'isbn', 'genres', 'characters', 'bookFormat', 'edition',\n",
       "       'pages', 'publisher', 'publishDate', 'firstPublishDate', 'awards',\n",
       "       'numRatings', 'ratingsByStars', 'likedPercent', 'setting', 'coverImg',\n",
       "       'bbeScore', 'bbeVotes', 'price'],\n",
       "      dtype='object')"
      ]
     },
     "execution_count": 5,
     "metadata": {},
     "output_type": "execute_result"
    }
   ],
   "source": [
    "books.columns"
   ]
  },
  {
   "cell_type": "code",
   "execution_count": null,
   "id": "c5fc49ac",
   "metadata": {
    "execution": {
     "iopub.execute_input": "2025-03-23T17:34:34.318429Z",
     "iopub.status.busy": "2025-03-23T17:34:34.318162Z",
     "iopub.status.idle": "2025-03-23T17:34:34.327890Z",
     "shell.execute_reply": "2025-03-23T17:34:34.327318Z"
    },
    "papermill": {
     "duration": 0.02857,
     "end_time": "2025-03-23T17:34:34.329191",
     "exception": false,
     "start_time": "2025-03-23T17:34:34.300621",
     "status": "completed"
    },
    "tags": []
   },
   "outputs": [],
   "source": [
    "updated_books = books[['isbn', 'title', 'author', 'genres', 'language', 'characters', 'description', 'awards','coverImg','setting', 'rating', 'numRatings']]"
   ]
  },
  {
   "cell_type": "code",
   "execution_count": null,
   "id": "79f6ddc0",
   "metadata": {
    "execution": {
     "iopub.execute_input": "2025-03-23T17:34:34.363418Z",
     "iopub.status.busy": "2025-03-23T17:34:34.363142Z",
     "iopub.status.idle": "2025-03-23T17:34:34.373743Z",
     "shell.execute_reply": "2025-03-23T17:34:34.372938Z"
    },
    "papermill": {
     "duration": 0.02899,
     "end_time": "2025-03-23T17:34:34.375198",
     "exception": false,
     "start_time": "2025-03-23T17:34:34.346208",
     "status": "completed"
    },
    "tags": []
   },
   "outputs": [
    {
     "data": {
      "text/html": [
       "<div>\n",
       "<style scoped>\n",
       "    .dataframe tbody tr th:only-of-type {\n",
       "        vertical-align: middle;\n",
       "    }\n",
       "\n",
       "    .dataframe tbody tr th {\n",
       "        vertical-align: top;\n",
       "    }\n",
       "\n",
       "    .dataframe thead th {\n",
       "        text-align: right;\n",
       "    }\n",
       "</style>\n",
       "<table border=\"1\" class=\"dataframe\">\n",
       "  <thead>\n",
       "    <tr style=\"text-align: right;\">\n",
       "      <th></th>\n",
       "      <th>isbn</th>\n",
       "      <th>title</th>\n",
       "      <th>author</th>\n",
       "      <th>genres</th>\n",
       "      <th>language</th>\n",
       "      <th>characters</th>\n",
       "      <th>description</th>\n",
       "      <th>awards</th>\n",
       "      <th>coverImg</th>\n",
       "      <th>setting</th>\n",
       "      <th>rating</th>\n",
       "      <th>numRatings</th>\n",
       "    </tr>\n",
       "  </thead>\n",
       "  <tbody>\n",
       "    <tr>\n",
       "      <th>0</th>\n",
       "      <td>9780439023481</td>\n",
       "      <td>The Hunger Games</td>\n",
       "      <td>Suzanne Collins</td>\n",
       "      <td>['Young Adult', 'Fiction', 'Dystopia', 'Fantas...</td>\n",
       "      <td>English</td>\n",
       "      <td>['Katniss Everdeen', 'Peeta Mellark', 'Cato (H...</td>\n",
       "      <td>WINNING MEANS FAME AND FORTUNE.LOSING MEANS CE...</td>\n",
       "      <td>['Locus Award Nominee for Best Young Adult Boo...</td>\n",
       "      <td>https://i.gr-assets.com/images/S/compressed.ph...</td>\n",
       "      <td>['District 12, Panem', 'Capitol, Panem', 'Pane...</td>\n",
       "      <td>4.33</td>\n",
       "      <td>6376780</td>\n",
       "    </tr>\n",
       "    <tr>\n",
       "      <th>1</th>\n",
       "      <td>9780439358071</td>\n",
       "      <td>Harry Potter and the Order of the Phoenix</td>\n",
       "      <td>J.K. Rowling, Mary GrandPré (Illustrator)</td>\n",
       "      <td>['Fantasy', 'Young Adult', 'Fiction', 'Magic',...</td>\n",
       "      <td>English</td>\n",
       "      <td>['Sirius Black', 'Draco Malfoy', 'Ron Weasley'...</td>\n",
       "      <td>There is a door at the end of a silent corrido...</td>\n",
       "      <td>['Bram Stoker Award for Works for Young Reader...</td>\n",
       "      <td>https://i.gr-assets.com/images/S/compressed.ph...</td>\n",
       "      <td>['Hogwarts School of Witchcraft and Wizardry (...</td>\n",
       "      <td>4.50</td>\n",
       "      <td>2507623</td>\n",
       "    </tr>\n",
       "  </tbody>\n",
       "</table>\n",
       "</div>"
      ],
      "text/plain": [
       "            isbn                                      title  \\\n",
       "0  9780439023481                           The Hunger Games   \n",
       "1  9780439358071  Harry Potter and the Order of the Phoenix   \n",
       "\n",
       "                                      author  \\\n",
       "0                            Suzanne Collins   \n",
       "1  J.K. Rowling, Mary GrandPré (Illustrator)   \n",
       "\n",
       "                                              genres language  \\\n",
       "0  ['Young Adult', 'Fiction', 'Dystopia', 'Fantas...  English   \n",
       "1  ['Fantasy', 'Young Adult', 'Fiction', 'Magic',...  English   \n",
       "\n",
       "                                          characters  \\\n",
       "0  ['Katniss Everdeen', 'Peeta Mellark', 'Cato (H...   \n",
       "1  ['Sirius Black', 'Draco Malfoy', 'Ron Weasley'...   \n",
       "\n",
       "                                         description  \\\n",
       "0  WINNING MEANS FAME AND FORTUNE.LOSING MEANS CE...   \n",
       "1  There is a door at the end of a silent corrido...   \n",
       "\n",
       "                                              awards  \\\n",
       "0  ['Locus Award Nominee for Best Young Adult Boo...   \n",
       "1  ['Bram Stoker Award for Works for Young Reader...   \n",
       "\n",
       "                                            coverImg  \\\n",
       "0  https://i.gr-assets.com/images/S/compressed.ph...   \n",
       "1  https://i.gr-assets.com/images/S/compressed.ph...   \n",
       "\n",
       "                                             setting  rating  numRatings  \n",
       "0  ['District 12, Panem', 'Capitol, Panem', 'Pane...    4.33     6376780  \n",
       "1  ['Hogwarts School of Witchcraft and Wizardry (...    4.50     2507623  "
      ]
     },
     "execution_count": 7,
     "metadata": {},
     "output_type": "execute_result"
    }
   ],
   "source": [
    "updated_books.head(2)"
   ]
  },
  {
   "cell_type": "code",
   "execution_count": null,
   "id": "f241d747",
   "metadata": {
    "execution": {
     "iopub.execute_input": "2025-03-23T17:34:34.410043Z",
     "iopub.status.busy": "2025-03-23T17:34:34.409767Z",
     "iopub.status.idle": "2025-03-23T17:34:34.443850Z",
     "shell.execute_reply": "2025-03-23T17:34:34.443174Z"
    },
    "papermill": {
     "duration": 0.052833,
     "end_time": "2025-03-23T17:34:34.445184",
     "exception": false,
     "start_time": "2025-03-23T17:34:34.392351",
     "status": "completed"
    },
    "tags": []
   },
   "outputs": [
    {
     "data": {
      "text/plain": [
       "isbn              0\n",
       "title             0\n",
       "author            0\n",
       "genres            0\n",
       "language       3806\n",
       "characters        0\n",
       "description    1338\n",
       "awards            0\n",
       "coverImg        605\n",
       "setting           0\n",
       "rating            0\n",
       "numRatings        0\n",
       "dtype: int64"
      ]
     },
     "execution_count": 8,
     "metadata": {},
     "output_type": "execute_result"
    }
   ],
   "source": [
    "updated_books.isnull().sum()"
   ]
  },
  {
   "cell_type": "code",
   "execution_count": null,
   "id": "84568bdf",
   "metadata": {
    "execution": {
     "iopub.execute_input": "2025-03-23T17:34:34.480013Z",
     "iopub.status.busy": "2025-03-23T17:34:34.479741Z",
     "iopub.status.idle": "2025-03-23T17:34:34.484297Z",
     "shell.execute_reply": "2025-03-23T17:34:34.483486Z"
    },
    "papermill": {
     "duration": 0.023466,
     "end_time": "2025-03-23T17:34:34.485694",
     "exception": false,
     "start_time": "2025-03-23T17:34:34.462228",
     "status": "completed"
    },
    "tags": []
   },
   "outputs": [
    {
     "data": {
      "text/plain": [
       "(52478, 12)"
      ]
     },
     "execution_count": 9,
     "metadata": {},
     "output_type": "execute_result"
    }
   ],
   "source": [
    "updated_books.shape"
   ]
  },
  {
   "cell_type": "code",
   "execution_count": null,
   "id": "be59f112",
   "metadata": {
    "execution": {
     "iopub.execute_input": "2025-03-23T17:34:34.520961Z",
     "iopub.status.busy": "2025-03-23T17:34:34.520654Z",
     "iopub.status.idle": "2025-03-23T17:34:34.560241Z",
     "shell.execute_reply": "2025-03-23T17:34:34.559399Z"
    },
    "papermill": {
     "duration": 0.058941,
     "end_time": "2025-03-23T17:34:34.561668",
     "exception": false,
     "start_time": "2025-03-23T17:34:34.502727",
     "status": "completed"
    },
    "tags": []
   },
   "outputs": [],
   "source": [
    "updated_books = updated_books.dropna()"
   ]
  },
  {
   "cell_type": "code",
   "execution_count": null,
   "id": "7ba9e5b7",
   "metadata": {
    "execution": {
     "iopub.execute_input": "2025-03-23T17:34:34.596600Z",
     "iopub.status.busy": "2025-03-23T17:34:34.596346Z",
     "iopub.status.idle": "2025-03-23T17:34:34.600638Z",
     "shell.execute_reply": "2025-03-23T17:34:34.599997Z"
    },
    "papermill": {
     "duration": 0.022794,
     "end_time": "2025-03-23T17:34:34.601723",
     "exception": false,
     "start_time": "2025-03-23T17:34:34.578929",
     "status": "completed"
    },
    "tags": []
   },
   "outputs": [
    {
     "data": {
      "text/plain": [
       "(47438, 12)"
      ]
     },
     "execution_count": 11,
     "metadata": {},
     "output_type": "execute_result"
    }
   ],
   "source": [
    "updated_books.shape"
   ]
  },
  {
   "cell_type": "code",
   "execution_count": null,
   "id": "5e593ee8",
   "metadata": {},
   "outputs": [],
   "source": []
  },
  {
   "cell_type": "code",
   "execution_count": null,
   "id": "863c9a04",
   "metadata": {
    "execution": {
     "iopub.execute_input": "2025-03-23T17:34:34.636209Z",
     "iopub.status.busy": "2025-03-23T17:34:34.635971Z",
     "iopub.status.idle": "2025-03-23T17:34:34.667777Z",
     "shell.execute_reply": "2025-03-23T17:34:34.667093Z"
    },
    "papermill": {
     "duration": 0.050417,
     "end_time": "2025-03-23T17:34:34.669013",
     "exception": false,
     "start_time": "2025-03-23T17:34:34.618596",
     "status": "completed"
    },
    "tags": []
   },
   "outputs": [
    {
     "data": {
      "text/plain": [
       "isbn           0\n",
       "title          0\n",
       "author         0\n",
       "genres         0\n",
       "language       0\n",
       "characters     0\n",
       "description    0\n",
       "awards         0\n",
       "coverImg       0\n",
       "setting        0\n",
       "rating         0\n",
       "numRatings     0\n",
       "dtype: int64"
      ]
     },
     "execution_count": 12,
     "metadata": {},
     "output_type": "execute_result"
    }
   ],
   "source": [
    "updated_books.isnull().sum()"
   ]
  },
  {
   "cell_type": "code",
   "execution_count": null,
   "id": "544b881a",
   "metadata": {
    "execution": {
     "iopub.execute_input": "2025-03-23T17:34:34.742099Z",
     "iopub.status.busy": "2025-03-23T17:34:34.741825Z",
     "iopub.status.idle": "2025-03-23T17:34:34.964954Z",
     "shell.execute_reply": "2025-03-23T17:34:34.964112Z"
    },
    "papermill": {
     "duration": 0.241997,
     "end_time": "2025-03-23T17:34:34.966285",
     "exception": false,
     "start_time": "2025-03-23T17:34:34.724288",
     "status": "completed"
    },
    "tags": []
   },
   "outputs": [
    {
     "data": {
      "text/plain": [
       "47"
      ]
     },
     "execution_count": 13,
     "metadata": {},
     "output_type": "execute_result"
    }
   ],
   "source": [
    "updated_books.duplicated().sum()"
   ]
  },
  {
   "cell_type": "code",
   "execution_count": null,
   "id": "2d1f9ecd",
   "metadata": {
    "execution": {
     "iopub.execute_input": "2025-03-23T17:34:35.017599Z",
     "iopub.status.busy": "2025-03-23T17:34:35.017206Z",
     "iopub.status.idle": "2025-03-23T17:34:35.228894Z",
     "shell.execute_reply": "2025-03-23T17:34:35.227934Z"
    },
    "papermill": {
     "duration": 0.236969,
     "end_time": "2025-03-23T17:34:35.230707",
     "exception": false,
     "start_time": "2025-03-23T17:34:34.993738",
     "status": "completed"
    },
    "tags": []
   },
   "outputs": [],
   "source": [
    "updated_books = updated_books.drop_duplicates()"
   ]
  },
  {
   "cell_type": "code",
   "execution_count": null,
   "id": "94470580",
   "metadata": {
    "execution": {
     "iopub.execute_input": "2025-03-23T17:34:35.266213Z",
     "iopub.status.busy": "2025-03-23T17:34:35.265895Z",
     "iopub.status.idle": "2025-03-23T17:34:35.451870Z",
     "shell.execute_reply": "2025-03-23T17:34:35.451093Z"
    },
    "papermill": {
     "duration": 0.205018,
     "end_time": "2025-03-23T17:34:35.453144",
     "exception": false,
     "start_time": "2025-03-23T17:34:35.248126",
     "status": "completed"
    },
    "tags": []
   },
   "outputs": [
    {
     "data": {
      "text/plain": [
       "0"
      ]
     },
     "execution_count": 15,
     "metadata": {},
     "output_type": "execute_result"
    }
   ],
   "source": [
    "updated_books.duplicated().sum()"
   ]
  },
  {
   "cell_type": "code",
   "execution_count": null,
   "id": "a83441f9",
   "metadata": {
    "execution": {
     "iopub.execute_input": "2025-03-23T17:34:35.489024Z",
     "iopub.status.busy": "2025-03-23T17:34:35.488781Z",
     "iopub.status.idle": "2025-03-23T17:34:35.492945Z",
     "shell.execute_reply": "2025-03-23T17:34:35.492277Z"
    },
    "papermill": {
     "duration": 0.023236,
     "end_time": "2025-03-23T17:34:35.494120",
     "exception": false,
     "start_time": "2025-03-23T17:34:35.470884",
     "status": "completed"
    },
    "tags": []
   },
   "outputs": [
    {
     "data": {
      "text/plain": [
       "(47391, 12)"
      ]
     },
     "execution_count": 16,
     "metadata": {},
     "output_type": "execute_result"
    }
   ],
   "source": [
    "updated_books.shape"
   ]
  },
  {
   "cell_type": "code",
   "execution_count": null,
   "id": "e25be4d6",
   "metadata": {
    "execution": {
     "iopub.execute_input": "2025-03-23T17:34:35.529088Z",
     "iopub.status.busy": "2025-03-23T17:34:35.528856Z",
     "iopub.status.idle": "2025-03-23T17:34:35.533484Z",
     "shell.execute_reply": "2025-03-23T17:34:35.532696Z"
    },
    "papermill": {
     "duration": 0.023533,
     "end_time": "2025-03-23T17:34:35.534801",
     "exception": false,
     "start_time": "2025-03-23T17:34:35.511268",
     "status": "completed"
    },
    "tags": []
   },
   "outputs": [
    {
     "data": {
      "text/plain": [
       "[\"['Young Adult', 'Fiction', 'Dystopia', 'Fantasy', 'Science Fiction', 'Romance', 'Adventure', 'Teen', 'Post Apocalyptic', 'Action']\",\n",
       " \"['Fantasy', 'Young Adult', 'Fiction', 'Magic', 'Childrens', 'Adventure', 'Audiobook', 'Middle Grade', 'Classics', 'Science Fiction Fantasy']\"]"
      ]
     },
     "execution_count": 17,
     "metadata": {},
     "output_type": "execute_result"
    }
   ],
   "source": [
    "updated_books['genres'].head(2).to_list()"
   ]
  },
  {
   "cell_type": "code",
   "execution_count": null,
   "id": "01ad0d76",
   "metadata": {
    "execution": {
     "iopub.execute_input": "2025-03-23T17:34:35.570582Z",
     "iopub.status.busy": "2025-03-23T17:34:35.570328Z",
     "iopub.status.idle": "2025-03-23T17:34:35.575381Z",
     "shell.execute_reply": "2025-03-23T17:34:35.574625Z"
    },
    "papermill": {
     "duration": 0.024836,
     "end_time": "2025-03-23T17:34:35.576720",
     "exception": false,
     "start_time": "2025-03-23T17:34:35.551884",
     "status": "completed"
    },
    "tags": []
   },
   "outputs": [
    {
     "data": {
      "text/plain": [
       "0    6376780\n",
       "Name: numRatings, dtype: int64"
      ]
     },
     "execution_count": 18,
     "metadata": {},
     "output_type": "execute_result"
    }
   ],
   "source": [
    "updated_books['numRatings'].head(1)"
   ]
  },
  {
   "cell_type": "code",
   "execution_count": null,
   "id": "5bb0259d",
   "metadata": {
    "execution": {
     "iopub.execute_input": "2025-03-23T17:34:35.612656Z",
     "iopub.status.busy": "2025-03-23T17:34:35.612369Z",
     "iopub.status.idle": "2025-03-23T17:34:35.615907Z",
     "shell.execute_reply": "2025-03-23T17:34:35.615218Z"
    },
    "papermill": {
     "duration": 0.023148,
     "end_time": "2025-03-23T17:34:35.617107",
     "exception": false,
     "start_time": "2025-03-23T17:34:35.593959",
     "status": "completed"
    },
    "tags": []
   },
   "outputs": [],
   "source": [
    "updated_books.reset_index(drop=True, inplace=True)"
   ]
  },
  {
   "cell_type": "code",
   "execution_count": null,
   "id": "992f1d9e",
   "metadata": {
    "execution": {
     "iopub.execute_input": "2025-03-23T17:34:35.653409Z",
     "iopub.status.busy": "2025-03-23T17:34:35.653080Z",
     "iopub.status.idle": "2025-03-23T17:34:35.656862Z",
     "shell.execute_reply": "2025-03-23T17:34:35.656209Z"
    },
    "papermill": {
     "duration": 0.023263,
     "end_time": "2025-03-23T17:34:35.658075",
     "exception": false,
     "start_time": "2025-03-23T17:34:35.634812",
     "status": "completed"
    },
    "tags": []
   },
   "outputs": [],
   "source": [
    "mask_numRatings = updated_books['numRatings'] >= 10000"
   ]
  },
  {
   "cell_type": "code",
   "execution_count": null,
   "id": "ffb514a4",
   "metadata": {
    "execution": {
     "iopub.execute_input": "2025-03-23T17:34:35.694002Z",
     "iopub.status.busy": "2025-03-23T17:34:35.693751Z",
     "iopub.status.idle": "2025-03-23T17:34:35.700354Z",
     "shell.execute_reply": "2025-03-23T17:34:35.699716Z"
    },
    "papermill": {
     "duration": 0.02599,
     "end_time": "2025-03-23T17:34:35.701701",
     "exception": false,
     "start_time": "2025-03-23T17:34:35.675711",
     "status": "completed"
    },
    "tags": []
   },
   "outputs": [],
   "source": [
    "x = updated_books[mask_numRatings]"
   ]
  },
  {
   "cell_type": "code",
   "execution_count": null,
   "id": "8670aeba",
   "metadata": {
    "execution": {
     "iopub.execute_input": "2025-03-23T17:34:35.737850Z",
     "iopub.status.busy": "2025-03-23T17:34:35.737624Z",
     "iopub.status.idle": "2025-03-23T17:34:35.741971Z",
     "shell.execute_reply": "2025-03-23T17:34:35.741167Z"
    },
    "papermill": {
     "duration": 0.023552,
     "end_time": "2025-03-23T17:34:35.743306",
     "exception": false,
     "start_time": "2025-03-23T17:34:35.719754",
     "status": "completed"
    },
    "tags": []
   },
   "outputs": [
    {
     "data": {
      "text/plain": [
       "(12328, 12)"
      ]
     },
     "execution_count": 22,
     "metadata": {},
     "output_type": "execute_result"
    }
   ],
   "source": [
    "x.shape"
   ]
  },
  {
   "cell_type": "code",
   "execution_count": null,
   "id": "adda018f",
   "metadata": {
    "execution": {
     "iopub.execute_input": "2025-03-23T17:34:35.778887Z",
     "iopub.status.busy": "2025-03-23T17:34:35.778648Z",
     "iopub.status.idle": "2025-03-23T17:34:35.782010Z",
     "shell.execute_reply": "2025-03-23T17:34:35.781406Z"
    },
    "papermill": {
     "duration": 0.02275,
     "end_time": "2025-03-23T17:34:35.783291",
     "exception": false,
     "start_time": "2025-03-23T17:34:35.760541",
     "status": "completed"
    },
    "tags": []
   },
   "outputs": [],
   "source": [
    "mask_rating = x['rating'] >= 3"
   ]
  },
  {
   "cell_type": "code",
   "execution_count": null,
   "id": "863a2569",
   "metadata": {
    "execution": {
     "iopub.execute_input": "2025-03-23T17:34:35.823859Z",
     "iopub.status.busy": "2025-03-23T17:34:35.823493Z",
     "iopub.status.idle": "2025-03-23T17:34:35.832045Z",
     "shell.execute_reply": "2025-03-23T17:34:35.830802Z"
    },
    "papermill": {
     "duration": 0.030732,
     "end_time": "2025-03-23T17:34:35.833645",
     "exception": false,
     "start_time": "2025-03-23T17:34:35.802913",
     "status": "completed"
    },
    "tags": []
   },
   "outputs": [],
   "source": [
    "req_updated_books = x[mask_rating]"
   ]
  },
  {
   "cell_type": "code",
   "execution_count": null,
   "id": "0bb64984",
   "metadata": {
    "execution": {
     "iopub.execute_input": "2025-03-23T17:34:35.869589Z",
     "iopub.status.busy": "2025-03-23T17:34:35.869328Z",
     "iopub.status.idle": "2025-03-23T17:34:35.873784Z",
     "shell.execute_reply": "2025-03-23T17:34:35.872992Z"
    },
    "papermill": {
     "duration": 0.023567,
     "end_time": "2025-03-23T17:34:35.874935",
     "exception": false,
     "start_time": "2025-03-23T17:34:35.851368",
     "status": "completed"
    },
    "tags": []
   },
   "outputs": [
    {
     "data": {
      "text/plain": [
       "(12320, 12)"
      ]
     },
     "execution_count": 25,
     "metadata": {},
     "output_type": "execute_result"
    }
   ],
   "source": [
    "req_updated_books.shape"
   ]
  },
  {
   "cell_type": "code",
   "execution_count": null,
   "id": "2abf1e3b",
   "metadata": {
    "execution": {
     "iopub.execute_input": "2025-03-23T17:34:35.910970Z",
     "iopub.status.busy": "2025-03-23T17:34:35.910690Z",
     "iopub.status.idle": "2025-03-23T17:34:35.925550Z",
     "shell.execute_reply": "2025-03-23T17:34:35.924681Z"
    },
    "papermill": {
     "duration": 0.034257,
     "end_time": "2025-03-23T17:34:35.926884",
     "exception": false,
     "start_time": "2025-03-23T17:34:35.892627",
     "status": "completed"
    },
    "tags": []
   },
   "outputs": [
    {
     "data": {
      "text/plain": [
       "isbn\n",
       "False    11591\n",
       "True       729\n",
       "Name: count, dtype: int64"
      ]
     },
     "execution_count": 26,
     "metadata": {},
     "output_type": "execute_result"
    }
   ],
   "source": [
    "req_updated_books['isbn'].duplicated().value_counts()"
   ]
  },
  {
   "cell_type": "code",
   "execution_count": null,
   "id": "79235cbe",
   "metadata": {
    "execution": {
     "iopub.execute_input": "2025-03-23T17:34:35.963414Z",
     "iopub.status.busy": "2025-03-23T17:34:35.963133Z",
     "iopub.status.idle": "2025-03-23T17:34:35.972940Z",
     "shell.execute_reply": "2025-03-23T17:34:35.971922Z"
    },
    "papermill": {
     "duration": 0.029455,
     "end_time": "2025-03-23T17:34:35.974163",
     "exception": false,
     "start_time": "2025-03-23T17:34:35.944708",
     "status": "completed"
    },
    "tags": []
   },
   "outputs": [
    {
     "name": "stderr",
     "output_type": "stream",
     "text": [
      "<ipython-input-27-701946c80417>:1: SettingWithCopyWarning: \n",
      "A value is trying to be set on a copy of a slice from a DataFrame\n",
      "\n",
      "See the caveats in the documentation: https://pandas.pydata.org/pandas-docs/stable/user_guide/indexing.html#returning-a-view-versus-a-copy\n",
      "  req_updated_books.drop_duplicates(subset=['isbn'], inplace=True)\n"
     ]
    }
   ],
   "source": [
    "req_updated_books.drop_duplicates(subset=['isbn'], inplace=True)"
   ]
  },
  {
   "cell_type": "code",
   "execution_count": null,
   "id": "eaa7149d",
   "metadata": {
    "execution": {
     "iopub.execute_input": "2025-03-23T17:34:36.011910Z",
     "iopub.status.busy": "2025-03-23T17:34:36.011675Z",
     "iopub.status.idle": "2025-03-23T17:34:36.018226Z",
     "shell.execute_reply": "2025-03-23T17:34:36.017440Z"
    },
    "papermill": {
     "duration": 0.027542,
     "end_time": "2025-03-23T17:34:36.019579",
     "exception": false,
     "start_time": "2025-03-23T17:34:35.992037",
     "status": "completed"
    },
    "tags": []
   },
   "outputs": [
    {
     "data": {
      "text/plain": [
       "isbn\n",
       "False    11591\n",
       "Name: count, dtype: int64"
      ]
     },
     "execution_count": 28,
     "metadata": {},
     "output_type": "execute_result"
    }
   ],
   "source": [
    "req_updated_books['isbn'].duplicated().value_counts()"
   ]
  },
  {
   "cell_type": "code",
   "execution_count": null,
   "id": "f865544a",
   "metadata": {
    "execution": {
     "iopub.execute_input": "2025-03-23T17:34:36.056065Z",
     "iopub.status.busy": "2025-03-23T17:34:36.055813Z",
     "iopub.status.idle": "2025-03-23T17:34:36.063010Z",
     "shell.execute_reply": "2025-03-23T17:34:36.062183Z"
    },
    "papermill": {
     "duration": 0.026432,
     "end_time": "2025-03-23T17:34:36.064346",
     "exception": false,
     "start_time": "2025-03-23T17:34:36.037914",
     "status": "completed"
    },
    "tags": []
   },
   "outputs": [
    {
     "data": {
      "text/plain": [
       "title\n",
       "False    11300\n",
       "True       291\n",
       "Name: count, dtype: int64"
      ]
     },
     "execution_count": 29,
     "metadata": {},
     "output_type": "execute_result"
    }
   ],
   "source": [
    "req_updated_books['title'].duplicated().value_counts()"
   ]
  },
  {
   "cell_type": "code",
   "execution_count": null,
   "id": "39523c32",
   "metadata": {
    "execution": {
     "iopub.execute_input": "2025-03-23T17:34:36.114749Z",
     "iopub.status.busy": "2025-03-23T17:34:36.114444Z",
     "iopub.status.idle": "2025-03-23T17:34:36.125022Z",
     "shell.execute_reply": "2025-03-23T17:34:36.124085Z"
    },
    "papermill": {
     "duration": 0.038757,
     "end_time": "2025-03-23T17:34:36.126379",
     "exception": false,
     "start_time": "2025-03-23T17:34:36.087622",
     "status": "completed"
    },
    "tags": []
   },
   "outputs": [
    {
     "name": "stderr",
     "output_type": "stream",
     "text": [
      "<ipython-input-30-afdbbb54acff>:1: SettingWithCopyWarning: \n",
      "A value is trying to be set on a copy of a slice from a DataFrame\n",
      "\n",
      "See the caveats in the documentation: https://pandas.pydata.org/pandas-docs/stable/user_guide/indexing.html#returning-a-view-versus-a-copy\n",
      "  req_updated_books.drop_duplicates(subset=['title'], inplace=True)\n"
     ]
    }
   ],
   "source": [
    "req_updated_books.drop_duplicates(subset=['title'], inplace=True)"
   ]
  },
  {
   "cell_type": "code",
   "execution_count": null,
   "id": "bc9e7a59",
   "metadata": {
    "execution": {
     "iopub.execute_input": "2025-03-23T17:34:36.164321Z",
     "iopub.status.busy": "2025-03-23T17:34:36.164035Z",
     "iopub.status.idle": "2025-03-23T17:34:36.168527Z",
     "shell.execute_reply": "2025-03-23T17:34:36.167724Z"
    },
    "papermill": {
     "duration": 0.024695,
     "end_time": "2025-03-23T17:34:36.169804",
     "exception": false,
     "start_time": "2025-03-23T17:34:36.145109",
     "status": "completed"
    },
    "tags": []
   },
   "outputs": [
    {
     "data": {
      "text/plain": [
       "(11300, 12)"
      ]
     },
     "execution_count": 31,
     "metadata": {},
     "output_type": "execute_result"
    }
   ],
   "source": [
    "req_updated_books.shape"
   ]
  },
  {
   "cell_type": "code",
   "execution_count": null,
   "id": "44ad97a3",
   "metadata": {
    "execution": {
     "iopub.execute_input": "2025-03-23T17:34:36.207085Z",
     "iopub.status.busy": "2025-03-23T17:34:36.206800Z",
     "iopub.status.idle": "2025-03-23T17:34:36.410191Z",
     "shell.execute_reply": "2025-03-23T17:34:36.409293Z"
    },
    "papermill": {
     "duration": 0.223867,
     "end_time": "2025-03-23T17:34:36.411686",
     "exception": false,
     "start_time": "2025-03-23T17:34:36.187819",
     "status": "completed"
    },
    "tags": []
   },
   "outputs": [
    {
     "name": "stderr",
     "output_type": "stream",
     "text": [
      "<ipython-input-32-6e421904cc0e>:2: SettingWithCopyWarning: \n",
      "A value is trying to be set on a copy of a slice from a DataFrame.\n",
      "Try using .loc[row_indexer,col_indexer] = value instead\n",
      "\n",
      "See the caveats in the documentation: https://pandas.pydata.org/pandas-docs/stable/user_guide/indexing.html#returning-a-view-versus-a-copy\n",
      "  req_updated_books['description'] = req_updated_books['description'].apply(lambda x: x.split())\n"
     ]
    }
   ],
   "source": [
    "### DESCRIPTION SETTING\n",
    "req_updated_books['description'] = req_updated_books['description'].apply(lambda x: x.split())"
   ]
  },
  {
   "cell_type": "code",
   "execution_count": null,
   "id": "b20f255c",
   "metadata": {
    "execution": {
     "iopub.execute_input": "2025-03-23T17:34:36.448874Z",
     "iopub.status.busy": "2025-03-23T17:34:36.448602Z",
     "iopub.status.idle": "2025-03-23T17:34:36.460450Z",
     "shell.execute_reply": "2025-03-23T17:34:36.459634Z"
    },
    "papermill": {
     "duration": 0.031968,
     "end_time": "2025-03-23T17:34:36.461896",
     "exception": false,
     "start_time": "2025-03-23T17:34:36.429928",
     "status": "completed"
    },
    "tags": []
   },
   "outputs": [
    {
     "data": {
      "text/html": [
       "<div>\n",
       "<style scoped>\n",
       "    .dataframe tbody tr th:only-of-type {\n",
       "        vertical-align: middle;\n",
       "    }\n",
       "\n",
       "    .dataframe tbody tr th {\n",
       "        vertical-align: top;\n",
       "    }\n",
       "\n",
       "    .dataframe thead th {\n",
       "        text-align: right;\n",
       "    }\n",
       "</style>\n",
       "<table border=\"1\" class=\"dataframe\">\n",
       "  <thead>\n",
       "    <tr style=\"text-align: right;\">\n",
       "      <th></th>\n",
       "      <th>isbn</th>\n",
       "      <th>title</th>\n",
       "      <th>author</th>\n",
       "      <th>genres</th>\n",
       "      <th>language</th>\n",
       "      <th>characters</th>\n",
       "      <th>description</th>\n",
       "      <th>awards</th>\n",
       "      <th>coverImg</th>\n",
       "      <th>setting</th>\n",
       "      <th>rating</th>\n",
       "      <th>numRatings</th>\n",
       "    </tr>\n",
       "  </thead>\n",
       "  <tbody>\n",
       "    <tr>\n",
       "      <th>0</th>\n",
       "      <td>9780439023481</td>\n",
       "      <td>The Hunger Games</td>\n",
       "      <td>Suzanne Collins</td>\n",
       "      <td>['Young Adult', 'Fiction', 'Dystopia', 'Fantas...</td>\n",
       "      <td>English</td>\n",
       "      <td>['Katniss Everdeen', 'Peeta Mellark', 'Cato (H...</td>\n",
       "      <td>[WINNING, MEANS, FAME, AND, FORTUNE.LOSING, ME...</td>\n",
       "      <td>['Locus Award Nominee for Best Young Adult Boo...</td>\n",
       "      <td>https://i.gr-assets.com/images/S/compressed.ph...</td>\n",
       "      <td>['District 12, Panem', 'Capitol, Panem', 'Pane...</td>\n",
       "      <td>4.33</td>\n",
       "      <td>6376780</td>\n",
       "    </tr>\n",
       "  </tbody>\n",
       "</table>\n",
       "</div>"
      ],
      "text/plain": [
       "            isbn             title           author  \\\n",
       "0  9780439023481  The Hunger Games  Suzanne Collins   \n",
       "\n",
       "                                              genres language  \\\n",
       "0  ['Young Adult', 'Fiction', 'Dystopia', 'Fantas...  English   \n",
       "\n",
       "                                          characters  \\\n",
       "0  ['Katniss Everdeen', 'Peeta Mellark', 'Cato (H...   \n",
       "\n",
       "                                         description  \\\n",
       "0  [WINNING, MEANS, FAME, AND, FORTUNE.LOSING, ME...   \n",
       "\n",
       "                                              awards  \\\n",
       "0  ['Locus Award Nominee for Best Young Adult Boo...   \n",
       "\n",
       "                                            coverImg  \\\n",
       "0  https://i.gr-assets.com/images/S/compressed.ph...   \n",
       "\n",
       "                                             setting  rating  numRatings  \n",
       "0  ['District 12, Panem', 'Capitol, Panem', 'Pane...    4.33     6376780  "
      ]
     },
     "execution_count": 33,
     "metadata": {},
     "output_type": "execute_result"
    }
   ],
   "source": [
    "req_updated_books.head(1)"
   ]
  },
  {
   "cell_type": "code",
   "execution_count": null,
   "id": "9c8a1a40",
   "metadata": {
    "execution": {
     "iopub.execute_input": "2025-03-23T17:34:36.500976Z",
     "iopub.status.busy": "2025-03-23T17:34:36.500664Z",
     "iopub.status.idle": "2025-03-23T17:34:36.504216Z",
     "shell.execute_reply": "2025-03-23T17:34:36.503388Z"
    },
    "papermill": {
     "duration": 0.023986,
     "end_time": "2025-03-23T17:34:36.505592",
     "exception": false,
     "start_time": "2025-03-23T17:34:36.481606",
     "status": "completed"
    },
    "tags": []
   },
   "outputs": [],
   "source": [
    "### CONVERTING STRING TO LIST\n",
    "def convert_to_list(text):\n",
    "    return [text]\n"
   ]
  },
  {
   "cell_type": "code",
   "execution_count": null,
   "id": "91457887",
   "metadata": {
    "execution": {
     "iopub.execute_input": "2025-03-23T17:34:36.543082Z",
     "iopub.status.busy": "2025-03-23T17:34:36.542779Z",
     "iopub.status.idle": "2025-03-23T17:34:36.571212Z",
     "shell.execute_reply": "2025-03-23T17:34:36.570308Z"
    },
    "papermill": {
     "duration": 0.048802,
     "end_time": "2025-03-23T17:34:36.572591",
     "exception": false,
     "start_time": "2025-03-23T17:34:36.523789",
     "status": "completed"
    },
    "tags": []
   },
   "outputs": [
    {
     "name": "stderr",
     "output_type": "stream",
     "text": [
      "<ipython-input-35-ee804ae200d6>:1: SettingWithCopyWarning: \n",
      "A value is trying to be set on a copy of a slice from a DataFrame.\n",
      "Try using .loc[row_indexer,col_indexer] = value instead\n",
      "\n",
      "See the caveats in the documentation: https://pandas.pydata.org/pandas-docs/stable/user_guide/indexing.html#returning-a-view-versus-a-copy\n",
      "  req_updated_books['author'] = req_updated_books['author'].apply(convert_to_list)\n",
      "<ipython-input-35-ee804ae200d6>:2: SettingWithCopyWarning: \n",
      "A value is trying to be set on a copy of a slice from a DataFrame.\n",
      "Try using .loc[row_indexer,col_indexer] = value instead\n",
      "\n",
      "See the caveats in the documentation: https://pandas.pydata.org/pandas-docs/stable/user_guide/indexing.html#returning-a-view-versus-a-copy\n",
      "  req_updated_books['language'] = req_updated_books['language'].apply(convert_to_list)\n"
     ]
    }
   ],
   "source": [
    "req_updated_books['author'] = req_updated_books['author'].apply(convert_to_list)\n",
    "req_updated_books['language'] = req_updated_books['language'].apply(convert_to_list)"
   ]
  },
  {
   "cell_type": "code",
   "execution_count": null,
   "id": "40d33754",
   "metadata": {
    "execution": {
     "iopub.execute_input": "2025-03-23T17:34:36.610601Z",
     "iopub.status.busy": "2025-03-23T17:34:36.610299Z",
     "iopub.status.idle": "2025-03-23T17:34:36.623455Z",
     "shell.execute_reply": "2025-03-23T17:34:36.622563Z"
    },
    "papermill": {
     "duration": 0.033691,
     "end_time": "2025-03-23T17:34:36.624845",
     "exception": false,
     "start_time": "2025-03-23T17:34:36.591154",
     "status": "completed"
    },
    "tags": []
   },
   "outputs": [
    {
     "data": {
      "text/html": [
       "<div>\n",
       "<style scoped>\n",
       "    .dataframe tbody tr th:only-of-type {\n",
       "        vertical-align: middle;\n",
       "    }\n",
       "\n",
       "    .dataframe tbody tr th {\n",
       "        vertical-align: top;\n",
       "    }\n",
       "\n",
       "    .dataframe thead th {\n",
       "        text-align: right;\n",
       "    }\n",
       "</style>\n",
       "<table border=\"1\" class=\"dataframe\">\n",
       "  <thead>\n",
       "    <tr style=\"text-align: right;\">\n",
       "      <th></th>\n",
       "      <th>isbn</th>\n",
       "      <th>title</th>\n",
       "      <th>author</th>\n",
       "      <th>genres</th>\n",
       "      <th>language</th>\n",
       "      <th>characters</th>\n",
       "      <th>description</th>\n",
       "      <th>awards</th>\n",
       "      <th>coverImg</th>\n",
       "      <th>setting</th>\n",
       "      <th>rating</th>\n",
       "      <th>numRatings</th>\n",
       "    </tr>\n",
       "  </thead>\n",
       "  <tbody>\n",
       "    <tr>\n",
       "      <th>0</th>\n",
       "      <td>9780439023481</td>\n",
       "      <td>The Hunger Games</td>\n",
       "      <td>[Suzanne Collins]</td>\n",
       "      <td>['Young Adult', 'Fiction', 'Dystopia', 'Fantas...</td>\n",
       "      <td>[English]</td>\n",
       "      <td>['Katniss Everdeen', 'Peeta Mellark', 'Cato (H...</td>\n",
       "      <td>[WINNING, MEANS, FAME, AND, FORTUNE.LOSING, ME...</td>\n",
       "      <td>['Locus Award Nominee for Best Young Adult Boo...</td>\n",
       "      <td>https://i.gr-assets.com/images/S/compressed.ph...</td>\n",
       "      <td>['District 12, Panem', 'Capitol, Panem', 'Pane...</td>\n",
       "      <td>4.33</td>\n",
       "      <td>6376780</td>\n",
       "    </tr>\n",
       "  </tbody>\n",
       "</table>\n",
       "</div>"
      ],
      "text/plain": [
       "            isbn             title             author  \\\n",
       "0  9780439023481  The Hunger Games  [Suzanne Collins]   \n",
       "\n",
       "                                              genres   language  \\\n",
       "0  ['Young Adult', 'Fiction', 'Dystopia', 'Fantas...  [English]   \n",
       "\n",
       "                                          characters  \\\n",
       "0  ['Katniss Everdeen', 'Peeta Mellark', 'Cato (H...   \n",
       "\n",
       "                                         description  \\\n",
       "0  [WINNING, MEANS, FAME, AND, FORTUNE.LOSING, ME...   \n",
       "\n",
       "                                              awards  \\\n",
       "0  ['Locus Award Nominee for Best Young Adult Boo...   \n",
       "\n",
       "                                            coverImg  \\\n",
       "0  https://i.gr-assets.com/images/S/compressed.ph...   \n",
       "\n",
       "                                             setting  rating  numRatings  \n",
       "0  ['District 12, Panem', 'Capitol, Panem', 'Pane...    4.33     6376780  "
      ]
     },
     "execution_count": 36,
     "metadata": {},
     "output_type": "execute_result"
    }
   ],
   "source": [
    "req_updated_books.head(1)"
   ]
  },
  {
   "cell_type": "code",
   "execution_count": null,
   "id": "22d3e356",
   "metadata": {
    "execution": {
     "iopub.execute_input": "2025-03-23T17:34:36.663421Z",
     "iopub.status.busy": "2025-03-23T17:34:36.663108Z",
     "iopub.status.idle": "2025-03-23T17:34:36.666890Z",
     "shell.execute_reply": "2025-03-23T17:34:36.666200Z"
    },
    "papermill": {
     "duration": 0.024103,
     "end_time": "2025-03-23T17:34:36.668109",
     "exception": false,
     "start_time": "2025-03-23T17:34:36.644006",
     "status": "completed"
    },
    "tags": []
   },
   "outputs": [],
   "source": [
    "### SPACE REMOVING\n",
    "def remove_space_author(L):\n",
    "    L1 = []\n",
    "    for word in L:\n",
    "        cleaned_word = word.replace(\" \", \"\")\n",
    "        L1.append(cleaned_word)\n",
    "    return L1"
   ]
  },
  {
   "cell_type": "code",
   "execution_count": null,
   "id": "664bd217",
   "metadata": {
    "execution": {
     "iopub.execute_input": "2025-03-23T17:34:36.705870Z",
     "iopub.status.busy": "2025-03-23T17:34:36.705611Z",
     "iopub.status.idle": "2025-03-23T17:34:36.808471Z",
     "shell.execute_reply": "2025-03-23T17:34:36.807488Z"
    },
    "papermill": {
     "duration": 0.12326,
     "end_time": "2025-03-23T17:34:36.809802",
     "exception": false,
     "start_time": "2025-03-23T17:34:36.686542",
     "status": "completed"
    },
    "tags": []
   },
   "outputs": [
    {
     "name": "stderr",
     "output_type": "stream",
     "text": [
      "<ipython-input-38-d61dc9c92d4d>:1: SettingWithCopyWarning: \n",
      "A value is trying to be set on a copy of a slice from a DataFrame.\n",
      "Try using .loc[row_indexer,col_indexer] = value instead\n",
      "\n",
      "See the caveats in the documentation: https://pandas.pydata.org/pandas-docs/stable/user_guide/indexing.html#returning-a-view-versus-a-copy\n",
      "  req_updated_books['author'] = req_updated_books['author'].apply(remove_space_author)\n"
     ]
    }
   ],
   "source": [
    "req_updated_books['author'] = req_updated_books['author'].apply(remove_space_author)"
   ]
  },
  {
   "cell_type": "code",
   "execution_count": null,
   "id": "e8d0ee20",
   "metadata": {
    "execution": {
     "iopub.execute_input": "2025-03-23T17:34:36.849162Z",
     "iopub.status.busy": "2025-03-23T17:34:36.848889Z",
     "iopub.status.idle": "2025-03-23T17:34:36.855424Z",
     "shell.execute_reply": "2025-03-23T17:34:36.854691Z"
    },
    "papermill": {
     "duration": 0.028019,
     "end_time": "2025-03-23T17:34:36.856734",
     "exception": false,
     "start_time": "2025-03-23T17:34:36.828715",
     "status": "completed"
    },
    "tags": []
   },
   "outputs": [
    {
     "data": {
      "text/plain": [
       "0                           [SuzanneCollins]\n",
       "1    [J.K.Rowling,MaryGrandPré(Illustrator)]\n",
       "Name: author, dtype: object"
      ]
     },
     "execution_count": 39,
     "metadata": {},
     "output_type": "execute_result"
    }
   ],
   "source": [
    "req_updated_books['author'].head(2)"
   ]
  },
  {
   "cell_type": "code",
   "execution_count": null,
   "id": "823a50bf",
   "metadata": {
    "execution": {
     "iopub.execute_input": "2025-03-23T17:34:36.896842Z",
     "iopub.status.busy": "2025-03-23T17:34:36.896578Z",
     "iopub.status.idle": "2025-03-23T17:34:36.900489Z",
     "shell.execute_reply": "2025-03-23T17:34:36.899677Z"
    },
    "papermill": {
     "duration": 0.024823,
     "end_time": "2025-03-23T17:34:36.902029",
     "exception": false,
     "start_time": "2025-03-23T17:34:36.877206",
     "status": "completed"
    },
    "tags": []
   },
   "outputs": [],
   "source": [
    "def remove_space_genera(genres_string):\n",
    "    # Remove square brackets and split the string by commas\n",
    "    genres_list = genres_string.strip(\"[]\").split(\", \")\n",
    "    \n",
    "    # Remove spaces and single quotes from each genre\n",
    "    cleaned_genres = [genre.strip(\"'\").replace(\" \", \"\") for genre in genres_list]\n",
    "    \n",
    "    return cleaned_genres"
   ]
  },
  {
   "cell_type": "code",
   "execution_count": null,
   "id": "db300945",
   "metadata": {
    "execution": {
     "iopub.execute_input": "2025-03-23T17:34:36.939673Z",
     "iopub.status.busy": "2025-03-23T17:34:36.939408Z",
     "iopub.status.idle": "2025-03-23T17:34:36.989281Z",
     "shell.execute_reply": "2025-03-23T17:34:36.988315Z"
    },
    "papermill": {
     "duration": 0.070276,
     "end_time": "2025-03-23T17:34:36.990751",
     "exception": false,
     "start_time": "2025-03-23T17:34:36.920475",
     "status": "completed"
    },
    "tags": []
   },
   "outputs": [
    {
     "name": "stderr",
     "output_type": "stream",
     "text": [
      "<ipython-input-41-0d9c0a311743>:1: SettingWithCopyWarning: \n",
      "A value is trying to be set on a copy of a slice from a DataFrame.\n",
      "Try using .loc[row_indexer,col_indexer] = value instead\n",
      "\n",
      "See the caveats in the documentation: https://pandas.pydata.org/pandas-docs/stable/user_guide/indexing.html#returning-a-view-versus-a-copy\n",
      "  req_updated_books['genres'] = req_updated_books['genres'].apply(remove_space_genera)\n"
     ]
    }
   ],
   "source": [
    "req_updated_books['genres'] = req_updated_books['genres'].apply(remove_space_genera)"
   ]
  },
  {
   "cell_type": "code",
   "execution_count": null,
   "id": "4d72e2ee",
   "metadata": {
    "execution": {
     "iopub.execute_input": "2025-03-23T17:34:37.031373Z",
     "iopub.status.busy": "2025-03-23T17:34:37.031018Z",
     "iopub.status.idle": "2025-03-23T17:34:37.037184Z",
     "shell.execute_reply": "2025-03-23T17:34:37.036410Z"
    },
    "papermill": {
     "duration": 0.027437,
     "end_time": "2025-03-23T17:34:37.038586",
     "exception": false,
     "start_time": "2025-03-23T17:34:37.011149",
     "status": "completed"
    },
    "tags": []
   },
   "outputs": [
    {
     "data": {
      "text/plain": [
       "0    [YoungAdult, Fiction, Dystopia, Fantasy, Scien...\n",
       "1    [Fantasy, YoungAdult, Fiction, Magic, Children...\n",
       "Name: genres, dtype: object"
      ]
     },
     "execution_count": 42,
     "metadata": {},
     "output_type": "execute_result"
    }
   ],
   "source": [
    "req_updated_books['genres'].head(2)"
   ]
  },
  {
   "cell_type": "code",
   "execution_count": null,
   "id": "894e23f8",
   "metadata": {
    "execution": {
     "iopub.execute_input": "2025-03-23T17:34:37.076851Z",
     "iopub.status.busy": "2025-03-23T17:34:37.076588Z",
     "iopub.status.idle": "2025-03-23T17:34:37.080463Z",
     "shell.execute_reply": "2025-03-23T17:34:37.079772Z"
    },
    "papermill": {
     "duration": 0.024542,
     "end_time": "2025-03-23T17:34:37.081607",
     "exception": false,
     "start_time": "2025-03-23T17:34:37.057065",
     "status": "completed"
    },
    "tags": []
   },
   "outputs": [],
   "source": [
    "def remove_spaces_characters(characters_string):\n",
    "    # Split the string by comma and remove leading/trailing spaces and brackets\n",
    "    characters_list = characters_string.strip(\"[]\").split(\", \")\n",
    "\n",
    "    # Remove spaces from each word in the list\n",
    "    characters_list = [character.replace(\" \", \"\") for character in characters_list]\n",
    "\n",
    "    # Join the characters back into a string\n",
    "    cleaned_characters_string = ', '.join(characters_list)\n",
    "\n",
    "    return [cleaned_characters_string]\n"
   ]
  },
  {
   "cell_type": "code",
   "execution_count": null,
   "id": "292ae529",
   "metadata": {
    "execution": {
     "iopub.execute_input": "2025-03-23T17:34:37.119837Z",
     "iopub.status.busy": "2025-03-23T17:34:37.119561Z",
     "iopub.status.idle": "2025-03-23T17:34:37.146272Z",
     "shell.execute_reply": "2025-03-23T17:34:37.145181Z"
    },
    "papermill": {
     "duration": 0.047228,
     "end_time": "2025-03-23T17:34:37.147459",
     "exception": false,
     "start_time": "2025-03-23T17:34:37.100231",
     "status": "completed"
    },
    "tags": []
   },
   "outputs": [
    {
     "name": "stderr",
     "output_type": "stream",
     "text": [
      "<ipython-input-44-962106c38dce>:1: SettingWithCopyWarning: \n",
      "A value is trying to be set on a copy of a slice from a DataFrame.\n",
      "Try using .loc[row_indexer,col_indexer] = value instead\n",
      "\n",
      "See the caveats in the documentation: https://pandas.pydata.org/pandas-docs/stable/user_guide/indexing.html#returning-a-view-versus-a-copy\n",
      "  req_updated_books['characters'] = req_updated_books['characters'].apply(remove_spaces_characters)\n"
     ]
    }
   ],
   "source": [
    "req_updated_books['characters'] = req_updated_books['characters'].apply(remove_spaces_characters)\n",
    "# req_updated_books['characters']"
   ]
  },
  {
   "cell_type": "code",
   "execution_count": null,
   "id": "d1cdd329",
   "metadata": {
    "execution": {
     "iopub.execute_input": "2025-03-23T17:34:37.185324Z",
     "iopub.status.busy": "2025-03-23T17:34:37.185040Z",
     "iopub.status.idle": "2025-03-23T17:34:37.190621Z",
     "shell.execute_reply": "2025-03-23T17:34:37.189804Z"
    },
    "papermill": {
     "duration": 0.02581,
     "end_time": "2025-03-23T17:34:37.191844",
     "exception": false,
     "start_time": "2025-03-23T17:34:37.166034",
     "status": "completed"
    },
    "tags": []
   },
   "outputs": [
    {
     "data": {
      "text/plain": [
       "0    ['KatnissEverdeen', 'PeetaMellark', 'Cato(Hung...\n",
       "Name: characters, dtype: object"
      ]
     },
     "execution_count": 45,
     "metadata": {},
     "output_type": "execute_result"
    }
   ],
   "source": [
    "req_updated_books['characters'].head(1)"
   ]
  },
  {
   "cell_type": "code",
   "execution_count": null,
   "id": "5b87127c",
   "metadata": {
    "execution": {
     "iopub.execute_input": "2025-03-23T17:34:37.229506Z",
     "iopub.status.busy": "2025-03-23T17:34:37.229278Z",
     "iopub.status.idle": "2025-03-23T17:34:37.233546Z",
     "shell.execute_reply": "2025-03-23T17:34:37.232886Z"
    },
    "papermill": {
     "duration": 0.024404,
     "end_time": "2025-03-23T17:34:37.234751",
     "exception": false,
     "start_time": "2025-03-23T17:34:37.210347",
     "status": "completed"
    },
    "tags": []
   },
   "outputs": [
    {
     "data": {
      "text/plain": [
       "(11300, 12)"
      ]
     },
     "execution_count": 46,
     "metadata": {},
     "output_type": "execute_result"
    }
   ],
   "source": [
    "req_updated_books.shape"
   ]
  },
  {
   "cell_type": "code",
   "execution_count": null,
   "id": "0d95fc90",
   "metadata": {
    "execution": {
     "iopub.execute_input": "2025-03-23T17:34:37.272563Z",
     "iopub.status.busy": "2025-03-23T17:34:37.272318Z",
     "iopub.status.idle": "2025-03-23T17:34:37.298579Z",
     "shell.execute_reply": "2025-03-23T17:34:37.297780Z"
    },
    "papermill": {
     "duration": 0.04653,
     "end_time": "2025-03-23T17:34:37.299803",
     "exception": false,
     "start_time": "2025-03-23T17:34:37.253273",
     "status": "completed"
    },
    "tags": []
   },
   "outputs": [
    {
     "data": {
      "text/html": [
       "<div>\n",
       "<style scoped>\n",
       "    .dataframe tbody tr th:only-of-type {\n",
       "        vertical-align: middle;\n",
       "    }\n",
       "\n",
       "    .dataframe tbody tr th {\n",
       "        vertical-align: top;\n",
       "    }\n",
       "\n",
       "    .dataframe thead th {\n",
       "        text-align: right;\n",
       "    }\n",
       "</style>\n",
       "<table border=\"1\" class=\"dataframe\">\n",
       "  <thead>\n",
       "    <tr style=\"text-align: right;\">\n",
       "      <th></th>\n",
       "      <th>isbn</th>\n",
       "      <th>title</th>\n",
       "      <th>author</th>\n",
       "      <th>genres</th>\n",
       "      <th>language</th>\n",
       "      <th>characters</th>\n",
       "      <th>description</th>\n",
       "      <th>awards</th>\n",
       "      <th>coverImg</th>\n",
       "      <th>setting</th>\n",
       "      <th>rating</th>\n",
       "      <th>numRatings</th>\n",
       "    </tr>\n",
       "  </thead>\n",
       "  <tbody>\n",
       "    <tr>\n",
       "      <th>0</th>\n",
       "      <td>9780439023481</td>\n",
       "      <td>The Hunger Games</td>\n",
       "      <td>[SuzanneCollins]</td>\n",
       "      <td>[YoungAdult, Fiction, Dystopia, Fantasy, Scien...</td>\n",
       "      <td>[English]</td>\n",
       "      <td>['KatnissEverdeen', 'PeetaMellark', 'Cato(Hung...</td>\n",
       "      <td>[WINNING, MEANS, FAME, AND, FORTUNE.LOSING, ME...</td>\n",
       "      <td>['Locus Award Nominee for Best Young Adult Boo...</td>\n",
       "      <td>https://i.gr-assets.com/images/S/compressed.ph...</td>\n",
       "      <td>['District 12, Panem', 'Capitol, Panem', 'Pane...</td>\n",
       "      <td>4.33</td>\n",
       "      <td>6376780</td>\n",
       "    </tr>\n",
       "    <tr>\n",
       "      <th>1</th>\n",
       "      <td>9780439358071</td>\n",
       "      <td>Harry Potter and the Order of the Phoenix</td>\n",
       "      <td>[J.K.Rowling,MaryGrandPré(Illustrator)]</td>\n",
       "      <td>[Fantasy, YoungAdult, Fiction, Magic, Children...</td>\n",
       "      <td>[English]</td>\n",
       "      <td>['SiriusBlack', 'DracoMalfoy', 'RonWeasley', '...</td>\n",
       "      <td>[There, is, a, door, at, the, end, of, a, sile...</td>\n",
       "      <td>['Bram Stoker Award for Works for Young Reader...</td>\n",
       "      <td>https://i.gr-assets.com/images/S/compressed.ph...</td>\n",
       "      <td>['Hogwarts School of Witchcraft and Wizardry (...</td>\n",
       "      <td>4.50</td>\n",
       "      <td>2507623</td>\n",
       "    </tr>\n",
       "    <tr>\n",
       "      <th>2</th>\n",
       "      <td>9999999999999</td>\n",
       "      <td>To Kill a Mockingbird</td>\n",
       "      <td>[HarperLee]</td>\n",
       "      <td>[Classics, Fiction, HistoricalFiction, School,...</td>\n",
       "      <td>[English]</td>\n",
       "      <td>['ScoutFinch', 'AtticusFinch', 'JemFinch', 'Ar...</td>\n",
       "      <td>[The, unforgettable, novel, of, a, childhood, ...</td>\n",
       "      <td>['Pulitzer Prize for Fiction (1961)', 'Audie A...</td>\n",
       "      <td>https://i.gr-assets.com/images/S/compressed.ph...</td>\n",
       "      <td>['Maycomb, Alabama (United States)']</td>\n",
       "      <td>4.28</td>\n",
       "      <td>4501075</td>\n",
       "    </tr>\n",
       "    <tr>\n",
       "      <th>4</th>\n",
       "      <td>9780316015844</td>\n",
       "      <td>Twilight</td>\n",
       "      <td>[StephenieMeyer]</td>\n",
       "      <td>[YoungAdult, Fantasy, Romance, Vampires, Ficti...</td>\n",
       "      <td>[English]</td>\n",
       "      <td>['EdwardCullen', 'JacobBlack', 'Laurent', 'Ren...</td>\n",
       "      <td>[About, three, things, I, was, absolutely, pos...</td>\n",
       "      <td>['Georgia Peach Book Award (2007)', 'Buxtehude...</td>\n",
       "      <td>https://i.gr-assets.com/images/S/compressed.ph...</td>\n",
       "      <td>['Forks, Washington (United States)', 'Phoenix...</td>\n",
       "      <td>3.60</td>\n",
       "      <td>4964519</td>\n",
       "    </tr>\n",
       "    <tr>\n",
       "      <th>5</th>\n",
       "      <td>9780375831003</td>\n",
       "      <td>The Book Thief</td>\n",
       "      <td>[MarkusZusak(GoodreadsAuthor)]</td>\n",
       "      <td>[HistoricalFiction, Fiction, YoungAdult, Histo...</td>\n",
       "      <td>[English]</td>\n",
       "      <td>['LieselMeminger', 'HansHubermann', 'RudyStein...</td>\n",
       "      <td>[Librarian's, note:, An, alternate, cover, edi...</td>\n",
       "      <td>['National Jewish Book Award for Children’s an...</td>\n",
       "      <td>https://i.gr-assets.com/images/S/compressed.ph...</td>\n",
       "      <td>['Molching (Germany)', 'Germany']</td>\n",
       "      <td>4.37</td>\n",
       "      <td>1834276</td>\n",
       "    </tr>\n",
       "    <tr>\n",
       "      <th>...</th>\n",
       "      <td>...</td>\n",
       "      <td>...</td>\n",
       "      <td>...</td>\n",
       "      <td>...</td>\n",
       "      <td>...</td>\n",
       "      <td>...</td>\n",
       "      <td>...</td>\n",
       "      <td>...</td>\n",
       "      <td>...</td>\n",
       "      <td>...</td>\n",
       "      <td>...</td>\n",
       "      <td>...</td>\n",
       "    </tr>\n",
       "    <tr>\n",
       "      <th>47310</th>\n",
       "      <td>9781250078285</td>\n",
       "      <td>Wires and Nerve, Volume 2: Gone Rogue</td>\n",
       "      <td>[MarissaMeyer(GoodreadsAuthor),StephenGilpin(I...</td>\n",
       "      <td>[GraphicNovels, YoungAdult, ScienceFiction, Fa...</td>\n",
       "      <td>[English]</td>\n",
       "      <td>[]</td>\n",
       "      <td>[Iko, –, an, audacious, android, and, best, fr...</td>\n",
       "      <td>['Goodreads Choice Award Nominee for Graphic N...</td>\n",
       "      <td>https://i.gr-assets.com/images/S/compressed.ph...</td>\n",
       "      <td>[]</td>\n",
       "      <td>4.23</td>\n",
       "      <td>11512</td>\n",
       "    </tr>\n",
       "    <tr>\n",
       "      <th>47322</th>\n",
       "      <td>9780684839387</td>\n",
       "      <td>On Death and Dying</td>\n",
       "      <td>[ElisabethKübler-Ross]</td>\n",
       "      <td>[Psychology, Nonfiction, Death, Philosophy, Se...</td>\n",
       "      <td>[English]</td>\n",
       "      <td>[]</td>\n",
       "      <td>[One, of, the, most, important, psychological,...</td>\n",
       "      <td>[]</td>\n",
       "      <td>https://i.gr-assets.com/images/S/compressed.ph...</td>\n",
       "      <td>[]</td>\n",
       "      <td>4.17</td>\n",
       "      <td>24058</td>\n",
       "    </tr>\n",
       "    <tr>\n",
       "      <th>47342</th>\n",
       "      <td>9781447256274</td>\n",
       "      <td>The Burning Page</td>\n",
       "      <td>[GenevieveCogman(GoodreadsAuthor)]</td>\n",
       "      <td>[Fantasy, Fiction, Steampunk, Mystery, UrbanFa...</td>\n",
       "      <td>[English]</td>\n",
       "      <td>[]</td>\n",
       "      <td>[The, third, title, in, Genevieve, Cogman's, c...</td>\n",
       "      <td>[]</td>\n",
       "      <td>https://i.gr-assets.com/images/S/compressed.ph...</td>\n",
       "      <td>[]</td>\n",
       "      <td>4.05</td>\n",
       "      <td>12808</td>\n",
       "    </tr>\n",
       "    <tr>\n",
       "      <th>47377</th>\n",
       "      <td>9781760111236</td>\n",
       "      <td>The Natural Way of Things</td>\n",
       "      <td>[CharlotteWood]</td>\n",
       "      <td>[Fiction, Dystopia, Australia, Feminism, Scien...</td>\n",
       "      <td>[English]</td>\n",
       "      <td>[]</td>\n",
       "      <td>[Two, women, awaken, from, a, drugged, sleep, ...</td>\n",
       "      <td>['Miles Franklin Literary Award Nominee for Li...</td>\n",
       "      <td>https://i.gr-assets.com/images/S/compressed.ph...</td>\n",
       "      <td>[]</td>\n",
       "      <td>3.53</td>\n",
       "      <td>10894</td>\n",
       "    </tr>\n",
       "    <tr>\n",
       "      <th>47382</th>\n",
       "      <td>9780937611357</td>\n",
       "      <td>Heal Your Body: The Mental Causes for Physical...</td>\n",
       "      <td>[LouiseL.Hay]</td>\n",
       "      <td>[SelfHelp, Health, Nonfiction, Spirituality, P...</td>\n",
       "      <td>[English]</td>\n",
       "      <td>[]</td>\n",
       "      <td>[Heal, Your, Body, is, a, fresh, and, easy, st...</td>\n",
       "      <td>[]</td>\n",
       "      <td>https://i.gr-assets.com/images/S/compressed.ph...</td>\n",
       "      <td>[]</td>\n",
       "      <td>4.36</td>\n",
       "      <td>14868</td>\n",
       "    </tr>\n",
       "  </tbody>\n",
       "</table>\n",
       "<p>11300 rows × 12 columns</p>\n",
       "</div>"
      ],
      "text/plain": [
       "                isbn                                              title  \\\n",
       "0      9780439023481                                   The Hunger Games   \n",
       "1      9780439358071          Harry Potter and the Order of the Phoenix   \n",
       "2      9999999999999                              To Kill a Mockingbird   \n",
       "4      9780316015844                                           Twilight   \n",
       "5      9780375831003                                     The Book Thief   \n",
       "...              ...                                                ...   \n",
       "47310  9781250078285              Wires and Nerve, Volume 2: Gone Rogue   \n",
       "47322  9780684839387                                 On Death and Dying   \n",
       "47342  9781447256274                                   The Burning Page   \n",
       "47377  9781760111236                          The Natural Way of Things   \n",
       "47382  9780937611357  Heal Your Body: The Mental Causes for Physical...   \n",
       "\n",
       "                                                  author  \\\n",
       "0                                       [SuzanneCollins]   \n",
       "1                [J.K.Rowling,MaryGrandPré(Illustrator)]   \n",
       "2                                            [HarperLee]   \n",
       "4                                       [StephenieMeyer]   \n",
       "5                         [MarkusZusak(GoodreadsAuthor)]   \n",
       "...                                                  ...   \n",
       "47310  [MarissaMeyer(GoodreadsAuthor),StephenGilpin(I...   \n",
       "47322                             [ElisabethKübler-Ross]   \n",
       "47342                 [GenevieveCogman(GoodreadsAuthor)]   \n",
       "47377                                    [CharlotteWood]   \n",
       "47382                                      [LouiseL.Hay]   \n",
       "\n",
       "                                                  genres   language  \\\n",
       "0      [YoungAdult, Fiction, Dystopia, Fantasy, Scien...  [English]   \n",
       "1      [Fantasy, YoungAdult, Fiction, Magic, Children...  [English]   \n",
       "2      [Classics, Fiction, HistoricalFiction, School,...  [English]   \n",
       "4      [YoungAdult, Fantasy, Romance, Vampires, Ficti...  [English]   \n",
       "5      [HistoricalFiction, Fiction, YoungAdult, Histo...  [English]   \n",
       "...                                                  ...        ...   \n",
       "47310  [GraphicNovels, YoungAdult, ScienceFiction, Fa...  [English]   \n",
       "47322  [Psychology, Nonfiction, Death, Philosophy, Se...  [English]   \n",
       "47342  [Fantasy, Fiction, Steampunk, Mystery, UrbanFa...  [English]   \n",
       "47377  [Fiction, Dystopia, Australia, Feminism, Scien...  [English]   \n",
       "47382  [SelfHelp, Health, Nonfiction, Spirituality, P...  [English]   \n",
       "\n",
       "                                              characters  \\\n",
       "0      ['KatnissEverdeen', 'PeetaMellark', 'Cato(Hung...   \n",
       "1      ['SiriusBlack', 'DracoMalfoy', 'RonWeasley', '...   \n",
       "2      ['ScoutFinch', 'AtticusFinch', 'JemFinch', 'Ar...   \n",
       "4      ['EdwardCullen', 'JacobBlack', 'Laurent', 'Ren...   \n",
       "5      ['LieselMeminger', 'HansHubermann', 'RudyStein...   \n",
       "...                                                  ...   \n",
       "47310                                                 []   \n",
       "47322                                                 []   \n",
       "47342                                                 []   \n",
       "47377                                                 []   \n",
       "47382                                                 []   \n",
       "\n",
       "                                             description  \\\n",
       "0      [WINNING, MEANS, FAME, AND, FORTUNE.LOSING, ME...   \n",
       "1      [There, is, a, door, at, the, end, of, a, sile...   \n",
       "2      [The, unforgettable, novel, of, a, childhood, ...   \n",
       "4      [About, three, things, I, was, absolutely, pos...   \n",
       "5      [Librarian's, note:, An, alternate, cover, edi...   \n",
       "...                                                  ...   \n",
       "47310  [Iko, –, an, audacious, android, and, best, fr...   \n",
       "47322  [One, of, the, most, important, psychological,...   \n",
       "47342  [The, third, title, in, Genevieve, Cogman's, c...   \n",
       "47377  [Two, women, awaken, from, a, drugged, sleep, ...   \n",
       "47382  [Heal, Your, Body, is, a, fresh, and, easy, st...   \n",
       "\n",
       "                                                  awards  \\\n",
       "0      ['Locus Award Nominee for Best Young Adult Boo...   \n",
       "1      ['Bram Stoker Award for Works for Young Reader...   \n",
       "2      ['Pulitzer Prize for Fiction (1961)', 'Audie A...   \n",
       "4      ['Georgia Peach Book Award (2007)', 'Buxtehude...   \n",
       "5      ['National Jewish Book Award for Children’s an...   \n",
       "...                                                  ...   \n",
       "47310  ['Goodreads Choice Award Nominee for Graphic N...   \n",
       "47322                                                 []   \n",
       "47342                                                 []   \n",
       "47377  ['Miles Franklin Literary Award Nominee for Li...   \n",
       "47382                                                 []   \n",
       "\n",
       "                                                coverImg  \\\n",
       "0      https://i.gr-assets.com/images/S/compressed.ph...   \n",
       "1      https://i.gr-assets.com/images/S/compressed.ph...   \n",
       "2      https://i.gr-assets.com/images/S/compressed.ph...   \n",
       "4      https://i.gr-assets.com/images/S/compressed.ph...   \n",
       "5      https://i.gr-assets.com/images/S/compressed.ph...   \n",
       "...                                                  ...   \n",
       "47310  https://i.gr-assets.com/images/S/compressed.ph...   \n",
       "47322  https://i.gr-assets.com/images/S/compressed.ph...   \n",
       "47342  https://i.gr-assets.com/images/S/compressed.ph...   \n",
       "47377  https://i.gr-assets.com/images/S/compressed.ph...   \n",
       "47382  https://i.gr-assets.com/images/S/compressed.ph...   \n",
       "\n",
       "                                                 setting  rating  numRatings  \n",
       "0      ['District 12, Panem', 'Capitol, Panem', 'Pane...    4.33     6376780  \n",
       "1      ['Hogwarts School of Witchcraft and Wizardry (...    4.50     2507623  \n",
       "2                   ['Maycomb, Alabama (United States)']    4.28     4501075  \n",
       "4      ['Forks, Washington (United States)', 'Phoenix...    3.60     4964519  \n",
       "5                      ['Molching (Germany)', 'Germany']    4.37     1834276  \n",
       "...                                                  ...     ...         ...  \n",
       "47310                                                 []    4.23       11512  \n",
       "47322                                                 []    4.17       24058  \n",
       "47342                                                 []    4.05       12808  \n",
       "47377                                                 []    3.53       10894  \n",
       "47382                                                 []    4.36       14868  \n",
       "\n",
       "[11300 rows x 12 columns]"
      ]
     },
     "execution_count": 47,
     "metadata": {},
     "output_type": "execute_result"
    }
   ],
   "source": [
    "req_updated_books"
   ]
  },
  {
   "cell_type": "code",
   "execution_count": null,
   "id": "ea218a92",
   "metadata": {
    "execution": {
     "iopub.execute_input": "2025-03-23T17:34:37.339705Z",
     "iopub.status.busy": "2025-03-23T17:34:37.339460Z",
     "iopub.status.idle": "2025-03-23T17:34:37.342585Z",
     "shell.execute_reply": "2025-03-23T17:34:37.341963Z"
    },
    "papermill": {
     "duration": 0.024125,
     "end_time": "2025-03-23T17:34:37.343730",
     "exception": false,
     "start_time": "2025-03-23T17:34:37.319605",
     "status": "completed"
    },
    "tags": []
   },
   "outputs": [],
   "source": [
    "req_updated_books.reset_index(drop=True, inplace=True)"
   ]
  },
  {
   "cell_type": "code",
   "execution_count": null,
   "id": "acaae8b2",
   "metadata": {
    "execution": {
     "iopub.execute_input": "2025-03-23T17:34:37.383221Z",
     "iopub.status.busy": "2025-03-23T17:34:37.382980Z",
     "iopub.status.idle": "2025-03-23T17:34:37.409591Z",
     "shell.execute_reply": "2025-03-23T17:34:37.408811Z"
    },
    "papermill": {
     "duration": 0.048098,
     "end_time": "2025-03-23T17:34:37.410913",
     "exception": false,
     "start_time": "2025-03-23T17:34:37.362815",
     "status": "completed"
    },
    "tags": []
   },
   "outputs": [
    {
     "data": {
      "text/html": [
       "<div>\n",
       "<style scoped>\n",
       "    .dataframe tbody tr th:only-of-type {\n",
       "        vertical-align: middle;\n",
       "    }\n",
       "\n",
       "    .dataframe tbody tr th {\n",
       "        vertical-align: top;\n",
       "    }\n",
       "\n",
       "    .dataframe thead th {\n",
       "        text-align: right;\n",
       "    }\n",
       "</style>\n",
       "<table border=\"1\" class=\"dataframe\">\n",
       "  <thead>\n",
       "    <tr style=\"text-align: right;\">\n",
       "      <th></th>\n",
       "      <th>isbn</th>\n",
       "      <th>title</th>\n",
       "      <th>author</th>\n",
       "      <th>genres</th>\n",
       "      <th>language</th>\n",
       "      <th>characters</th>\n",
       "      <th>description</th>\n",
       "      <th>awards</th>\n",
       "      <th>coverImg</th>\n",
       "      <th>setting</th>\n",
       "      <th>rating</th>\n",
       "      <th>numRatings</th>\n",
       "    </tr>\n",
       "  </thead>\n",
       "  <tbody>\n",
       "    <tr>\n",
       "      <th>0</th>\n",
       "      <td>9780439023481</td>\n",
       "      <td>The Hunger Games</td>\n",
       "      <td>[SuzanneCollins]</td>\n",
       "      <td>[YoungAdult, Fiction, Dystopia, Fantasy, Scien...</td>\n",
       "      <td>[English]</td>\n",
       "      <td>['KatnissEverdeen', 'PeetaMellark', 'Cato(Hung...</td>\n",
       "      <td>[WINNING, MEANS, FAME, AND, FORTUNE.LOSING, ME...</td>\n",
       "      <td>['Locus Award Nominee for Best Young Adult Boo...</td>\n",
       "      <td>https://i.gr-assets.com/images/S/compressed.ph...</td>\n",
       "      <td>['District 12, Panem', 'Capitol, Panem', 'Pane...</td>\n",
       "      <td>4.33</td>\n",
       "      <td>6376780</td>\n",
       "    </tr>\n",
       "    <tr>\n",
       "      <th>1</th>\n",
       "      <td>9780439358071</td>\n",
       "      <td>Harry Potter and the Order of the Phoenix</td>\n",
       "      <td>[J.K.Rowling,MaryGrandPré(Illustrator)]</td>\n",
       "      <td>[Fantasy, YoungAdult, Fiction, Magic, Children...</td>\n",
       "      <td>[English]</td>\n",
       "      <td>['SiriusBlack', 'DracoMalfoy', 'RonWeasley', '...</td>\n",
       "      <td>[There, is, a, door, at, the, end, of, a, sile...</td>\n",
       "      <td>['Bram Stoker Award for Works for Young Reader...</td>\n",
       "      <td>https://i.gr-assets.com/images/S/compressed.ph...</td>\n",
       "      <td>['Hogwarts School of Witchcraft and Wizardry (...</td>\n",
       "      <td>4.50</td>\n",
       "      <td>2507623</td>\n",
       "    </tr>\n",
       "    <tr>\n",
       "      <th>2</th>\n",
       "      <td>9999999999999</td>\n",
       "      <td>To Kill a Mockingbird</td>\n",
       "      <td>[HarperLee]</td>\n",
       "      <td>[Classics, Fiction, HistoricalFiction, School,...</td>\n",
       "      <td>[English]</td>\n",
       "      <td>['ScoutFinch', 'AtticusFinch', 'JemFinch', 'Ar...</td>\n",
       "      <td>[The, unforgettable, novel, of, a, childhood, ...</td>\n",
       "      <td>['Pulitzer Prize for Fiction (1961)', 'Audie A...</td>\n",
       "      <td>https://i.gr-assets.com/images/S/compressed.ph...</td>\n",
       "      <td>['Maycomb, Alabama (United States)']</td>\n",
       "      <td>4.28</td>\n",
       "      <td>4501075</td>\n",
       "    </tr>\n",
       "    <tr>\n",
       "      <th>3</th>\n",
       "      <td>9780316015844</td>\n",
       "      <td>Twilight</td>\n",
       "      <td>[StephenieMeyer]</td>\n",
       "      <td>[YoungAdult, Fantasy, Romance, Vampires, Ficti...</td>\n",
       "      <td>[English]</td>\n",
       "      <td>['EdwardCullen', 'JacobBlack', 'Laurent', 'Ren...</td>\n",
       "      <td>[About, three, things, I, was, absolutely, pos...</td>\n",
       "      <td>['Georgia Peach Book Award (2007)', 'Buxtehude...</td>\n",
       "      <td>https://i.gr-assets.com/images/S/compressed.ph...</td>\n",
       "      <td>['Forks, Washington (United States)', 'Phoenix...</td>\n",
       "      <td>3.60</td>\n",
       "      <td>4964519</td>\n",
       "    </tr>\n",
       "    <tr>\n",
       "      <th>4</th>\n",
       "      <td>9780375831003</td>\n",
       "      <td>The Book Thief</td>\n",
       "      <td>[MarkusZusak(GoodreadsAuthor)]</td>\n",
       "      <td>[HistoricalFiction, Fiction, YoungAdult, Histo...</td>\n",
       "      <td>[English]</td>\n",
       "      <td>['LieselMeminger', 'HansHubermann', 'RudyStein...</td>\n",
       "      <td>[Librarian's, note:, An, alternate, cover, edi...</td>\n",
       "      <td>['National Jewish Book Award for Children’s an...</td>\n",
       "      <td>https://i.gr-assets.com/images/S/compressed.ph...</td>\n",
       "      <td>['Molching (Germany)', 'Germany']</td>\n",
       "      <td>4.37</td>\n",
       "      <td>1834276</td>\n",
       "    </tr>\n",
       "    <tr>\n",
       "      <th>...</th>\n",
       "      <td>...</td>\n",
       "      <td>...</td>\n",
       "      <td>...</td>\n",
       "      <td>...</td>\n",
       "      <td>...</td>\n",
       "      <td>...</td>\n",
       "      <td>...</td>\n",
       "      <td>...</td>\n",
       "      <td>...</td>\n",
       "      <td>...</td>\n",
       "      <td>...</td>\n",
       "      <td>...</td>\n",
       "    </tr>\n",
       "    <tr>\n",
       "      <th>11295</th>\n",
       "      <td>9781250078285</td>\n",
       "      <td>Wires and Nerve, Volume 2: Gone Rogue</td>\n",
       "      <td>[MarissaMeyer(GoodreadsAuthor),StephenGilpin(I...</td>\n",
       "      <td>[GraphicNovels, YoungAdult, ScienceFiction, Fa...</td>\n",
       "      <td>[English]</td>\n",
       "      <td>[]</td>\n",
       "      <td>[Iko, –, an, audacious, android, and, best, fr...</td>\n",
       "      <td>['Goodreads Choice Award Nominee for Graphic N...</td>\n",
       "      <td>https://i.gr-assets.com/images/S/compressed.ph...</td>\n",
       "      <td>[]</td>\n",
       "      <td>4.23</td>\n",
       "      <td>11512</td>\n",
       "    </tr>\n",
       "    <tr>\n",
       "      <th>11296</th>\n",
       "      <td>9780684839387</td>\n",
       "      <td>On Death and Dying</td>\n",
       "      <td>[ElisabethKübler-Ross]</td>\n",
       "      <td>[Psychology, Nonfiction, Death, Philosophy, Se...</td>\n",
       "      <td>[English]</td>\n",
       "      <td>[]</td>\n",
       "      <td>[One, of, the, most, important, psychological,...</td>\n",
       "      <td>[]</td>\n",
       "      <td>https://i.gr-assets.com/images/S/compressed.ph...</td>\n",
       "      <td>[]</td>\n",
       "      <td>4.17</td>\n",
       "      <td>24058</td>\n",
       "    </tr>\n",
       "    <tr>\n",
       "      <th>11297</th>\n",
       "      <td>9781447256274</td>\n",
       "      <td>The Burning Page</td>\n",
       "      <td>[GenevieveCogman(GoodreadsAuthor)]</td>\n",
       "      <td>[Fantasy, Fiction, Steampunk, Mystery, UrbanFa...</td>\n",
       "      <td>[English]</td>\n",
       "      <td>[]</td>\n",
       "      <td>[The, third, title, in, Genevieve, Cogman's, c...</td>\n",
       "      <td>[]</td>\n",
       "      <td>https://i.gr-assets.com/images/S/compressed.ph...</td>\n",
       "      <td>[]</td>\n",
       "      <td>4.05</td>\n",
       "      <td>12808</td>\n",
       "    </tr>\n",
       "    <tr>\n",
       "      <th>11298</th>\n",
       "      <td>9781760111236</td>\n",
       "      <td>The Natural Way of Things</td>\n",
       "      <td>[CharlotteWood]</td>\n",
       "      <td>[Fiction, Dystopia, Australia, Feminism, Scien...</td>\n",
       "      <td>[English]</td>\n",
       "      <td>[]</td>\n",
       "      <td>[Two, women, awaken, from, a, drugged, sleep, ...</td>\n",
       "      <td>['Miles Franklin Literary Award Nominee for Li...</td>\n",
       "      <td>https://i.gr-assets.com/images/S/compressed.ph...</td>\n",
       "      <td>[]</td>\n",
       "      <td>3.53</td>\n",
       "      <td>10894</td>\n",
       "    </tr>\n",
       "    <tr>\n",
       "      <th>11299</th>\n",
       "      <td>9780937611357</td>\n",
       "      <td>Heal Your Body: The Mental Causes for Physical...</td>\n",
       "      <td>[LouiseL.Hay]</td>\n",
       "      <td>[SelfHelp, Health, Nonfiction, Spirituality, P...</td>\n",
       "      <td>[English]</td>\n",
       "      <td>[]</td>\n",
       "      <td>[Heal, Your, Body, is, a, fresh, and, easy, st...</td>\n",
       "      <td>[]</td>\n",
       "      <td>https://i.gr-assets.com/images/S/compressed.ph...</td>\n",
       "      <td>[]</td>\n",
       "      <td>4.36</td>\n",
       "      <td>14868</td>\n",
       "    </tr>\n",
       "  </tbody>\n",
       "</table>\n",
       "<p>11300 rows × 12 columns</p>\n",
       "</div>"
      ],
      "text/plain": [
       "                isbn                                              title  \\\n",
       "0      9780439023481                                   The Hunger Games   \n",
       "1      9780439358071          Harry Potter and the Order of the Phoenix   \n",
       "2      9999999999999                              To Kill a Mockingbird   \n",
       "3      9780316015844                                           Twilight   \n",
       "4      9780375831003                                     The Book Thief   \n",
       "...              ...                                                ...   \n",
       "11295  9781250078285              Wires and Nerve, Volume 2: Gone Rogue   \n",
       "11296  9780684839387                                 On Death and Dying   \n",
       "11297  9781447256274                                   The Burning Page   \n",
       "11298  9781760111236                          The Natural Way of Things   \n",
       "11299  9780937611357  Heal Your Body: The Mental Causes for Physical...   \n",
       "\n",
       "                                                  author  \\\n",
       "0                                       [SuzanneCollins]   \n",
       "1                [J.K.Rowling,MaryGrandPré(Illustrator)]   \n",
       "2                                            [HarperLee]   \n",
       "3                                       [StephenieMeyer]   \n",
       "4                         [MarkusZusak(GoodreadsAuthor)]   \n",
       "...                                                  ...   \n",
       "11295  [MarissaMeyer(GoodreadsAuthor),StephenGilpin(I...   \n",
       "11296                             [ElisabethKübler-Ross]   \n",
       "11297                 [GenevieveCogman(GoodreadsAuthor)]   \n",
       "11298                                    [CharlotteWood]   \n",
       "11299                                      [LouiseL.Hay]   \n",
       "\n",
       "                                                  genres   language  \\\n",
       "0      [YoungAdult, Fiction, Dystopia, Fantasy, Scien...  [English]   \n",
       "1      [Fantasy, YoungAdult, Fiction, Magic, Children...  [English]   \n",
       "2      [Classics, Fiction, HistoricalFiction, School,...  [English]   \n",
       "3      [YoungAdult, Fantasy, Romance, Vampires, Ficti...  [English]   \n",
       "4      [HistoricalFiction, Fiction, YoungAdult, Histo...  [English]   \n",
       "...                                                  ...        ...   \n",
       "11295  [GraphicNovels, YoungAdult, ScienceFiction, Fa...  [English]   \n",
       "11296  [Psychology, Nonfiction, Death, Philosophy, Se...  [English]   \n",
       "11297  [Fantasy, Fiction, Steampunk, Mystery, UrbanFa...  [English]   \n",
       "11298  [Fiction, Dystopia, Australia, Feminism, Scien...  [English]   \n",
       "11299  [SelfHelp, Health, Nonfiction, Spirituality, P...  [English]   \n",
       "\n",
       "                                              characters  \\\n",
       "0      ['KatnissEverdeen', 'PeetaMellark', 'Cato(Hung...   \n",
       "1      ['SiriusBlack', 'DracoMalfoy', 'RonWeasley', '...   \n",
       "2      ['ScoutFinch', 'AtticusFinch', 'JemFinch', 'Ar...   \n",
       "3      ['EdwardCullen', 'JacobBlack', 'Laurent', 'Ren...   \n",
       "4      ['LieselMeminger', 'HansHubermann', 'RudyStein...   \n",
       "...                                                  ...   \n",
       "11295                                                 []   \n",
       "11296                                                 []   \n",
       "11297                                                 []   \n",
       "11298                                                 []   \n",
       "11299                                                 []   \n",
       "\n",
       "                                             description  \\\n",
       "0      [WINNING, MEANS, FAME, AND, FORTUNE.LOSING, ME...   \n",
       "1      [There, is, a, door, at, the, end, of, a, sile...   \n",
       "2      [The, unforgettable, novel, of, a, childhood, ...   \n",
       "3      [About, three, things, I, was, absolutely, pos...   \n",
       "4      [Librarian's, note:, An, alternate, cover, edi...   \n",
       "...                                                  ...   \n",
       "11295  [Iko, –, an, audacious, android, and, best, fr...   \n",
       "11296  [One, of, the, most, important, psychological,...   \n",
       "11297  [The, third, title, in, Genevieve, Cogman's, c...   \n",
       "11298  [Two, women, awaken, from, a, drugged, sleep, ...   \n",
       "11299  [Heal, Your, Body, is, a, fresh, and, easy, st...   \n",
       "\n",
       "                                                  awards  \\\n",
       "0      ['Locus Award Nominee for Best Young Adult Boo...   \n",
       "1      ['Bram Stoker Award for Works for Young Reader...   \n",
       "2      ['Pulitzer Prize for Fiction (1961)', 'Audie A...   \n",
       "3      ['Georgia Peach Book Award (2007)', 'Buxtehude...   \n",
       "4      ['National Jewish Book Award for Children’s an...   \n",
       "...                                                  ...   \n",
       "11295  ['Goodreads Choice Award Nominee for Graphic N...   \n",
       "11296                                                 []   \n",
       "11297                                                 []   \n",
       "11298  ['Miles Franklin Literary Award Nominee for Li...   \n",
       "11299                                                 []   \n",
       "\n",
       "                                                coverImg  \\\n",
       "0      https://i.gr-assets.com/images/S/compressed.ph...   \n",
       "1      https://i.gr-assets.com/images/S/compressed.ph...   \n",
       "2      https://i.gr-assets.com/images/S/compressed.ph...   \n",
       "3      https://i.gr-assets.com/images/S/compressed.ph...   \n",
       "4      https://i.gr-assets.com/images/S/compressed.ph...   \n",
       "...                                                  ...   \n",
       "11295  https://i.gr-assets.com/images/S/compressed.ph...   \n",
       "11296  https://i.gr-assets.com/images/S/compressed.ph...   \n",
       "11297  https://i.gr-assets.com/images/S/compressed.ph...   \n",
       "11298  https://i.gr-assets.com/images/S/compressed.ph...   \n",
       "11299  https://i.gr-assets.com/images/S/compressed.ph...   \n",
       "\n",
       "                                                 setting  rating  numRatings  \n",
       "0      ['District 12, Panem', 'Capitol, Panem', 'Pane...    4.33     6376780  \n",
       "1      ['Hogwarts School of Witchcraft and Wizardry (...    4.50     2507623  \n",
       "2                   ['Maycomb, Alabama (United States)']    4.28     4501075  \n",
       "3      ['Forks, Washington (United States)', 'Phoenix...    3.60     4964519  \n",
       "4                      ['Molching (Germany)', 'Germany']    4.37     1834276  \n",
       "...                                                  ...     ...         ...  \n",
       "11295                                                 []    4.23       11512  \n",
       "11296                                                 []    4.17       24058  \n",
       "11297                                                 []    4.05       12808  \n",
       "11298                                                 []    3.53       10894  \n",
       "11299                                                 []    4.36       14868  \n",
       "\n",
       "[11300 rows x 12 columns]"
      ]
     },
     "execution_count": 49,
     "metadata": {},
     "output_type": "execute_result"
    }
   ],
   "source": [
    "req_updated_books"
   ]
  },
  {
   "cell_type": "code",
   "execution_count": null,
   "id": "0c9a4c93",
   "metadata": {
    "execution": {
     "iopub.execute_input": "2025-03-23T17:34:37.451410Z",
     "iopub.status.busy": "2025-03-23T17:34:37.451084Z",
     "iopub.status.idle": "2025-03-23T17:34:37.458061Z",
     "shell.execute_reply": "2025-03-23T17:34:37.457264Z"
    },
    "papermill": {
     "duration": 0.028596,
     "end_time": "2025-03-23T17:34:37.459372",
     "exception": false,
     "start_time": "2025-03-23T17:34:37.430776",
     "status": "completed"
    },
    "tags": []
   },
   "outputs": [],
   "source": [
    "### CONTENT-BASE-REOMMENDATION\n",
    "content_data = req_updated_books[['isbn', 'title', 'author', 'genres', 'language', 'characters', 'description',]]"
   ]
  },
  {
   "cell_type": "code",
   "execution_count": null,
   "id": "9bb2578e",
   "metadata": {
    "execution": {
     "iopub.execute_input": "2025-03-23T17:34:37.500091Z",
     "iopub.status.busy": "2025-03-23T17:34:37.499817Z",
     "iopub.status.idle": "2025-03-23T17:34:37.510699Z",
     "shell.execute_reply": "2025-03-23T17:34:37.509887Z"
    },
    "papermill": {
     "duration": 0.032546,
     "end_time": "2025-03-23T17:34:37.511881",
     "exception": false,
     "start_time": "2025-03-23T17:34:37.479335",
     "status": "completed"
    },
    "tags": []
   },
   "outputs": [
    {
     "data": {
      "text/html": [
       "<div>\n",
       "<style scoped>\n",
       "    .dataframe tbody tr th:only-of-type {\n",
       "        vertical-align: middle;\n",
       "    }\n",
       "\n",
       "    .dataframe tbody tr th {\n",
       "        vertical-align: top;\n",
       "    }\n",
       "\n",
       "    .dataframe thead th {\n",
       "        text-align: right;\n",
       "    }\n",
       "</style>\n",
       "<table border=\"1\" class=\"dataframe\">\n",
       "  <thead>\n",
       "    <tr style=\"text-align: right;\">\n",
       "      <th></th>\n",
       "      <th>isbn</th>\n",
       "      <th>title</th>\n",
       "      <th>author</th>\n",
       "      <th>genres</th>\n",
       "      <th>language</th>\n",
       "      <th>characters</th>\n",
       "      <th>description</th>\n",
       "    </tr>\n",
       "  </thead>\n",
       "  <tbody>\n",
       "    <tr>\n",
       "      <th>0</th>\n",
       "      <td>9780439023481</td>\n",
       "      <td>The Hunger Games</td>\n",
       "      <td>[SuzanneCollins]</td>\n",
       "      <td>[YoungAdult, Fiction, Dystopia, Fantasy, Scien...</td>\n",
       "      <td>[English]</td>\n",
       "      <td>['KatnissEverdeen', 'PeetaMellark', 'Cato(Hung...</td>\n",
       "      <td>[WINNING, MEANS, FAME, AND, FORTUNE.LOSING, ME...</td>\n",
       "    </tr>\n",
       "  </tbody>\n",
       "</table>\n",
       "</div>"
      ],
      "text/plain": [
       "            isbn             title            author  \\\n",
       "0  9780439023481  The Hunger Games  [SuzanneCollins]   \n",
       "\n",
       "                                              genres   language  \\\n",
       "0  [YoungAdult, Fiction, Dystopia, Fantasy, Scien...  [English]   \n",
       "\n",
       "                                          characters  \\\n",
       "0  ['KatnissEverdeen', 'PeetaMellark', 'Cato(Hung...   \n",
       "\n",
       "                                         description  \n",
       "0  [WINNING, MEANS, FAME, AND, FORTUNE.LOSING, ME...  "
      ]
     },
     "execution_count": 51,
     "metadata": {},
     "output_type": "execute_result"
    }
   ],
   "source": [
    "content_data.head(1)"
   ]
  },
  {
   "cell_type": "code",
   "execution_count": null,
   "id": "b7a6f5aa",
   "metadata": {
    "execution": {
     "iopub.execute_input": "2025-03-23T17:34:37.552670Z",
     "iopub.status.busy": "2025-03-23T17:34:37.552373Z",
     "iopub.status.idle": "2025-03-23T17:34:37.557442Z",
     "shell.execute_reply": "2025-03-23T17:34:37.556662Z"
    },
    "papermill": {
     "duration": 0.026562,
     "end_time": "2025-03-23T17:34:37.558723",
     "exception": false,
     "start_time": "2025-03-23T17:34:37.532161",
     "status": "completed"
    },
    "tags": []
   },
   "outputs": [
    {
     "data": {
      "text/plain": [
       "[[\"'KatnissEverdeen', 'PeetaMellark', 'Cato(HungerGames)', 'PrimroseEverdeen', 'GaleHawthorne', 'EffieTrinket', 'HaymitchAbernathy', 'Cinna', 'PresidentCoriolanusSnow', 'Rue', 'Flavius', 'Lavinia(HungerGames)', 'Marvel', 'Glimmer', 'Clove', 'Foxface', 'Thresh', 'GreasySae', 'MadgeUndersee', 'CaesarFlickerman', 'ClaudiusTemplesmith', 'Octavia(HungerGames)', 'Portia(hungerGames)'\"]]"
      ]
     },
     "execution_count": 52,
     "metadata": {},
     "output_type": "execute_result"
    }
   ],
   "source": [
    "content_data['characters'].head(1).to_list()"
   ]
  },
  {
   "cell_type": "code",
   "execution_count": null,
   "id": "0bc1e92f",
   "metadata": {
    "execution": {
     "iopub.execute_input": "2025-03-23T17:34:37.599542Z",
     "iopub.status.busy": "2025-03-23T17:34:37.599226Z",
     "iopub.status.idle": "2025-03-23T17:34:37.602233Z",
     "shell.execute_reply": "2025-03-23T17:34:37.601649Z"
    },
    "papermill": {
     "duration": 0.024917,
     "end_time": "2025-03-23T17:34:37.603586",
     "exception": false,
     "start_time": "2025-03-23T17:34:37.578669",
     "status": "completed"
    },
    "tags": []
   },
   "outputs": [],
   "source": [
    "import ast"
   ]
  },
  {
   "cell_type": "code",
   "execution_count": null,
   "id": "3f6261c5",
   "metadata": {
    "execution": {
     "iopub.execute_input": "2025-03-23T17:34:37.644612Z",
     "iopub.status.busy": "2025-03-23T17:34:37.644360Z",
     "iopub.status.idle": "2025-03-23T17:34:37.647331Z",
     "shell.execute_reply": "2025-03-23T17:34:37.646682Z"
    },
    "papermill": {
     "duration": 0.024687,
     "end_time": "2025-03-23T17:34:37.648466",
     "exception": false,
     "start_time": "2025-03-23T17:34:37.623779",
     "status": "completed"
    },
    "tags": []
   },
   "outputs": [],
   "source": [
    "# content_data['characters'] = content_data['characters'].apply(lambda x: ast.literal_eval(x))"
   ]
  },
  {
   "cell_type": "code",
   "execution_count": null,
   "id": "9cc9e1ca",
   "metadata": {
    "execution": {
     "iopub.execute_input": "2025-03-23T17:34:37.688503Z",
     "iopub.status.busy": "2025-03-23T17:34:37.688240Z",
     "iopub.status.idle": "2025-03-23T17:34:37.759904Z",
     "shell.execute_reply": "2025-03-23T17:34:37.759230Z"
    },
    "papermill": {
     "duration": 0.093213,
     "end_time": "2025-03-23T17:34:37.761349",
     "exception": false,
     "start_time": "2025-03-23T17:34:37.668136",
     "status": "completed"
    },
    "tags": []
   },
   "outputs": [],
   "source": [
    "req_tags = (\n",
    "    content_data['author'] +\n",
    "    content_data['genres'] +\n",
    "    content_data['language'] +\n",
    "    content_data['characters'] +\n",
    "    content_data['description']\n",
    ")\n"
   ]
  },
  {
   "cell_type": "code",
   "execution_count": null,
   "id": "d9e3c4c6",
   "metadata": {
    "execution": {
     "iopub.execute_input": "2025-03-23T17:34:37.802445Z",
     "iopub.status.busy": "2025-03-23T17:34:37.802162Z",
     "iopub.status.idle": "2025-03-23T17:34:37.806865Z",
     "shell.execute_reply": "2025-03-23T17:34:37.806116Z"
    },
    "papermill": {
     "duration": 0.026327,
     "end_time": "2025-03-23T17:34:37.808162",
     "exception": false,
     "start_time": "2025-03-23T17:34:37.781835",
     "status": "completed"
    },
    "tags": []
   },
   "outputs": [
    {
     "name": "stderr",
     "output_type": "stream",
     "text": [
      "<ipython-input-56-c70ae0320e0c>:1: SettingWithCopyWarning: \n",
      "A value is trying to be set on a copy of a slice from a DataFrame.\n",
      "Try using .loc[row_indexer,col_indexer] = value instead\n",
      "\n",
      "See the caveats in the documentation: https://pandas.pydata.org/pandas-docs/stable/user_guide/indexing.html#returning-a-view-versus-a-copy\n",
      "  content_data['tags'] = req_tags\n"
     ]
    }
   ],
   "source": [
    "content_data['tags'] = req_tags"
   ]
  },
  {
   "cell_type": "code",
   "execution_count": null,
   "id": "66e92f59",
   "metadata": {
    "execution": {
     "iopub.execute_input": "2025-03-23T17:34:37.848411Z",
     "iopub.status.busy": "2025-03-23T17:34:37.848126Z",
     "iopub.status.idle": "2025-03-23T17:34:37.859849Z",
     "shell.execute_reply": "2025-03-23T17:34:37.859183Z"
    },
    "papermill": {
     "duration": 0.033162,
     "end_time": "2025-03-23T17:34:37.861080",
     "exception": false,
     "start_time": "2025-03-23T17:34:37.827918",
     "status": "completed"
    },
    "tags": []
   },
   "outputs": [
    {
     "data": {
      "text/html": [
       "<div>\n",
       "<style scoped>\n",
       "    .dataframe tbody tr th:only-of-type {\n",
       "        vertical-align: middle;\n",
       "    }\n",
       "\n",
       "    .dataframe tbody tr th {\n",
       "        vertical-align: top;\n",
       "    }\n",
       "\n",
       "    .dataframe thead th {\n",
       "        text-align: right;\n",
       "    }\n",
       "</style>\n",
       "<table border=\"1\" class=\"dataframe\">\n",
       "  <thead>\n",
       "    <tr style=\"text-align: right;\">\n",
       "      <th></th>\n",
       "      <th>isbn</th>\n",
       "      <th>title</th>\n",
       "      <th>author</th>\n",
       "      <th>genres</th>\n",
       "      <th>language</th>\n",
       "      <th>characters</th>\n",
       "      <th>description</th>\n",
       "      <th>tags</th>\n",
       "    </tr>\n",
       "  </thead>\n",
       "  <tbody>\n",
       "    <tr>\n",
       "      <th>0</th>\n",
       "      <td>9780439023481</td>\n",
       "      <td>The Hunger Games</td>\n",
       "      <td>[SuzanneCollins]</td>\n",
       "      <td>[YoungAdult, Fiction, Dystopia, Fantasy, Scien...</td>\n",
       "      <td>[English]</td>\n",
       "      <td>['KatnissEverdeen', 'PeetaMellark', 'Cato(Hung...</td>\n",
       "      <td>[WINNING, MEANS, FAME, AND, FORTUNE.LOSING, ME...</td>\n",
       "      <td>[SuzanneCollins, YoungAdult, Fiction, Dystopia...</td>\n",
       "    </tr>\n",
       "  </tbody>\n",
       "</table>\n",
       "</div>"
      ],
      "text/plain": [
       "            isbn             title            author  \\\n",
       "0  9780439023481  The Hunger Games  [SuzanneCollins]   \n",
       "\n",
       "                                              genres   language  \\\n",
       "0  [YoungAdult, Fiction, Dystopia, Fantasy, Scien...  [English]   \n",
       "\n",
       "                                          characters  \\\n",
       "0  ['KatnissEverdeen', 'PeetaMellark', 'Cato(Hung...   \n",
       "\n",
       "                                         description  \\\n",
       "0  [WINNING, MEANS, FAME, AND, FORTUNE.LOSING, ME...   \n",
       "\n",
       "                                                tags  \n",
       "0  [SuzanneCollins, YoungAdult, Fiction, Dystopia...  "
      ]
     },
     "execution_count": 57,
     "metadata": {},
     "output_type": "execute_result"
    }
   ],
   "source": [
    "content_data.head(1)"
   ]
  },
  {
   "cell_type": "code",
   "execution_count": null,
   "id": "6fd3865e",
   "metadata": {
    "execution": {
     "iopub.execute_input": "2025-03-23T17:34:37.903444Z",
     "iopub.status.busy": "2025-03-23T17:34:37.903161Z",
     "iopub.status.idle": "2025-03-23T17:34:37.907975Z",
     "shell.execute_reply": "2025-03-23T17:34:37.907236Z"
    },
    "papermill": {
     "duration": 0.027542,
     "end_time": "2025-03-23T17:34:37.909569",
     "exception": false,
     "start_time": "2025-03-23T17:34:37.882027",
     "status": "completed"
    },
    "tags": []
   },
   "outputs": [],
   "source": [
    "req_content_data = content_data[['isbn', 'title', 'tags']]"
   ]
  },
  {
   "cell_type": "code",
   "execution_count": null,
   "id": "a4ee003e",
   "metadata": {
    "execution": {
     "iopub.execute_input": "2025-03-23T17:34:37.951062Z",
     "iopub.status.busy": "2025-03-23T17:34:37.950831Z",
     "iopub.status.idle": "2025-03-23T17:34:37.956738Z",
     "shell.execute_reply": "2025-03-23T17:34:37.955942Z"
    },
    "papermill": {
     "duration": 0.02734,
     "end_time": "2025-03-23T17:34:37.957882",
     "exception": false,
     "start_time": "2025-03-23T17:34:37.930542",
     "status": "completed"
    },
    "tags": []
   },
   "outputs": [
    {
     "data": {
      "text/plain": [
       "0    [SuzanneCollins, YoungAdult, Fiction, Dystopia...\n",
       "1    [J.K.Rowling,MaryGrandPré(Illustrator), Fantas...\n",
       "Name: tags, dtype: object"
      ]
     },
     "execution_count": 59,
     "metadata": {},
     "output_type": "execute_result"
    }
   ],
   "source": [
    "req_content_data['tags'].head(2)"
   ]
  },
  {
   "cell_type": "code",
   "execution_count": null,
   "id": "98fd431f",
   "metadata": {
    "execution": {
     "iopub.execute_input": "2025-03-23T17:34:37.998636Z",
     "iopub.status.busy": "2025-03-23T17:34:37.998388Z",
     "iopub.status.idle": "2025-03-23T17:34:38.002703Z",
     "shell.execute_reply": "2025-03-23T17:34:38.002032Z"
    },
    "papermill": {
     "duration": 0.026442,
     "end_time": "2025-03-23T17:34:38.004473",
     "exception": false,
     "start_time": "2025-03-23T17:34:37.978031",
     "status": "completed"
    },
    "tags": []
   },
   "outputs": [
    {
     "data": {
      "text/plain": [
       "(11300, 3)"
      ]
     },
     "execution_count": 60,
     "metadata": {},
     "output_type": "execute_result"
    }
   ],
   "source": [
    "req_content_data.shape"
   ]
  },
  {
   "cell_type": "code",
   "execution_count": null,
   "id": "60aafd6a",
   "metadata": {
    "execution": {
     "iopub.execute_input": "2025-03-23T17:34:38.046178Z",
     "iopub.status.busy": "2025-03-23T17:34:38.045930Z",
     "iopub.status.idle": "2025-03-23T17:34:38.211147Z",
     "shell.execute_reply": "2025-03-23T17:34:38.210198Z"
    },
    "papermill": {
     "duration": 0.187374,
     "end_time": "2025-03-23T17:34:38.212683",
     "exception": false,
     "start_time": "2025-03-23T17:34:38.025309",
     "status": "completed"
    },
    "tags": []
   },
   "outputs": [
    {
     "name": "stderr",
     "output_type": "stream",
     "text": [
      "<ipython-input-61-a1d6b848cdbe>:2: SettingWithCopyWarning: \n",
      "A value is trying to be set on a copy of a slice from a DataFrame.\n",
      "Try using .loc[row_indexer,col_indexer] = value instead\n",
      "\n",
      "See the caveats in the documentation: https://pandas.pydata.org/pandas-docs/stable/user_guide/indexing.html#returning-a-view-versus-a-copy\n",
      "  req_content_data['tags'] = req_content_data['tags'].apply(lambda x: ' '.join(map(str, x)))\n"
     ]
    }
   ],
   "source": [
    "# Convert each list to a string and join its elements\n",
    "req_content_data['tags'] = req_content_data['tags'].apply(lambda x: ' '.join(map(str, x)))"
   ]
  },
  {
   "cell_type": "code",
   "execution_count": null,
   "id": "c31fb05b",
   "metadata": {
    "execution": {
     "iopub.execute_input": "2025-03-23T17:34:38.254441Z",
     "iopub.status.busy": "2025-03-23T17:34:38.254146Z",
     "iopub.status.idle": "2025-03-23T17:34:38.261328Z",
     "shell.execute_reply": "2025-03-23T17:34:38.260519Z"
    },
    "papermill": {
     "duration": 0.029486,
     "end_time": "2025-03-23T17:34:38.262653",
     "exception": false,
     "start_time": "2025-03-23T17:34:38.233167",
     "status": "completed"
    },
    "tags": []
   },
   "outputs": [
    {
     "data": {
      "text/html": [
       "<div>\n",
       "<style scoped>\n",
       "    .dataframe tbody tr th:only-of-type {\n",
       "        vertical-align: middle;\n",
       "    }\n",
       "\n",
       "    .dataframe tbody tr th {\n",
       "        vertical-align: top;\n",
       "    }\n",
       "\n",
       "    .dataframe thead th {\n",
       "        text-align: right;\n",
       "    }\n",
       "</style>\n",
       "<table border=\"1\" class=\"dataframe\">\n",
       "  <thead>\n",
       "    <tr style=\"text-align: right;\">\n",
       "      <th></th>\n",
       "      <th>isbn</th>\n",
       "      <th>title</th>\n",
       "      <th>tags</th>\n",
       "    </tr>\n",
       "  </thead>\n",
       "  <tbody>\n",
       "    <tr>\n",
       "      <th>0</th>\n",
       "      <td>9780439023481</td>\n",
       "      <td>The Hunger Games</td>\n",
       "      <td>SuzanneCollins YoungAdult Fiction Dystopia Fan...</td>\n",
       "    </tr>\n",
       "  </tbody>\n",
       "</table>\n",
       "</div>"
      ],
      "text/plain": [
       "            isbn             title  \\\n",
       "0  9780439023481  The Hunger Games   \n",
       "\n",
       "                                                tags  \n",
       "0  SuzanneCollins YoungAdult Fiction Dystopia Fan...  "
      ]
     },
     "execution_count": 62,
     "metadata": {},
     "output_type": "execute_result"
    }
   ],
   "source": [
    "req_content_data.head(1)"
   ]
  },
  {
   "cell_type": "code",
   "execution_count": null,
   "id": "5ca768c1",
   "metadata": {
    "execution": {
     "iopub.execute_input": "2025-03-23T17:34:38.304824Z",
     "iopub.status.busy": "2025-03-23T17:34:38.304553Z",
     "iopub.status.idle": "2025-03-23T17:34:38.328533Z",
     "shell.execute_reply": "2025-03-23T17:34:38.327550Z"
    },
    "papermill": {
     "duration": 0.045883,
     "end_time": "2025-03-23T17:34:38.329742",
     "exception": false,
     "start_time": "2025-03-23T17:34:38.283859",
     "status": "completed"
    },
    "tags": []
   },
   "outputs": [
    {
     "name": "stderr",
     "output_type": "stream",
     "text": [
      "<ipython-input-63-8b2c67b3d35b>:1: SettingWithCopyWarning: \n",
      "A value is trying to be set on a copy of a slice from a DataFrame.\n",
      "Try using .loc[row_indexer,col_indexer] = value instead\n",
      "\n",
      "See the caveats in the documentation: https://pandas.pydata.org/pandas-docs/stable/user_guide/indexing.html#returning-a-view-versus-a-copy\n",
      "  req_content_data['content'] = req_content_data['title'] + \" \" + req_content_data['tags']\n"
     ]
    }
   ],
   "source": [
    "req_content_data['content'] = req_content_data['title'] + \" \" + req_content_data['tags']"
   ]
  },
  {
   "cell_type": "code",
   "execution_count": null,
   "id": "a0178013",
   "metadata": {
    "execution": {
     "iopub.execute_input": "2025-03-23T17:34:38.371323Z",
     "iopub.status.busy": "2025-03-23T17:34:38.371031Z",
     "iopub.status.idle": "2025-03-23T17:34:38.374387Z",
     "shell.execute_reply": "2025-03-23T17:34:38.373715Z"
    },
    "papermill": {
     "duration": 0.025494,
     "end_time": "2025-03-23T17:34:38.375637",
     "exception": false,
     "start_time": "2025-03-23T17:34:38.350143",
     "status": "completed"
    },
    "tags": []
   },
   "outputs": [],
   "source": [
    "req_content_data.reset_index(drop=True, inplace=True)"
   ]
  },
  {
   "cell_type": "code",
   "execution_count": null,
   "id": "b8818ca9",
   "metadata": {
    "execution": {
     "iopub.execute_input": "2025-03-23T17:34:38.416996Z",
     "iopub.status.busy": "2025-03-23T17:34:38.416732Z",
     "iopub.status.idle": "2025-03-23T17:34:38.421027Z",
     "shell.execute_reply": "2025-03-23T17:34:38.420394Z"
    },
    "papermill": {
     "duration": 0.02623,
     "end_time": "2025-03-23T17:34:38.422131",
     "exception": false,
     "start_time": "2025-03-23T17:34:38.395901",
     "status": "completed"
    },
    "tags": []
   },
   "outputs": [
    {
     "data": {
      "text/plain": [
       "(11300, 4)"
      ]
     },
     "execution_count": 65,
     "metadata": {},
     "output_type": "execute_result"
    }
   ],
   "source": [
    "req_content_data.shape"
   ]
  },
  {
   "cell_type": "code",
   "execution_count": null,
   "id": "856cd765",
   "metadata": {
    "execution": {
     "iopub.execute_input": "2025-03-23T17:34:38.464206Z",
     "iopub.status.busy": "2025-03-23T17:34:38.463971Z",
     "iopub.status.idle": "2025-03-23T17:34:38.466898Z",
     "shell.execute_reply": "2025-03-23T17:34:38.466319Z"
    },
    "papermill": {
     "duration": 0.025315,
     "end_time": "2025-03-23T17:34:38.468071",
     "exception": false,
     "start_time": "2025-03-23T17:34:38.442756",
     "status": "completed"
    },
    "tags": []
   },
   "outputs": [],
   "source": [
    "import numpy as np"
   ]
  },
  {
   "cell_type": "code",
   "execution_count": null,
   "id": "8831a937",
   "metadata": {
    "execution": {
     "iopub.execute_input": "2025-03-23T17:34:38.509911Z",
     "iopub.status.busy": "2025-03-23T17:34:38.509649Z",
     "iopub.status.idle": "2025-03-23T17:34:39.754608Z",
     "shell.execute_reply": "2025-03-23T17:34:39.753909Z"
    },
    "papermill": {
     "duration": 1.267637,
     "end_time": "2025-03-23T17:34:39.756130",
     "exception": false,
     "start_time": "2025-03-23T17:34:38.488493",
     "status": "completed"
    },
    "tags": []
   },
   "outputs": [],
   "source": [
    "from sklearn.feature_extraction.text import TfidfVectorizer\n",
    "from sklearn.metrics.pairwise import linear_kernel"
   ]
  },
  {
   "cell_type": "code",
   "execution_count": null,
   "id": "403b0d0d",
   "metadata": {
    "execution": {
     "iopub.execute_input": "2025-03-23T17:34:39.799198Z",
     "iopub.status.busy": "2025-03-23T17:34:39.798759Z",
     "iopub.status.idle": "2025-03-23T17:34:41.491376Z",
     "shell.execute_reply": "2025-03-23T17:34:41.490689Z"
    },
    "papermill": {
     "duration": 1.715706,
     "end_time": "2025-03-23T17:34:41.492985",
     "exception": false,
     "start_time": "2025-03-23T17:34:39.777279",
     "status": "completed"
    },
    "tags": []
   },
   "outputs": [],
   "source": [
    "# Use TF-IDF vectorizer to convert content into a matrix of TF-IDF features\n",
    "tfidf_vectorizer = TfidfVectorizer()\n",
    "content_matrix = tfidf_vectorizer.fit_transform(req_content_data['content'])"
   ]
  },
  {
   "cell_type": "code",
   "execution_count": null,
   "id": "5eaf6d59",
   "metadata": {
    "execution": {
     "iopub.execute_input": "2025-03-23T17:34:41.536141Z",
     "iopub.status.busy": "2025-03-23T17:34:41.535817Z",
     "iopub.status.idle": "2025-03-23T17:34:41.540632Z",
     "shell.execute_reply": "2025-03-23T17:34:41.539831Z"
    },
    "papermill": {
     "duration": 0.027483,
     "end_time": "2025-03-23T17:34:41.541840",
     "exception": false,
     "start_time": "2025-03-23T17:34:41.514357",
     "status": "completed"
    },
    "tags": []
   },
   "outputs": [
    {
     "data": {
      "text/plain": [
       "<11300x99295 sparse matrix of type '<class 'numpy.float64'>'\n",
       "\twith 1338406 stored elements in Compressed Sparse Row format>"
      ]
     },
     "execution_count": 69,
     "metadata": {},
     "output_type": "execute_result"
    }
   ],
   "source": [
    "content_matrix"
   ]
  },
  {
   "cell_type": "code",
   "execution_count": null,
   "id": "b354387a",
   "metadata": {
    "execution": {
     "iopub.execute_input": "2025-03-23T17:34:41.584442Z",
     "iopub.status.busy": "2025-03-23T17:34:41.584118Z",
     "iopub.status.idle": "2025-03-23T17:34:51.743321Z",
     "shell.execute_reply": "2025-03-23T17:34:51.742642Z"
    },
    "papermill": {
     "duration": 10.181934,
     "end_time": "2025-03-23T17:34:51.744885",
     "exception": false,
     "start_time": "2025-03-23T17:34:41.562951",
     "status": "completed"
    },
    "tags": []
   },
   "outputs": [],
   "source": [
    "content_similarity = linear_kernel(content_matrix, content_matrix)"
   ]
  },
  {
   "cell_type": "code",
   "execution_count": null,
   "id": "ea3b0c71",
   "metadata": {
    "execution": {
     "iopub.execute_input": "2025-03-23T17:34:51.786985Z",
     "iopub.status.busy": "2025-03-23T17:34:51.786728Z",
     "iopub.status.idle": "2025-03-23T17:34:51.791605Z",
     "shell.execute_reply": "2025-03-23T17:34:51.790952Z"
    },
    "papermill": {
     "duration": 0.026935,
     "end_time": "2025-03-23T17:34:51.792730",
     "exception": false,
     "start_time": "2025-03-23T17:34:51.765795",
     "status": "completed"
    },
    "tags": []
   },
   "outputs": [
    {
     "data": {
      "text/plain": [
       "array([[1.        , 0.04768769, 0.05272422, ..., 0.06165928, 0.08050347,\n",
       "        0.03349466],\n",
       "       [0.04768769, 1.        , 0.03917197, ..., 0.0538654 , 0.07465354,\n",
       "        0.0294376 ],\n",
       "       [0.05272422, 0.03917197, 1.        , ..., 0.04389409, 0.06919689,\n",
       "        0.03195932],\n",
       "       ...,\n",
       "       [0.06165928, 0.0538654 , 0.04389409, ..., 1.        , 0.07551048,\n",
       "        0.05056731],\n",
       "       [0.08050347, 0.07465354, 0.06919689, ..., 0.07551048, 1.        ,\n",
       "        0.04919593],\n",
       "       [0.03349466, 0.0294376 , 0.03195932, ..., 0.05056731, 0.04919593,\n",
       "        1.        ]])"
      ]
     },
     "execution_count": 71,
     "metadata": {},
     "output_type": "execute_result"
    }
   ],
   "source": [
    "content_similarity"
   ]
  },
  {
   "cell_type": "code",
   "execution_count": null,
   "id": "8e350986",
   "metadata": {
    "execution": {
     "iopub.execute_input": "2025-03-23T17:34:51.833964Z",
     "iopub.status.busy": "2025-03-23T17:34:51.833720Z",
     "iopub.status.idle": "2025-03-23T17:34:51.837379Z",
     "shell.execute_reply": "2025-03-23T17:34:51.836741Z"
    },
    "papermill": {
     "duration": 0.025605,
     "end_time": "2025-03-23T17:34:51.838602",
     "exception": false,
     "start_time": "2025-03-23T17:34:51.812997",
     "status": "completed"
    },
    "tags": []
   },
   "outputs": [],
   "source": [
    "def get_content_based_recommendations(title, top_n):\n",
    "    index = req_content_data[req_content_data['title'] == title].index[0]\n",
    "    similarity_scores = content_similarity[index]\n",
    "    similar_indices = similarity_scores.argsort()[::-1][1:top_n + 1]\n",
    "    recommendations = req_content_data.loc[similar_indices, 'isbn'].values\n",
    "    return recommendations"
   ]
  },
  {
   "cell_type": "code",
   "execution_count": null,
   "id": "e913099d",
   "metadata": {
    "execution": {
     "iopub.execute_input": "2025-03-23T17:34:51.880476Z",
     "iopub.status.busy": "2025-03-23T17:34:51.880095Z",
     "iopub.status.idle": "2025-03-23T17:34:51.889133Z",
     "shell.execute_reply": "2025-03-23T17:34:51.888312Z"
    },
    "papermill": {
     "duration": 0.031361,
     "end_time": "2025-03-23T17:34:51.890393",
     "exception": false,
     "start_time": "2025-03-23T17:34:51.859032",
     "status": "completed"
    },
    "tags": []
   },
   "outputs": [
    {
     "data": {
      "text/html": [
       "<div>\n",
       "<style scoped>\n",
       "    .dataframe tbody tr th:only-of-type {\n",
       "        vertical-align: middle;\n",
       "    }\n",
       "\n",
       "    .dataframe tbody tr th {\n",
       "        vertical-align: top;\n",
       "    }\n",
       "\n",
       "    .dataframe thead th {\n",
       "        text-align: right;\n",
       "    }\n",
       "</style>\n",
       "<table border=\"1\" class=\"dataframe\">\n",
       "  <thead>\n",
       "    <tr style=\"text-align: right;\">\n",
       "      <th></th>\n",
       "      <th>isbn</th>\n",
       "      <th>title</th>\n",
       "      <th>tags</th>\n",
       "      <th>content</th>\n",
       "    </tr>\n",
       "  </thead>\n",
       "  <tbody>\n",
       "    <tr>\n",
       "      <th>0</th>\n",
       "      <td>9780439023481</td>\n",
       "      <td>The Hunger Games</td>\n",
       "      <td>SuzanneCollins YoungAdult Fiction Dystopia Fan...</td>\n",
       "      <td>The Hunger Games SuzanneCollins YoungAdult Fic...</td>\n",
       "    </tr>\n",
       "    <tr>\n",
       "      <th>1</th>\n",
       "      <td>9780439358071</td>\n",
       "      <td>Harry Potter and the Order of the Phoenix</td>\n",
       "      <td>J.K.Rowling,MaryGrandPré(Illustrator) Fantasy ...</td>\n",
       "      <td>Harry Potter and the Order of the Phoenix J.K....</td>\n",
       "    </tr>\n",
       "    <tr>\n",
       "      <th>2</th>\n",
       "      <td>9999999999999</td>\n",
       "      <td>To Kill a Mockingbird</td>\n",
       "      <td>HarperLee Classics Fiction HistoricalFiction S...</td>\n",
       "      <td>To Kill a Mockingbird HarperLee Classics Ficti...</td>\n",
       "    </tr>\n",
       "    <tr>\n",
       "      <th>3</th>\n",
       "      <td>9780316015844</td>\n",
       "      <td>Twilight</td>\n",
       "      <td>StephenieMeyer YoungAdult Fantasy Romance Vamp...</td>\n",
       "      <td>Twilight StephenieMeyer YoungAdult Fantasy Rom...</td>\n",
       "    </tr>\n",
       "    <tr>\n",
       "      <th>4</th>\n",
       "      <td>9780375831003</td>\n",
       "      <td>The Book Thief</td>\n",
       "      <td>MarkusZusak(GoodreadsAuthor) HistoricalFiction...</td>\n",
       "      <td>The Book Thief MarkusZusak(GoodreadsAuthor) Hi...</td>\n",
       "    </tr>\n",
       "    <tr>\n",
       "      <th>5</th>\n",
       "      <td>9780451526342</td>\n",
       "      <td>Animal Farm</td>\n",
       "      <td>GeorgeOrwell,RussellBaker(Preface),C.M.Woodhou...</td>\n",
       "      <td>Animal Farm GeorgeOrwell,RussellBaker(Preface)...</td>\n",
       "    </tr>\n",
       "    <tr>\n",
       "      <th>6</th>\n",
       "      <td>9780345538376</td>\n",
       "      <td>J.R.R. Tolkien 4-Book Boxed Set: The Hobbit an...</td>\n",
       "      <td>J.R.R.Tolkien Fantasy Fiction Classics Adventu...</td>\n",
       "      <td>J.R.R. Tolkien 4-Book Boxed Set: The Hobbit an...</td>\n",
       "    </tr>\n",
       "    <tr>\n",
       "      <th>7</th>\n",
       "      <td>9780446675536</td>\n",
       "      <td>Gone with the Wind</td>\n",
       "      <td>MargaretMitchell Classics HistoricalFiction Fi...</td>\n",
       "      <td>Gone with the Wind MargaretMitchell Classics H...</td>\n",
       "    </tr>\n",
       "    <tr>\n",
       "      <th>8</th>\n",
       "      <td>9780060256654</td>\n",
       "      <td>The Giving Tree</td>\n",
       "      <td>ShelSilverstein Childrens PictureBooks Classic...</td>\n",
       "      <td>The Giving Tree ShelSilverstein Childrens Pict...</td>\n",
       "    </tr>\n",
       "    <tr>\n",
       "      <th>9</th>\n",
       "      <td>9780393978896</td>\n",
       "      <td>Wuthering Heights</td>\n",
       "      <td>EmilyBrontë,RichardJ.Dunn(Editor),DavidTimson(...</td>\n",
       "      <td>Wuthering Heights EmilyBrontë,RichardJ.Dunn(Ed...</td>\n",
       "    </tr>\n",
       "  </tbody>\n",
       "</table>\n",
       "</div>"
      ],
      "text/plain": [
       "            isbn                                              title  \\\n",
       "0  9780439023481                                   The Hunger Games   \n",
       "1  9780439358071          Harry Potter and the Order of the Phoenix   \n",
       "2  9999999999999                              To Kill a Mockingbird   \n",
       "3  9780316015844                                           Twilight   \n",
       "4  9780375831003                                     The Book Thief   \n",
       "5  9780451526342                                        Animal Farm   \n",
       "6  9780345538376  J.R.R. Tolkien 4-Book Boxed Set: The Hobbit an...   \n",
       "7  9780446675536                                 Gone with the Wind   \n",
       "8  9780060256654                                    The Giving Tree   \n",
       "9  9780393978896                                  Wuthering Heights   \n",
       "\n",
       "                                                tags  \\\n",
       "0  SuzanneCollins YoungAdult Fiction Dystopia Fan...   \n",
       "1  J.K.Rowling,MaryGrandPré(Illustrator) Fantasy ...   \n",
       "2  HarperLee Classics Fiction HistoricalFiction S...   \n",
       "3  StephenieMeyer YoungAdult Fantasy Romance Vamp...   \n",
       "4  MarkusZusak(GoodreadsAuthor) HistoricalFiction...   \n",
       "5  GeorgeOrwell,RussellBaker(Preface),C.M.Woodhou...   \n",
       "6  J.R.R.Tolkien Fantasy Fiction Classics Adventu...   \n",
       "7  MargaretMitchell Classics HistoricalFiction Fi...   \n",
       "8  ShelSilverstein Childrens PictureBooks Classic...   \n",
       "9  EmilyBrontë,RichardJ.Dunn(Editor),DavidTimson(...   \n",
       "\n",
       "                                             content  \n",
       "0  The Hunger Games SuzanneCollins YoungAdult Fic...  \n",
       "1  Harry Potter and the Order of the Phoenix J.K....  \n",
       "2  To Kill a Mockingbird HarperLee Classics Ficti...  \n",
       "3  Twilight StephenieMeyer YoungAdult Fantasy Rom...  \n",
       "4  The Book Thief MarkusZusak(GoodreadsAuthor) Hi...  \n",
       "5  Animal Farm GeorgeOrwell,RussellBaker(Preface)...  \n",
       "6  J.R.R. Tolkien 4-Book Boxed Set: The Hobbit an...  \n",
       "7  Gone with the Wind MargaretMitchell Classics H...  \n",
       "8  The Giving Tree ShelSilverstein Childrens Pict...  \n",
       "9  Wuthering Heights EmilyBrontë,RichardJ.Dunn(Ed...  "
      ]
     },
     "execution_count": 73,
     "metadata": {},
     "output_type": "execute_result"
    }
   ],
   "source": [
    "req_content_data.head(10)"
   ]
  },
  {
   "cell_type": "code",
   "execution_count": null,
   "id": "7436b6c3",
   "metadata": {
    "execution": {
     "iopub.execute_input": "2025-03-23T17:34:51.933117Z",
     "iopub.status.busy": "2025-03-23T17:34:51.932860Z",
     "iopub.status.idle": "2025-03-23T17:34:51.939562Z",
     "shell.execute_reply": "2025-03-23T17:34:51.938773Z"
    },
    "papermill": {
     "duration": 0.029492,
     "end_time": "2025-03-23T17:34:51.940708",
     "exception": false,
     "start_time": "2025-03-23T17:34:51.911216",
     "status": "completed"
    },
    "tags": []
   },
   "outputs": [
    {
     "data": {
      "text/plain": [
       "Index([903], dtype='int64')"
      ]
     },
     "execution_count": 74,
     "metadata": {},
     "output_type": "execute_result"
    }
   ],
   "source": [
    "req_content_data[req_content_data['title'] == 'The Dragon Reborn'].index"
   ]
  },
  {
   "cell_type": "code",
   "execution_count": null,
   "id": "1be73161",
   "metadata": {
    "execution": {
     "iopub.execute_input": "2025-03-23T17:34:51.983845Z",
     "iopub.status.busy": "2025-03-23T17:34:51.983512Z",
     "iopub.status.idle": "2025-03-23T17:34:51.990497Z",
     "shell.execute_reply": "2025-03-23T17:34:51.989720Z"
    },
    "papermill": {
     "duration": 0.030299,
     "end_time": "2025-03-23T17:34:51.991723",
     "exception": false,
     "start_time": "2025-03-23T17:34:51.961424",
     "status": "completed"
    },
    "tags": []
   },
   "outputs": [
    {
     "name": "stdout",
     "output_type": "stream",
     "text": [
      "['9780812513738' '9780312864590' '9780812577563' '9780765302304'\n",
      " '9781857232097']\n"
     ]
    }
   ],
   "source": [
    "rec = get_content_based_recommendations('The Dragon Reborn', 5)\n",
    "print(rec)"
   ]
  },
  {
   "cell_type": "code",
   "execution_count": null,
   "id": "1c8d0aa1",
   "metadata": {
    "execution": {
     "iopub.execute_input": "2025-03-23T17:34:52.035599Z",
     "iopub.status.busy": "2025-03-23T17:34:52.035299Z",
     "iopub.status.idle": "2025-03-23T17:34:52.040743Z",
     "shell.execute_reply": "2025-03-23T17:34:52.039833Z"
    },
    "papermill": {
     "duration": 0.028628,
     "end_time": "2025-03-23T17:34:52.041956",
     "exception": false,
     "start_time": "2025-03-23T17:34:52.013328",
     "status": "completed"
    },
    "tags": []
   },
   "outputs": [
    {
     "data": {
      "text/plain": [
       "\"['Young Adult', 'Fantasy', 'Paranormal', 'Magic', 'Romance', 'Vampires', 'Witches', 'Supernatural', 'Urban Fantasy', 'Demons']\""
      ]
     },
     "execution_count": 76,
     "metadata": {},
     "output_type": "execute_result"
    }
   ],
   "source": [
    "updated_books['genres'].iloc[903]"
   ]
  },
  {
   "cell_type": "code",
   "execution_count": null,
   "id": "ce4a9b3f",
   "metadata": {
    "execution": {
     "iopub.execute_input": "2025-03-23T17:34:52.086053Z",
     "iopub.status.busy": "2025-03-23T17:34:52.085719Z",
     "iopub.status.idle": "2025-03-23T17:34:52.103308Z",
     "shell.execute_reply": "2025-03-23T17:34:52.102455Z"
    },
    "papermill": {
     "duration": 0.041409,
     "end_time": "2025-03-23T17:34:52.104572",
     "exception": false,
     "start_time": "2025-03-23T17:34:52.063163",
     "status": "completed"
    },
    "tags": []
   },
   "outputs": [
    {
     "data": {
      "text/html": [
       "<div>\n",
       "<style scoped>\n",
       "    .dataframe tbody tr th:only-of-type {\n",
       "        vertical-align: middle;\n",
       "    }\n",
       "\n",
       "    .dataframe tbody tr th {\n",
       "        vertical-align: top;\n",
       "    }\n",
       "\n",
       "    .dataframe thead th {\n",
       "        text-align: right;\n",
       "    }\n",
       "</style>\n",
       "<table border=\"1\" class=\"dataframe\">\n",
       "  <thead>\n",
       "    <tr style=\"text-align: right;\">\n",
       "      <th></th>\n",
       "      <th>isbn</th>\n",
       "      <th>title</th>\n",
       "      <th>author</th>\n",
       "      <th>genres</th>\n",
       "      <th>language</th>\n",
       "      <th>characters</th>\n",
       "      <th>description</th>\n",
       "      <th>awards</th>\n",
       "      <th>coverImg</th>\n",
       "      <th>setting</th>\n",
       "      <th>rating</th>\n",
       "      <th>numRatings</th>\n",
       "    </tr>\n",
       "  </thead>\n",
       "  <tbody>\n",
       "    <tr>\n",
       "      <th>1233</th>\n",
       "      <td>9780812513738</td>\n",
       "      <td>The Shadow Rising</td>\n",
       "      <td>Robert Jordan</td>\n",
       "      <td>['Fantasy', 'Fiction', 'Epic Fantasy', 'Scienc...</td>\n",
       "      <td>English</td>\n",
       "      <td>[\"Rand al'Thor\", \"Nynaeve al'Meara\", \"Egwene a...</td>\n",
       "      <td>The seals of Shayol Ghul are weak now, and the...</td>\n",
       "      <td>[]</td>\n",
       "      <td>https://i.gr-assets.com/images/S/compressed.ph...</td>\n",
       "      <td>[]</td>\n",
       "      <td>4.23</td>\n",
       "      <td>172424</td>\n",
       "    </tr>\n",
       "    <tr>\n",
       "      <th>1321</th>\n",
       "      <td>9780765302304</td>\n",
       "      <td>The Gathering Storm</td>\n",
       "      <td>Robert Jordan, Brandon Sanderson (Goodreads Au...</td>\n",
       "      <td>['Fantasy', 'Fiction', 'Epic Fantasy', 'High F...</td>\n",
       "      <td>English</td>\n",
       "      <td>[\"Rand al'Thor\", \"Nynaeve al'Meara\", \"Egwene a...</td>\n",
       "      <td>The Wheel of Time turns and Ages come and go, ...</td>\n",
       "      <td>['David Gemmell Legend Award Nominee for Best ...</td>\n",
       "      <td>https://i.gr-assets.com/images/S/compressed.ph...</td>\n",
       "      <td>[]</td>\n",
       "      <td>4.36</td>\n",
       "      <td>127727</td>\n",
       "    </tr>\n",
       "    <tr>\n",
       "      <th>1906</th>\n",
       "      <td>9781857232097</td>\n",
       "      <td>The Fires of Heaven</td>\n",
       "      <td>Robert Jordan</td>\n",
       "      <td>['Fantasy', 'Fiction', 'Epic Fantasy', 'Scienc...</td>\n",
       "      <td>English</td>\n",
       "      <td>[\"Rand al'Thor\", \"Nynaeve al'Meara\", \"Egwene a...</td>\n",
       "      <td>The fifth book in Robert Jordan's internationa...</td>\n",
       "      <td>[]</td>\n",
       "      <td>https://i.gr-assets.com/images/S/compressed.ph...</td>\n",
       "      <td>[]</td>\n",
       "      <td>4.15</td>\n",
       "      <td>139059</td>\n",
       "    </tr>\n",
       "    <tr>\n",
       "      <th>2510</th>\n",
       "      <td>9780812577563</td>\n",
       "      <td>Knife of Dreams</td>\n",
       "      <td>Robert Jordan</td>\n",
       "      <td>['Fantasy', 'Fiction', 'Epic Fantasy', 'High F...</td>\n",
       "      <td>English</td>\n",
       "      <td>[\"Rand al'Thor\", \"Nynaeve al'Meara\", \"Egwene a...</td>\n",
       "      <td>The dead are walking, men die impossible death...</td>\n",
       "      <td>['Locus Award Nominee for Best Fantasy Novel (...</td>\n",
       "      <td>https://i.gr-assets.com/images/S/compressed.ph...</td>\n",
       "      <td>[]</td>\n",
       "      <td>4.14</td>\n",
       "      <td>101539</td>\n",
       "    </tr>\n",
       "    <tr>\n",
       "      <th>2980</th>\n",
       "      <td>9780312864590</td>\n",
       "      <td>Crossroads of Twilight</td>\n",
       "      <td>Robert Jordan</td>\n",
       "      <td>['Fantasy', 'Fiction', 'Epic Fantasy', 'High F...</td>\n",
       "      <td>English</td>\n",
       "      <td>[\"Rand al'Thor\", \"Nynaeve al'Meara\", \"Egwene a...</td>\n",
       "      <td>In the tenth book of The Wheel of Time from th...</td>\n",
       "      <td>[]</td>\n",
       "      <td>https://i.gr-assets.com/images/S/compressed.ph...</td>\n",
       "      <td>[]</td>\n",
       "      <td>3.81</td>\n",
       "      <td>92276</td>\n",
       "    </tr>\n",
       "  </tbody>\n",
       "</table>\n",
       "</div>"
      ],
      "text/plain": [
       "               isbn                   title  \\\n",
       "1233  9780812513738       The Shadow Rising   \n",
       "1321  9780765302304     The Gathering Storm   \n",
       "1906  9781857232097     The Fires of Heaven   \n",
       "2510  9780812577563         Knife of Dreams   \n",
       "2980  9780312864590  Crossroads of Twilight   \n",
       "\n",
       "                                                 author  \\\n",
       "1233                                      Robert Jordan   \n",
       "1321  Robert Jordan, Brandon Sanderson (Goodreads Au...   \n",
       "1906                                      Robert Jordan   \n",
       "2510                                      Robert Jordan   \n",
       "2980                                      Robert Jordan   \n",
       "\n",
       "                                                 genres language  \\\n",
       "1233  ['Fantasy', 'Fiction', 'Epic Fantasy', 'Scienc...  English   \n",
       "1321  ['Fantasy', 'Fiction', 'Epic Fantasy', 'High F...  English   \n",
       "1906  ['Fantasy', 'Fiction', 'Epic Fantasy', 'Scienc...  English   \n",
       "2510  ['Fantasy', 'Fiction', 'Epic Fantasy', 'High F...  English   \n",
       "2980  ['Fantasy', 'Fiction', 'Epic Fantasy', 'High F...  English   \n",
       "\n",
       "                                             characters  \\\n",
       "1233  [\"Rand al'Thor\", \"Nynaeve al'Meara\", \"Egwene a...   \n",
       "1321  [\"Rand al'Thor\", \"Nynaeve al'Meara\", \"Egwene a...   \n",
       "1906  [\"Rand al'Thor\", \"Nynaeve al'Meara\", \"Egwene a...   \n",
       "2510  [\"Rand al'Thor\", \"Nynaeve al'Meara\", \"Egwene a...   \n",
       "2980  [\"Rand al'Thor\", \"Nynaeve al'Meara\", \"Egwene a...   \n",
       "\n",
       "                                            description  \\\n",
       "1233  The seals of Shayol Ghul are weak now, and the...   \n",
       "1321  The Wheel of Time turns and Ages come and go, ...   \n",
       "1906  The fifth book in Robert Jordan's internationa...   \n",
       "2510  The dead are walking, men die impossible death...   \n",
       "2980  In the tenth book of The Wheel of Time from th...   \n",
       "\n",
       "                                                 awards  \\\n",
       "1233                                                 []   \n",
       "1321  ['David Gemmell Legend Award Nominee for Best ...   \n",
       "1906                                                 []   \n",
       "2510  ['Locus Award Nominee for Best Fantasy Novel (...   \n",
       "2980                                                 []   \n",
       "\n",
       "                                               coverImg setting  rating  \\\n",
       "1233  https://i.gr-assets.com/images/S/compressed.ph...      []    4.23   \n",
       "1321  https://i.gr-assets.com/images/S/compressed.ph...      []    4.36   \n",
       "1906  https://i.gr-assets.com/images/S/compressed.ph...      []    4.15   \n",
       "2510  https://i.gr-assets.com/images/S/compressed.ph...      []    4.14   \n",
       "2980  https://i.gr-assets.com/images/S/compressed.ph...      []    3.81   \n",
       "\n",
       "      numRatings  \n",
       "1233      172424  \n",
       "1321      127727  \n",
       "1906      139059  \n",
       "2510      101539  \n",
       "2980       92276  "
      ]
     },
     "execution_count": 77,
     "metadata": {},
     "output_type": "execute_result"
    }
   ],
   "source": [
    " updated_books[updated_books['isbn'].isin(rec)]"
   ]
  },
  {
   "cell_type": "code",
   "execution_count": null,
   "id": "d0fa171e",
   "metadata": {
    "execution": {
     "iopub.execute_input": "2025-03-23T17:34:52.148434Z",
     "iopub.status.busy": "2025-03-23T17:34:52.148139Z",
     "iopub.status.idle": "2025-03-23T17:34:52.152869Z",
     "shell.execute_reply": "2025-03-23T17:34:52.152044Z"
    },
    "papermill": {
     "duration": 0.027759,
     "end_time": "2025-03-23T17:34:52.154063",
     "exception": false,
     "start_time": "2025-03-23T17:34:52.126304",
     "status": "completed"
    },
    "tags": []
   },
   "outputs": [
    {
     "data": {
      "text/plain": [
       "\"['Fantasy', 'Fiction', 'Epic Fantasy', 'High Fantasy', 'Science Fiction Fantasy', 'Epic', 'Adventure', 'Audiobook', 'Magic', 'Adult']\""
      ]
     },
     "execution_count": 78,
     "metadata": {},
     "output_type": "execute_result"
    }
   ],
   "source": [
    "updated_books['genres'].iloc[2510]"
   ]
  },
  {
   "cell_type": "code",
   "execution_count": null,
   "id": "a85a5a95",
   "metadata": {
    "execution": {
     "iopub.execute_input": "2025-03-23T17:34:52.197710Z",
     "iopub.status.busy": "2025-03-23T17:34:52.197424Z",
     "iopub.status.idle": "2025-03-23T17:34:52.201010Z",
     "shell.execute_reply": "2025-03-23T17:34:52.200170Z"
    },
    "papermill": {
     "duration": 0.026834,
     "end_time": "2025-03-23T17:34:52.202307",
     "exception": false,
     "start_time": "2025-03-23T17:34:52.175473",
     "status": "completed"
    },
    "tags": []
   },
   "outputs": [],
   "source": [
    "sent1 = req_content_data['content'].iloc[903]"
   ]
  },
  {
   "cell_type": "code",
   "execution_count": null,
   "id": "2b665f53",
   "metadata": {
    "execution": {
     "iopub.execute_input": "2025-03-23T17:34:52.245890Z",
     "iopub.status.busy": "2025-03-23T17:34:52.245601Z",
     "iopub.status.idle": "2025-03-23T17:34:52.249118Z",
     "shell.execute_reply": "2025-03-23T17:34:52.248321Z"
    },
    "papermill": {
     "duration": 0.026784,
     "end_time": "2025-03-23T17:34:52.250498",
     "exception": false,
     "start_time": "2025-03-23T17:34:52.223714",
     "status": "completed"
    },
    "tags": []
   },
   "outputs": [],
   "source": [
    "sent2 = req_content_data['content'].iloc[1051]"
   ]
  },
  {
   "cell_type": "code",
   "execution_count": null,
   "id": "54da002d",
   "metadata": {
    "execution": {
     "iopub.execute_input": "2025-03-23T17:34:52.293896Z",
     "iopub.status.busy": "2025-03-23T17:34:52.293648Z",
     "iopub.status.idle": "2025-03-23T17:34:52.298106Z",
     "shell.execute_reply": "2025-03-23T17:34:52.297320Z"
    },
    "papermill": {
     "duration": 0.027421,
     "end_time": "2025-03-23T17:34:52.299230",
     "exception": false,
     "start_time": "2025-03-23T17:34:52.271809",
     "status": "completed"
    },
    "tags": []
   },
   "outputs": [
    {
     "name": "stdout",
     "output_type": "stream",
     "text": [
      "{\"'moirainedamodred',\", 'man', 'with', 'epic', 'adventure', '\"randal\\'thor\",', 'one', 'are', 'is', 'dragon', 'ajah,', 'fiction', 'and', 'audiobook', \"'matrimcauthon',\", 'tar', \"'perrinaybara',\", 'next', 'elayne', 'no', 'will', 'of', 'it', \"'minfarshaw',\", 'sciencefictionfantasy', 'valon,', 'the', 'english', 'robertjordan', 'his', '\"egweneal\\'vere\",', 'hideous', 'magic', '\"nynaeveal\\'meara\",', 'adult', 'sedai,', '\"al\\'lanmandragoran\",', 'in', 'be', 'highfantasy', 'epicfantasy', 'fantasy', 'to', 'black', 'dark', 'pursuit', 'a'}\n"
     ]
    }
   ],
   "source": [
    "# Tokenize sentences into words\n",
    "sent1_words = set(sent1.lower().split())\n",
    "sent2_words = set(sent2.lower().split())\n",
    "\n",
    "# Find common words\n",
    "common_words = sent1_words.intersection(sent2_words)\n",
    "\n",
    "# Print common words\n",
    "print(common_words)\n"
   ]
  },
  {
   "cell_type": "code",
   "execution_count": null,
   "id": "cc084558",
   "metadata": {
    "execution": {
     "iopub.execute_input": "2025-03-23T17:34:52.343635Z",
     "iopub.status.busy": "2025-03-23T17:34:52.343338Z",
     "iopub.status.idle": "2025-03-23T17:34:52.350154Z",
     "shell.execute_reply": "2025-03-23T17:34:52.349440Z"
    },
    "papermill": {
     "duration": 0.030735,
     "end_time": "2025-03-23T17:34:52.351472",
     "exception": false,
     "start_time": "2025-03-23T17:34:52.320737",
     "status": "completed"
    },
    "tags": []
   },
   "outputs": [
    {
     "data": {
      "text/plain": [
       "11300"
      ]
     },
     "execution_count": 82,
     "metadata": {},
     "output_type": "execute_result"
    }
   ],
   "source": [
    "req_content_data['isbn'].nunique()"
   ]
  },
  {
   "cell_type": "code",
   "execution_count": null,
   "id": "b6d855fd",
   "metadata": {
    "execution": {
     "iopub.execute_input": "2025-03-23T17:34:52.396414Z",
     "iopub.status.busy": "2025-03-23T17:34:52.396096Z",
     "iopub.status.idle": "2025-03-23T17:34:52.481899Z",
     "shell.execute_reply": "2025-03-23T17:34:52.481094Z"
    },
    "papermill": {
     "duration": 0.109449,
     "end_time": "2025-03-23T17:34:52.483146",
     "exception": false,
     "start_time": "2025-03-23T17:34:52.373697",
     "status": "completed"
    },
    "tags": []
   },
   "outputs": [
    {
     "data": {
      "text/plain": [
       "isbn       11300\n",
       "title      11300\n",
       "tags       11300\n",
       "content    11300\n",
       "dtype: int64"
      ]
     },
     "execution_count": 83,
     "metadata": {},
     "output_type": "execute_result"
    }
   ],
   "source": [
    "req_content_data.nunique()"
   ]
  },
  {
   "cell_type": "code",
   "execution_count": null,
   "id": "f86f6077",
   "metadata": {
    "execution": {
     "iopub.execute_input": "2025-03-23T17:34:52.528364Z",
     "iopub.status.busy": "2025-03-23T17:34:52.528005Z",
     "iopub.status.idle": "2025-03-23T17:34:52.531705Z",
     "shell.execute_reply": "2025-03-23T17:34:52.530707Z"
    },
    "papermill": {
     "duration": 0.027615,
     "end_time": "2025-03-23T17:34:52.532983",
     "exception": false,
     "start_time": "2025-03-23T17:34:52.505368",
     "status": "completed"
    },
    "tags": []
   },
   "outputs": [],
   "source": [
    "# ----------------------------------------------------------------------------------------------------------------------------"
   ]
  },
  {
   "cell_type": "code",
   "execution_count": null,
   "id": "e8e1e977",
   "metadata": {
    "execution": {
     "iopub.execute_input": "2025-03-23T17:34:52.577844Z",
     "iopub.status.busy": "2025-03-23T17:34:52.577504Z",
     "iopub.status.idle": "2025-03-23T17:34:52.582610Z",
     "shell.execute_reply": "2025-03-23T17:34:52.581771Z"
    },
    "papermill": {
     "duration": 0.029104,
     "end_time": "2025-03-23T17:34:52.583932",
     "exception": false,
     "start_time": "2025-03-23T17:34:52.554828",
     "status": "completed"
    },
    "tags": []
   },
   "outputs": [
    {
     "data": {
      "text/plain": [
       "Index(['isbn', 'title', 'author', 'genres', 'language', 'characters',\n",
       "       'description', 'awards', 'coverImg', 'setting', 'rating', 'numRatings'],\n",
       "      dtype='object')"
      ]
     },
     "execution_count": 85,
     "metadata": {},
     "output_type": "execute_result"
    }
   ],
   "source": [
    "req_updated_books.columns"
   ]
  },
  {
   "cell_type": "code",
   "execution_count": null,
   "id": "d002d0bc",
   "metadata": {
    "execution": {
     "iopub.execute_input": "2025-03-23T17:34:52.628434Z",
     "iopub.status.busy": "2025-03-23T17:34:52.628085Z",
     "iopub.status.idle": "2025-03-23T17:34:52.633016Z",
     "shell.execute_reply": "2025-03-23T17:34:52.632135Z"
    },
    "papermill": {
     "duration": 0.028626,
     "end_time": "2025-03-23T17:34:52.634358",
     "exception": false,
     "start_time": "2025-03-23T17:34:52.605732",
     "status": "completed"
    },
    "tags": []
   },
   "outputs": [],
   "source": [
    "# COLLABORATIVE BASE\n",
    "collab_data = req_updated_books[['isbn', 'rating']]"
   ]
  },
  {
   "cell_type": "code",
   "execution_count": null,
   "id": "df497725",
   "metadata": {
    "execution": {
     "iopub.execute_input": "2025-03-23T17:34:52.678382Z",
     "iopub.status.busy": "2025-03-23T17:34:52.678051Z",
     "iopub.status.idle": "2025-03-23T17:34:52.685807Z",
     "shell.execute_reply": "2025-03-23T17:34:52.684935Z"
    },
    "papermill": {
     "duration": 0.031106,
     "end_time": "2025-03-23T17:34:52.687121",
     "exception": false,
     "start_time": "2025-03-23T17:34:52.656015",
     "status": "completed"
    },
    "tags": []
   },
   "outputs": [
    {
     "data": {
      "text/html": [
       "<div>\n",
       "<style scoped>\n",
       "    .dataframe tbody tr th:only-of-type {\n",
       "        vertical-align: middle;\n",
       "    }\n",
       "\n",
       "    .dataframe tbody tr th {\n",
       "        vertical-align: top;\n",
       "    }\n",
       "\n",
       "    .dataframe thead th {\n",
       "        text-align: right;\n",
       "    }\n",
       "</style>\n",
       "<table border=\"1\" class=\"dataframe\">\n",
       "  <thead>\n",
       "    <tr style=\"text-align: right;\">\n",
       "      <th></th>\n",
       "      <th>isbn</th>\n",
       "      <th>rating</th>\n",
       "    </tr>\n",
       "  </thead>\n",
       "  <tbody>\n",
       "    <tr>\n",
       "      <th>0</th>\n",
       "      <td>9780439023481</td>\n",
       "      <td>4.33</td>\n",
       "    </tr>\n",
       "    <tr>\n",
       "      <th>1</th>\n",
       "      <td>9780439358071</td>\n",
       "      <td>4.50</td>\n",
       "    </tr>\n",
       "  </tbody>\n",
       "</table>\n",
       "</div>"
      ],
      "text/plain": [
       "            isbn  rating\n",
       "0  9780439023481    4.33\n",
       "1  9780439358071    4.50"
      ]
     },
     "execution_count": 87,
     "metadata": {},
     "output_type": "execute_result"
    }
   ],
   "source": [
    "collab_data.head(2)"
   ]
  },
  {
   "cell_type": "code",
   "execution_count": null,
   "id": "30556a72",
   "metadata": {
    "execution": {
     "iopub.execute_input": "2025-03-23T17:34:52.731368Z",
     "iopub.status.busy": "2025-03-23T17:34:52.731095Z",
     "iopub.status.idle": "2025-03-23T17:34:52.735731Z",
     "shell.execute_reply": "2025-03-23T17:34:52.734774Z"
    },
    "papermill": {
     "duration": 0.028198,
     "end_time": "2025-03-23T17:34:52.736981",
     "exception": false,
     "start_time": "2025-03-23T17:34:52.708783",
     "status": "completed"
    },
    "tags": []
   },
   "outputs": [
    {
     "name": "stderr",
     "output_type": "stream",
     "text": [
      "<ipython-input-88-b08d4c72fef1>:2: SettingWithCopyWarning: \n",
      "A value is trying to be set on a copy of a slice from a DataFrame.\n",
      "Try using .loc[row_indexer,col_indexer] = value instead\n",
      "\n",
      "See the caveats in the documentation: https://pandas.pydata.org/pandas-docs/stable/user_guide/indexing.html#returning-a-view-versus-a-copy\n",
      "  collab_data['user_id'] = range(len(collab_data))\n"
     ]
    }
   ],
   "source": [
    "# ADDING USER ID COLUMN\n",
    "collab_data['user_id'] = range(len(collab_data))"
   ]
  },
  {
   "cell_type": "code",
   "execution_count": null,
   "id": "a0f81898",
   "metadata": {
    "execution": {
     "iopub.execute_input": "2025-03-23T17:34:52.781428Z",
     "iopub.status.busy": "2025-03-23T17:34:52.781131Z",
     "iopub.status.idle": "2025-03-23T17:34:52.788613Z",
     "shell.execute_reply": "2025-03-23T17:34:52.787791Z"
    },
    "papermill": {
     "duration": 0.031144,
     "end_time": "2025-03-23T17:34:52.789970",
     "exception": false,
     "start_time": "2025-03-23T17:34:52.758826",
     "status": "completed"
    },
    "tags": []
   },
   "outputs": [
    {
     "data": {
      "text/html": [
       "<div>\n",
       "<style scoped>\n",
       "    .dataframe tbody tr th:only-of-type {\n",
       "        vertical-align: middle;\n",
       "    }\n",
       "\n",
       "    .dataframe tbody tr th {\n",
       "        vertical-align: top;\n",
       "    }\n",
       "\n",
       "    .dataframe thead th {\n",
       "        text-align: right;\n",
       "    }\n",
       "</style>\n",
       "<table border=\"1\" class=\"dataframe\">\n",
       "  <thead>\n",
       "    <tr style=\"text-align: right;\">\n",
       "      <th></th>\n",
       "      <th>isbn</th>\n",
       "      <th>rating</th>\n",
       "      <th>user_id</th>\n",
       "    </tr>\n",
       "  </thead>\n",
       "  <tbody>\n",
       "    <tr>\n",
       "      <th>0</th>\n",
       "      <td>9780439023481</td>\n",
       "      <td>4.33</td>\n",
       "      <td>0</td>\n",
       "    </tr>\n",
       "    <tr>\n",
       "      <th>1</th>\n",
       "      <td>9780439358071</td>\n",
       "      <td>4.50</td>\n",
       "      <td>1</td>\n",
       "    </tr>\n",
       "  </tbody>\n",
       "</table>\n",
       "</div>"
      ],
      "text/plain": [
       "            isbn  rating  user_id\n",
       "0  9780439023481    4.33        0\n",
       "1  9780439358071    4.50        1"
      ]
     },
     "execution_count": 89,
     "metadata": {},
     "output_type": "execute_result"
    }
   ],
   "source": [
    "collab_data.head(2)"
   ]
  },
  {
   "cell_type": "code",
   "execution_count": null,
   "id": "cf2a6c78",
   "metadata": {
    "execution": {
     "iopub.execute_input": "2025-03-23T17:34:52.835535Z",
     "iopub.status.busy": "2025-03-23T17:34:52.835225Z",
     "iopub.status.idle": "2025-03-23T17:34:54.480584Z",
     "shell.execute_reply": "2025-03-23T17:34:54.479728Z"
    },
    "papermill": {
     "duration": 1.66947,
     "end_time": "2025-03-23T17:34:54.482176",
     "exception": false,
     "start_time": "2025-03-23T17:34:52.812706",
     "status": "completed"
    },
    "tags": []
   },
   "outputs": [],
   "source": [
    "collab_pivot = collab_data.pivot_table(columns='user_id', index='isbn', values= 'rating')"
   ]
  },
  {
   "cell_type": "code",
   "execution_count": null,
   "id": "9e317df5",
   "metadata": {
    "execution": {
     "iopub.execute_input": "2025-03-23T17:34:54.530093Z",
     "iopub.status.busy": "2025-03-23T17:34:54.529776Z",
     "iopub.status.idle": "2025-03-23T17:34:54.555845Z",
     "shell.execute_reply": "2025-03-23T17:34:54.554708Z"
    },
    "papermill": {
     "duration": 0.050121,
     "end_time": "2025-03-23T17:34:54.557094",
     "exception": false,
     "start_time": "2025-03-23T17:34:54.506973",
     "status": "completed"
    },
    "tags": []
   },
   "outputs": [
    {
     "name": "stderr",
     "output_type": "stream",
     "text": [
      "/usr/local/lib/python3.10/dist-packages/pandas/io/formats/format.py:1458: RuntimeWarning: invalid value encountered in greater\n",
      "  has_large_values = (abs_vals > 1e6).any()\n",
      "/usr/local/lib/python3.10/dist-packages/pandas/io/formats/format.py:1459: RuntimeWarning: invalid value encountered in less\n",
      "  has_small_values = ((abs_vals < 10 ** (-self.digits)) & (abs_vals > 0)).any()\n",
      "/usr/local/lib/python3.10/dist-packages/pandas/io/formats/format.py:1459: RuntimeWarning: invalid value encountered in greater\n",
      "  has_small_values = ((abs_vals < 10 ** (-self.digits)) & (abs_vals > 0)).any()\n"
     ]
    },
    {
     "data": {
      "text/html": [
       "<div>\n",
       "<style scoped>\n",
       "    .dataframe tbody tr th:only-of-type {\n",
       "        vertical-align: middle;\n",
       "    }\n",
       "\n",
       "    .dataframe tbody tr th {\n",
       "        vertical-align: top;\n",
       "    }\n",
       "\n",
       "    .dataframe thead th {\n",
       "        text-align: right;\n",
       "    }\n",
       "</style>\n",
       "<table border=\"1\" class=\"dataframe\">\n",
       "  <thead>\n",
       "    <tr style=\"text-align: right;\">\n",
       "      <th>user_id</th>\n",
       "      <th>0</th>\n",
       "      <th>1</th>\n",
       "      <th>2</th>\n",
       "      <th>3</th>\n",
       "      <th>4</th>\n",
       "      <th>5</th>\n",
       "      <th>6</th>\n",
       "      <th>7</th>\n",
       "      <th>8</th>\n",
       "      <th>9</th>\n",
       "      <th>...</th>\n",
       "      <th>11290</th>\n",
       "      <th>11291</th>\n",
       "      <th>11292</th>\n",
       "      <th>11293</th>\n",
       "      <th>11294</th>\n",
       "      <th>11295</th>\n",
       "      <th>11296</th>\n",
       "      <th>11297</th>\n",
       "      <th>11298</th>\n",
       "      <th>11299</th>\n",
       "    </tr>\n",
       "    <tr>\n",
       "      <th>isbn</th>\n",
       "      <th></th>\n",
       "      <th></th>\n",
       "      <th></th>\n",
       "      <th></th>\n",
       "      <th></th>\n",
       "      <th></th>\n",
       "      <th></th>\n",
       "      <th></th>\n",
       "      <th></th>\n",
       "      <th></th>\n",
       "      <th></th>\n",
       "      <th></th>\n",
       "      <th></th>\n",
       "      <th></th>\n",
       "      <th></th>\n",
       "      <th></th>\n",
       "      <th></th>\n",
       "      <th></th>\n",
       "      <th></th>\n",
       "      <th></th>\n",
       "      <th></th>\n",
       "    </tr>\n",
       "  </thead>\n",
       "  <tbody>\n",
       "    <tr>\n",
       "      <th>0000195170342</th>\n",
       "      <td>NaN</td>\n",
       "      <td>NaN</td>\n",
       "      <td>NaN</td>\n",
       "      <td>NaN</td>\n",
       "      <td>NaN</td>\n",
       "      <td>NaN</td>\n",
       "      <td>NaN</td>\n",
       "      <td>NaN</td>\n",
       "      <td>NaN</td>\n",
       "      <td>NaN</td>\n",
       "      <td>...</td>\n",
       "      <td>NaN</td>\n",
       "      <td>NaN</td>\n",
       "      <td>NaN</td>\n",
       "      <td>NaN</td>\n",
       "      <td>NaN</td>\n",
       "      <td>NaN</td>\n",
       "      <td>NaN</td>\n",
       "      <td>NaN</td>\n",
       "      <td>NaN</td>\n",
       "      <td>NaN</td>\n",
       "    </tr>\n",
       "    <tr>\n",
       "      <th>0031809014745</th>\n",
       "      <td>NaN</td>\n",
       "      <td>NaN</td>\n",
       "      <td>NaN</td>\n",
       "      <td>NaN</td>\n",
       "      <td>NaN</td>\n",
       "      <td>NaN</td>\n",
       "      <td>NaN</td>\n",
       "      <td>NaN</td>\n",
       "      <td>NaN</td>\n",
       "      <td>NaN</td>\n",
       "      <td>...</td>\n",
       "      <td>NaN</td>\n",
       "      <td>NaN</td>\n",
       "      <td>NaN</td>\n",
       "      <td>NaN</td>\n",
       "      <td>NaN</td>\n",
       "      <td>NaN</td>\n",
       "      <td>NaN</td>\n",
       "      <td>NaN</td>\n",
       "      <td>NaN</td>\n",
       "      <td>NaN</td>\n",
       "    </tr>\n",
       "    <tr>\n",
       "      <th>0076783609419</th>\n",
       "      <td>NaN</td>\n",
       "      <td>NaN</td>\n",
       "      <td>NaN</td>\n",
       "      <td>NaN</td>\n",
       "      <td>NaN</td>\n",
       "      <td>NaN</td>\n",
       "      <td>NaN</td>\n",
       "      <td>NaN</td>\n",
       "      <td>NaN</td>\n",
       "      <td>NaN</td>\n",
       "      <td>...</td>\n",
       "      <td>NaN</td>\n",
       "      <td>NaN</td>\n",
       "      <td>NaN</td>\n",
       "      <td>NaN</td>\n",
       "      <td>NaN</td>\n",
       "      <td>NaN</td>\n",
       "      <td>NaN</td>\n",
       "      <td>NaN</td>\n",
       "      <td>NaN</td>\n",
       "      <td>NaN</td>\n",
       "    </tr>\n",
       "    <tr>\n",
       "      <th>0630809681058</th>\n",
       "      <td>NaN</td>\n",
       "      <td>NaN</td>\n",
       "      <td>NaN</td>\n",
       "      <td>NaN</td>\n",
       "      <td>NaN</td>\n",
       "      <td>NaN</td>\n",
       "      <td>NaN</td>\n",
       "      <td>NaN</td>\n",
       "      <td>NaN</td>\n",
       "      <td>NaN</td>\n",
       "      <td>...</td>\n",
       "      <td>NaN</td>\n",
       "      <td>NaN</td>\n",
       "      <td>NaN</td>\n",
       "      <td>NaN</td>\n",
       "      <td>NaN</td>\n",
       "      <td>NaN</td>\n",
       "      <td>NaN</td>\n",
       "      <td>NaN</td>\n",
       "      <td>NaN</td>\n",
       "      <td>NaN</td>\n",
       "    </tr>\n",
       "    <tr>\n",
       "      <th>1230000005499</th>\n",
       "      <td>NaN</td>\n",
       "      <td>NaN</td>\n",
       "      <td>NaN</td>\n",
       "      <td>NaN</td>\n",
       "      <td>NaN</td>\n",
       "      <td>NaN</td>\n",
       "      <td>NaN</td>\n",
       "      <td>NaN</td>\n",
       "      <td>NaN</td>\n",
       "      <td>NaN</td>\n",
       "      <td>...</td>\n",
       "      <td>NaN</td>\n",
       "      <td>NaN</td>\n",
       "      <td>NaN</td>\n",
       "      <td>NaN</td>\n",
       "      <td>NaN</td>\n",
       "      <td>NaN</td>\n",
       "      <td>NaN</td>\n",
       "      <td>NaN</td>\n",
       "      <td>NaN</td>\n",
       "      <td>NaN</td>\n",
       "    </tr>\n",
       "    <tr>\n",
       "      <th>...</th>\n",
       "      <td>...</td>\n",
       "      <td>...</td>\n",
       "      <td>...</td>\n",
       "      <td>...</td>\n",
       "      <td>...</td>\n",
       "      <td>...</td>\n",
       "      <td>...</td>\n",
       "      <td>...</td>\n",
       "      <td>...</td>\n",
       "      <td>...</td>\n",
       "      <td>...</td>\n",
       "      <td>...</td>\n",
       "      <td>...</td>\n",
       "      <td>...</td>\n",
       "      <td>...</td>\n",
       "      <td>...</td>\n",
       "      <td>...</td>\n",
       "      <td>...</td>\n",
       "      <td>...</td>\n",
       "      <td>...</td>\n",
       "      <td>...</td>\n",
       "    </tr>\n",
       "    <tr>\n",
       "      <th>B081MXH4MQ</th>\n",
       "      <td>NaN</td>\n",
       "      <td>NaN</td>\n",
       "      <td>NaN</td>\n",
       "      <td>NaN</td>\n",
       "      <td>NaN</td>\n",
       "      <td>NaN</td>\n",
       "      <td>NaN</td>\n",
       "      <td>NaN</td>\n",
       "      <td>NaN</td>\n",
       "      <td>NaN</td>\n",
       "      <td>...</td>\n",
       "      <td>NaN</td>\n",
       "      <td>NaN</td>\n",
       "      <td>NaN</td>\n",
       "      <td>NaN</td>\n",
       "      <td>NaN</td>\n",
       "      <td>NaN</td>\n",
       "      <td>NaN</td>\n",
       "      <td>NaN</td>\n",
       "      <td>NaN</td>\n",
       "      <td>NaN</td>\n",
       "    </tr>\n",
       "    <tr>\n",
       "      <th>B082RGTTG8</th>\n",
       "      <td>NaN</td>\n",
       "      <td>NaN</td>\n",
       "      <td>NaN</td>\n",
       "      <td>NaN</td>\n",
       "      <td>NaN</td>\n",
       "      <td>NaN</td>\n",
       "      <td>NaN</td>\n",
       "      <td>NaN</td>\n",
       "      <td>NaN</td>\n",
       "      <td>NaN</td>\n",
       "      <td>...</td>\n",
       "      <td>NaN</td>\n",
       "      <td>NaN</td>\n",
       "      <td>NaN</td>\n",
       "      <td>NaN</td>\n",
       "      <td>NaN</td>\n",
       "      <td>NaN</td>\n",
       "      <td>NaN</td>\n",
       "      <td>NaN</td>\n",
       "      <td>NaN</td>\n",
       "      <td>NaN</td>\n",
       "    </tr>\n",
       "    <tr>\n",
       "      <th>B084FJW8DQ</th>\n",
       "      <td>NaN</td>\n",
       "      <td>NaN</td>\n",
       "      <td>NaN</td>\n",
       "      <td>NaN</td>\n",
       "      <td>NaN</td>\n",
       "      <td>NaN</td>\n",
       "      <td>NaN</td>\n",
       "      <td>NaN</td>\n",
       "      <td>NaN</td>\n",
       "      <td>NaN</td>\n",
       "      <td>...</td>\n",
       "      <td>NaN</td>\n",
       "      <td>NaN</td>\n",
       "      <td>NaN</td>\n",
       "      <td>NaN</td>\n",
       "      <td>NaN</td>\n",
       "      <td>NaN</td>\n",
       "      <td>NaN</td>\n",
       "      <td>NaN</td>\n",
       "      <td>NaN</td>\n",
       "      <td>NaN</td>\n",
       "    </tr>\n",
       "    <tr>\n",
       "      <th>B084HNWBD6</th>\n",
       "      <td>NaN</td>\n",
       "      <td>NaN</td>\n",
       "      <td>NaN</td>\n",
       "      <td>NaN</td>\n",
       "      <td>NaN</td>\n",
       "      <td>NaN</td>\n",
       "      <td>NaN</td>\n",
       "      <td>NaN</td>\n",
       "      <td>NaN</td>\n",
       "      <td>NaN</td>\n",
       "      <td>...</td>\n",
       "      <td>NaN</td>\n",
       "      <td>NaN</td>\n",
       "      <td>NaN</td>\n",
       "      <td>NaN</td>\n",
       "      <td>NaN</td>\n",
       "      <td>NaN</td>\n",
       "      <td>NaN</td>\n",
       "      <td>NaN</td>\n",
       "      <td>NaN</td>\n",
       "      <td>NaN</td>\n",
       "    </tr>\n",
       "    <tr>\n",
       "      <th>B0874WYYRJ</th>\n",
       "      <td>NaN</td>\n",
       "      <td>NaN</td>\n",
       "      <td>NaN</td>\n",
       "      <td>NaN</td>\n",
       "      <td>NaN</td>\n",
       "      <td>NaN</td>\n",
       "      <td>NaN</td>\n",
       "      <td>NaN</td>\n",
       "      <td>NaN</td>\n",
       "      <td>NaN</td>\n",
       "      <td>...</td>\n",
       "      <td>NaN</td>\n",
       "      <td>NaN</td>\n",
       "      <td>NaN</td>\n",
       "      <td>NaN</td>\n",
       "      <td>NaN</td>\n",
       "      <td>NaN</td>\n",
       "      <td>NaN</td>\n",
       "      <td>NaN</td>\n",
       "      <td>NaN</td>\n",
       "      <td>NaN</td>\n",
       "    </tr>\n",
       "  </tbody>\n",
       "</table>\n",
       "<p>11300 rows × 11300 columns</p>\n",
       "</div>"
      ],
      "text/plain": [
       "user_id        0      1      2      3      4      5      6      7      8      \\\n",
       "isbn                                                                           \n",
       "0000195170342    NaN    NaN    NaN    NaN    NaN    NaN    NaN    NaN    NaN   \n",
       "0031809014745    NaN    NaN    NaN    NaN    NaN    NaN    NaN    NaN    NaN   \n",
       "0076783609419    NaN    NaN    NaN    NaN    NaN    NaN    NaN    NaN    NaN   \n",
       "0630809681058    NaN    NaN    NaN    NaN    NaN    NaN    NaN    NaN    NaN   \n",
       "1230000005499    NaN    NaN    NaN    NaN    NaN    NaN    NaN    NaN    NaN   \n",
       "...              ...    ...    ...    ...    ...    ...    ...    ...    ...   \n",
       "B081MXH4MQ       NaN    NaN    NaN    NaN    NaN    NaN    NaN    NaN    NaN   \n",
       "B082RGTTG8       NaN    NaN    NaN    NaN    NaN    NaN    NaN    NaN    NaN   \n",
       "B084FJW8DQ       NaN    NaN    NaN    NaN    NaN    NaN    NaN    NaN    NaN   \n",
       "B084HNWBD6       NaN    NaN    NaN    NaN    NaN    NaN    NaN    NaN    NaN   \n",
       "B0874WYYRJ       NaN    NaN    NaN    NaN    NaN    NaN    NaN    NaN    NaN   \n",
       "\n",
       "user_id        9      ...  11290  11291  11292  11293  11294  11295  11296  \\\n",
       "isbn                  ...                                                    \n",
       "0000195170342    NaN  ...    NaN    NaN    NaN    NaN    NaN    NaN    NaN   \n",
       "0031809014745    NaN  ...    NaN    NaN    NaN    NaN    NaN    NaN    NaN   \n",
       "0076783609419    NaN  ...    NaN    NaN    NaN    NaN    NaN    NaN    NaN   \n",
       "0630809681058    NaN  ...    NaN    NaN    NaN    NaN    NaN    NaN    NaN   \n",
       "1230000005499    NaN  ...    NaN    NaN    NaN    NaN    NaN    NaN    NaN   \n",
       "...              ...  ...    ...    ...    ...    ...    ...    ...    ...   \n",
       "B081MXH4MQ       NaN  ...    NaN    NaN    NaN    NaN    NaN    NaN    NaN   \n",
       "B082RGTTG8       NaN  ...    NaN    NaN    NaN    NaN    NaN    NaN    NaN   \n",
       "B084FJW8DQ       NaN  ...    NaN    NaN    NaN    NaN    NaN    NaN    NaN   \n",
       "B084HNWBD6       NaN  ...    NaN    NaN    NaN    NaN    NaN    NaN    NaN   \n",
       "B0874WYYRJ       NaN  ...    NaN    NaN    NaN    NaN    NaN    NaN    NaN   \n",
       "\n",
       "user_id        11297  11298  11299  \n",
       "isbn                                \n",
       "0000195170342    NaN    NaN    NaN  \n",
       "0031809014745    NaN    NaN    NaN  \n",
       "0076783609419    NaN    NaN    NaN  \n",
       "0630809681058    NaN    NaN    NaN  \n",
       "1230000005499    NaN    NaN    NaN  \n",
       "...              ...    ...    ...  \n",
       "B081MXH4MQ       NaN    NaN    NaN  \n",
       "B082RGTTG8       NaN    NaN    NaN  \n",
       "B084FJW8DQ       NaN    NaN    NaN  \n",
       "B084HNWBD6       NaN    NaN    NaN  \n",
       "B0874WYYRJ       NaN    NaN    NaN  \n",
       "\n",
       "[11300 rows x 11300 columns]"
      ]
     },
     "execution_count": 91,
     "metadata": {},
     "output_type": "execute_result"
    }
   ],
   "source": [
    "collab_pivot"
   ]
  },
  {
   "cell_type": "code",
   "execution_count": null,
   "id": "b2adb392",
   "metadata": {
    "execution": {
     "iopub.execute_input": "2025-03-23T17:34:54.603431Z",
     "iopub.status.busy": "2025-03-23T17:34:54.603094Z",
     "iopub.status.idle": "2025-03-23T17:34:54.609217Z",
     "shell.execute_reply": "2025-03-23T17:34:54.608425Z"
    },
    "papermill": {
     "duration": 0.030504,
     "end_time": "2025-03-23T17:34:54.610534",
     "exception": false,
     "start_time": "2025-03-23T17:34:54.580030",
     "status": "completed"
    },
    "tags": []
   },
   "outputs": [
    {
     "data": {
      "text/plain": [
       "0    4.33\n",
       "1    4.50\n",
       "2    4.28\n",
       "3    3.60\n",
       "Name: rating, dtype: float64"
      ]
     },
     "execution_count": 92,
     "metadata": {},
     "output_type": "execute_result"
    }
   ],
   "source": [
    "collab_data['rating'].head(4)"
   ]
  },
  {
   "cell_type": "code",
   "execution_count": null,
   "id": "d2228431",
   "metadata": {
    "execution": {
     "iopub.execute_input": "2025-03-23T17:34:54.656026Z",
     "iopub.status.busy": "2025-03-23T17:34:54.655770Z",
     "iopub.status.idle": "2025-03-23T17:34:54.664378Z",
     "shell.execute_reply": "2025-03-23T17:34:54.663716Z"
    },
    "papermill": {
     "duration": 0.032638,
     "end_time": "2025-03-23T17:34:54.665500",
     "exception": false,
     "start_time": "2025-03-23T17:34:54.632862",
     "status": "completed"
    },
    "tags": []
   },
   "outputs": [
    {
     "data": {
      "text/html": [
       "<div>\n",
       "<style scoped>\n",
       "    .dataframe tbody tr th:only-of-type {\n",
       "        vertical-align: middle;\n",
       "    }\n",
       "\n",
       "    .dataframe tbody tr th {\n",
       "        vertical-align: top;\n",
       "    }\n",
       "\n",
       "    .dataframe thead th {\n",
       "        text-align: right;\n",
       "    }\n",
       "</style>\n",
       "<table border=\"1\" class=\"dataframe\">\n",
       "  <thead>\n",
       "    <tr style=\"text-align: right;\">\n",
       "      <th></th>\n",
       "      <th>isbn</th>\n",
       "      <th>rating</th>\n",
       "      <th>user_id</th>\n",
       "    </tr>\n",
       "  </thead>\n",
       "  <tbody>\n",
       "    <tr>\n",
       "      <th>0</th>\n",
       "      <td>9780439023481</td>\n",
       "      <td>4.33</td>\n",
       "      <td>0</td>\n",
       "    </tr>\n",
       "    <tr>\n",
       "      <th>1</th>\n",
       "      <td>9780439358071</td>\n",
       "      <td>4.50</td>\n",
       "      <td>1</td>\n",
       "    </tr>\n",
       "    <tr>\n",
       "      <th>2</th>\n",
       "      <td>9999999999999</td>\n",
       "      <td>4.28</td>\n",
       "      <td>2</td>\n",
       "    </tr>\n",
       "    <tr>\n",
       "      <th>3</th>\n",
       "      <td>9780316015844</td>\n",
       "      <td>3.60</td>\n",
       "      <td>3</td>\n",
       "    </tr>\n",
       "    <tr>\n",
       "      <th>4</th>\n",
       "      <td>9780375831003</td>\n",
       "      <td>4.37</td>\n",
       "      <td>4</td>\n",
       "    </tr>\n",
       "    <tr>\n",
       "      <th>...</th>\n",
       "      <td>...</td>\n",
       "      <td>...</td>\n",
       "      <td>...</td>\n",
       "    </tr>\n",
       "    <tr>\n",
       "      <th>11295</th>\n",
       "      <td>9781250078285</td>\n",
       "      <td>4.23</td>\n",
       "      <td>11295</td>\n",
       "    </tr>\n",
       "    <tr>\n",
       "      <th>11296</th>\n",
       "      <td>9780684839387</td>\n",
       "      <td>4.17</td>\n",
       "      <td>11296</td>\n",
       "    </tr>\n",
       "    <tr>\n",
       "      <th>11297</th>\n",
       "      <td>9781447256274</td>\n",
       "      <td>4.05</td>\n",
       "      <td>11297</td>\n",
       "    </tr>\n",
       "    <tr>\n",
       "      <th>11298</th>\n",
       "      <td>9781760111236</td>\n",
       "      <td>3.53</td>\n",
       "      <td>11298</td>\n",
       "    </tr>\n",
       "    <tr>\n",
       "      <th>11299</th>\n",
       "      <td>9780937611357</td>\n",
       "      <td>4.36</td>\n",
       "      <td>11299</td>\n",
       "    </tr>\n",
       "  </tbody>\n",
       "</table>\n",
       "<p>11300 rows × 3 columns</p>\n",
       "</div>"
      ],
      "text/plain": [
       "                isbn  rating  user_id\n",
       "0      9780439023481    4.33        0\n",
       "1      9780439358071    4.50        1\n",
       "2      9999999999999    4.28        2\n",
       "3      9780316015844    3.60        3\n",
       "4      9780375831003    4.37        4\n",
       "...              ...     ...      ...\n",
       "11295  9781250078285    4.23    11295\n",
       "11296  9780684839387    4.17    11296\n",
       "11297  9781447256274    4.05    11297\n",
       "11298  9781760111236    3.53    11298\n",
       "11299  9780937611357    4.36    11299\n",
       "\n",
       "[11300 rows x 3 columns]"
      ]
     },
     "execution_count": 93,
     "metadata": {},
     "output_type": "execute_result"
    }
   ],
   "source": [
    "collab_data"
   ]
  },
  {
   "cell_type": "code",
   "execution_count": null,
   "id": "19cd012a",
   "metadata": {
    "execution": {
     "iopub.execute_input": "2025-03-23T17:34:54.711009Z",
     "iopub.status.busy": "2025-03-23T17:34:54.710731Z",
     "iopub.status.idle": "2025-03-23T17:34:54.715203Z",
     "shell.execute_reply": "2025-03-23T17:34:54.714505Z"
    },
    "papermill": {
     "duration": 0.028609,
     "end_time": "2025-03-23T17:34:54.716379",
     "exception": false,
     "start_time": "2025-03-23T17:34:54.687770",
     "status": "completed"
    },
    "tags": []
   },
   "outputs": [
    {
     "data": {
      "text/plain": [
       "(11300, 11300)"
      ]
     },
     "execution_count": 94,
     "metadata": {},
     "output_type": "execute_result"
    }
   ],
   "source": [
    "collab_pivot.shape"
   ]
  },
  {
   "cell_type": "code",
   "execution_count": null,
   "id": "2df6f0b1",
   "metadata": {
    "execution": {
     "iopub.execute_input": "2025-03-23T17:34:54.761999Z",
     "iopub.status.busy": "2025-03-23T17:34:54.761755Z",
     "iopub.status.idle": "2025-03-23T17:34:56.213404Z",
     "shell.execute_reply": "2025-03-23T17:34:56.212688Z"
    },
    "papermill": {
     "duration": 1.475982,
     "end_time": "2025-03-23T17:34:56.214903",
     "exception": false,
     "start_time": "2025-03-23T17:34:54.738921",
     "status": "completed"
    },
    "tags": []
   },
   "outputs": [],
   "source": [
    "collab_pivot.fillna(0, inplace=True)"
   ]
  },
  {
   "cell_type": "code",
   "execution_count": null,
   "id": "402cd3dd",
   "metadata": {
    "execution": {
     "iopub.execute_input": "2025-03-23T17:34:56.261320Z",
     "iopub.status.busy": "2025-03-23T17:34:56.260998Z",
     "iopub.status.idle": "2025-03-23T17:34:56.265730Z",
     "shell.execute_reply": "2025-03-23T17:34:56.264931Z"
    },
    "papermill": {
     "duration": 0.029167,
     "end_time": "2025-03-23T17:34:56.267056",
     "exception": false,
     "start_time": "2025-03-23T17:34:56.237889",
     "status": "completed"
    },
    "tags": []
   },
   "outputs": [
    {
     "data": {
      "text/plain": [
       "(11300, 11300)"
      ]
     },
     "execution_count": 96,
     "metadata": {},
     "output_type": "execute_result"
    }
   ],
   "source": [
    "collab_pivot.shape"
   ]
  },
  {
   "cell_type": "code",
   "execution_count": null,
   "id": "91eb699e",
   "metadata": {
    "execution": {
     "iopub.execute_input": "2025-03-23T17:34:56.313771Z",
     "iopub.status.busy": "2025-03-23T17:34:56.313459Z",
     "iopub.status.idle": "2025-03-23T17:34:56.317054Z",
     "shell.execute_reply": "2025-03-23T17:34:56.316177Z"
    },
    "papermill": {
     "duration": 0.028273,
     "end_time": "2025-03-23T17:34:56.318457",
     "exception": false,
     "start_time": "2025-03-23T17:34:56.290184",
     "status": "completed"
    },
    "tags": []
   },
   "outputs": [],
   "source": [
    "import random"
   ]
  },
  {
   "cell_type": "code",
   "execution_count": null,
   "id": "cbb040c4",
   "metadata": {
    "execution": {
     "iopub.execute_input": "2025-03-23T17:34:56.365022Z",
     "iopub.status.busy": "2025-03-23T17:34:56.364769Z",
     "iopub.status.idle": "2025-03-23T17:34:56.368491Z",
     "shell.execute_reply": "2025-03-23T17:34:56.367724Z"
    },
    "papermill": {
     "duration": 0.028487,
     "end_time": "2025-03-23T17:34:56.369763",
     "exception": false,
     "start_time": "2025-03-23T17:34:56.341276",
     "status": "completed"
    },
    "tags": []
   },
   "outputs": [],
   "source": [
    "# FUNCTIONS\n",
    "def random_number_rating():\n",
    "    return round(random.uniform(1, 5), 2)\n",
    "def random_number_iterations():\n",
    "    return random.randint(100, 1000)\n",
    "def random_number_index():\n",
    "    return random.randint(0, 11299)\n"
   ]
  },
  {
   "cell_type": "code",
   "execution_count": null,
   "id": "9e77af96",
   "metadata": {
    "execution": {
     "iopub.execute_input": "2025-03-23T17:34:56.415673Z",
     "iopub.status.busy": "2025-03-23T17:34:56.415411Z",
     "iopub.status.idle": "2025-03-23T17:34:56.445395Z",
     "shell.execute_reply": "2025-03-23T17:34:56.444569Z"
    },
    "papermill": {
     "duration": 0.054036,
     "end_time": "2025-03-23T17:34:56.446603",
     "exception": false,
     "start_time": "2025-03-23T17:34:56.392567",
     "status": "completed"
    },
    "tags": []
   },
   "outputs": [
    {
     "data": {
      "text/html": [
       "<div>\n",
       "<style scoped>\n",
       "    .dataframe tbody tr th:only-of-type {\n",
       "        vertical-align: middle;\n",
       "    }\n",
       "\n",
       "    .dataframe tbody tr th {\n",
       "        vertical-align: top;\n",
       "    }\n",
       "\n",
       "    .dataframe thead th {\n",
       "        text-align: right;\n",
       "    }\n",
       "</style>\n",
       "<table border=\"1\" class=\"dataframe\">\n",
       "  <thead>\n",
       "    <tr style=\"text-align: right;\">\n",
       "      <th>user_id</th>\n",
       "      <th>0</th>\n",
       "      <th>1</th>\n",
       "      <th>2</th>\n",
       "      <th>3</th>\n",
       "      <th>4</th>\n",
       "      <th>5</th>\n",
       "      <th>6</th>\n",
       "      <th>7</th>\n",
       "      <th>8</th>\n",
       "      <th>9</th>\n",
       "      <th>...</th>\n",
       "      <th>11290</th>\n",
       "      <th>11291</th>\n",
       "      <th>11292</th>\n",
       "      <th>11293</th>\n",
       "      <th>11294</th>\n",
       "      <th>11295</th>\n",
       "      <th>11296</th>\n",
       "      <th>11297</th>\n",
       "      <th>11298</th>\n",
       "      <th>11299</th>\n",
       "    </tr>\n",
       "    <tr>\n",
       "      <th>isbn</th>\n",
       "      <th></th>\n",
       "      <th></th>\n",
       "      <th></th>\n",
       "      <th></th>\n",
       "      <th></th>\n",
       "      <th></th>\n",
       "      <th></th>\n",
       "      <th></th>\n",
       "      <th></th>\n",
       "      <th></th>\n",
       "      <th></th>\n",
       "      <th></th>\n",
       "      <th></th>\n",
       "      <th></th>\n",
       "      <th></th>\n",
       "      <th></th>\n",
       "      <th></th>\n",
       "      <th></th>\n",
       "      <th></th>\n",
       "      <th></th>\n",
       "      <th></th>\n",
       "    </tr>\n",
       "  </thead>\n",
       "  <tbody>\n",
       "    <tr>\n",
       "      <th>0000195170342</th>\n",
       "      <td>0.0</td>\n",
       "      <td>0.0</td>\n",
       "      <td>0.0</td>\n",
       "      <td>0.0</td>\n",
       "      <td>0.0</td>\n",
       "      <td>0.0</td>\n",
       "      <td>0.0</td>\n",
       "      <td>0.0</td>\n",
       "      <td>0.0</td>\n",
       "      <td>0.0</td>\n",
       "      <td>...</td>\n",
       "      <td>0.0</td>\n",
       "      <td>0.0</td>\n",
       "      <td>0.0</td>\n",
       "      <td>0.0</td>\n",
       "      <td>0.0</td>\n",
       "      <td>0.0</td>\n",
       "      <td>0.0</td>\n",
       "      <td>0.0</td>\n",
       "      <td>0.0</td>\n",
       "      <td>0.0</td>\n",
       "    </tr>\n",
       "    <tr>\n",
       "      <th>0031809014745</th>\n",
       "      <td>0.0</td>\n",
       "      <td>0.0</td>\n",
       "      <td>0.0</td>\n",
       "      <td>0.0</td>\n",
       "      <td>0.0</td>\n",
       "      <td>0.0</td>\n",
       "      <td>0.0</td>\n",
       "      <td>0.0</td>\n",
       "      <td>0.0</td>\n",
       "      <td>0.0</td>\n",
       "      <td>...</td>\n",
       "      <td>0.0</td>\n",
       "      <td>0.0</td>\n",
       "      <td>0.0</td>\n",
       "      <td>0.0</td>\n",
       "      <td>0.0</td>\n",
       "      <td>0.0</td>\n",
       "      <td>0.0</td>\n",
       "      <td>0.0</td>\n",
       "      <td>0.0</td>\n",
       "      <td>0.0</td>\n",
       "    </tr>\n",
       "    <tr>\n",
       "      <th>0076783609419</th>\n",
       "      <td>0.0</td>\n",
       "      <td>0.0</td>\n",
       "      <td>0.0</td>\n",
       "      <td>0.0</td>\n",
       "      <td>0.0</td>\n",
       "      <td>0.0</td>\n",
       "      <td>0.0</td>\n",
       "      <td>0.0</td>\n",
       "      <td>0.0</td>\n",
       "      <td>0.0</td>\n",
       "      <td>...</td>\n",
       "      <td>0.0</td>\n",
       "      <td>0.0</td>\n",
       "      <td>0.0</td>\n",
       "      <td>0.0</td>\n",
       "      <td>0.0</td>\n",
       "      <td>0.0</td>\n",
       "      <td>0.0</td>\n",
       "      <td>0.0</td>\n",
       "      <td>0.0</td>\n",
       "      <td>0.0</td>\n",
       "    </tr>\n",
       "    <tr>\n",
       "      <th>0630809681058</th>\n",
       "      <td>0.0</td>\n",
       "      <td>0.0</td>\n",
       "      <td>0.0</td>\n",
       "      <td>0.0</td>\n",
       "      <td>0.0</td>\n",
       "      <td>0.0</td>\n",
       "      <td>0.0</td>\n",
       "      <td>0.0</td>\n",
       "      <td>0.0</td>\n",
       "      <td>0.0</td>\n",
       "      <td>...</td>\n",
       "      <td>0.0</td>\n",
       "      <td>0.0</td>\n",
       "      <td>0.0</td>\n",
       "      <td>0.0</td>\n",
       "      <td>0.0</td>\n",
       "      <td>0.0</td>\n",
       "      <td>0.0</td>\n",
       "      <td>0.0</td>\n",
       "      <td>0.0</td>\n",
       "      <td>0.0</td>\n",
       "    </tr>\n",
       "    <tr>\n",
       "      <th>1230000005499</th>\n",
       "      <td>0.0</td>\n",
       "      <td>0.0</td>\n",
       "      <td>0.0</td>\n",
       "      <td>0.0</td>\n",
       "      <td>0.0</td>\n",
       "      <td>0.0</td>\n",
       "      <td>0.0</td>\n",
       "      <td>0.0</td>\n",
       "      <td>0.0</td>\n",
       "      <td>0.0</td>\n",
       "      <td>...</td>\n",
       "      <td>0.0</td>\n",
       "      <td>0.0</td>\n",
       "      <td>0.0</td>\n",
       "      <td>0.0</td>\n",
       "      <td>0.0</td>\n",
       "      <td>0.0</td>\n",
       "      <td>0.0</td>\n",
       "      <td>0.0</td>\n",
       "      <td>0.0</td>\n",
       "      <td>0.0</td>\n",
       "    </tr>\n",
       "    <tr>\n",
       "      <th>...</th>\n",
       "      <td>...</td>\n",
       "      <td>...</td>\n",
       "      <td>...</td>\n",
       "      <td>...</td>\n",
       "      <td>...</td>\n",
       "      <td>...</td>\n",
       "      <td>...</td>\n",
       "      <td>...</td>\n",
       "      <td>...</td>\n",
       "      <td>...</td>\n",
       "      <td>...</td>\n",
       "      <td>...</td>\n",
       "      <td>...</td>\n",
       "      <td>...</td>\n",
       "      <td>...</td>\n",
       "      <td>...</td>\n",
       "      <td>...</td>\n",
       "      <td>...</td>\n",
       "      <td>...</td>\n",
       "      <td>...</td>\n",
       "      <td>...</td>\n",
       "    </tr>\n",
       "    <tr>\n",
       "      <th>B081MXH4MQ</th>\n",
       "      <td>0.0</td>\n",
       "      <td>0.0</td>\n",
       "      <td>0.0</td>\n",
       "      <td>0.0</td>\n",
       "      <td>0.0</td>\n",
       "      <td>0.0</td>\n",
       "      <td>0.0</td>\n",
       "      <td>0.0</td>\n",
       "      <td>0.0</td>\n",
       "      <td>0.0</td>\n",
       "      <td>...</td>\n",
       "      <td>0.0</td>\n",
       "      <td>0.0</td>\n",
       "      <td>0.0</td>\n",
       "      <td>0.0</td>\n",
       "      <td>0.0</td>\n",
       "      <td>0.0</td>\n",
       "      <td>0.0</td>\n",
       "      <td>0.0</td>\n",
       "      <td>0.0</td>\n",
       "      <td>0.0</td>\n",
       "    </tr>\n",
       "    <tr>\n",
       "      <th>B082RGTTG8</th>\n",
       "      <td>0.0</td>\n",
       "      <td>0.0</td>\n",
       "      <td>0.0</td>\n",
       "      <td>0.0</td>\n",
       "      <td>0.0</td>\n",
       "      <td>0.0</td>\n",
       "      <td>0.0</td>\n",
       "      <td>0.0</td>\n",
       "      <td>0.0</td>\n",
       "      <td>0.0</td>\n",
       "      <td>...</td>\n",
       "      <td>0.0</td>\n",
       "      <td>0.0</td>\n",
       "      <td>0.0</td>\n",
       "      <td>0.0</td>\n",
       "      <td>0.0</td>\n",
       "      <td>0.0</td>\n",
       "      <td>0.0</td>\n",
       "      <td>0.0</td>\n",
       "      <td>0.0</td>\n",
       "      <td>0.0</td>\n",
       "    </tr>\n",
       "    <tr>\n",
       "      <th>B084FJW8DQ</th>\n",
       "      <td>0.0</td>\n",
       "      <td>0.0</td>\n",
       "      <td>0.0</td>\n",
       "      <td>0.0</td>\n",
       "      <td>0.0</td>\n",
       "      <td>0.0</td>\n",
       "      <td>0.0</td>\n",
       "      <td>0.0</td>\n",
       "      <td>0.0</td>\n",
       "      <td>0.0</td>\n",
       "      <td>...</td>\n",
       "      <td>0.0</td>\n",
       "      <td>0.0</td>\n",
       "      <td>0.0</td>\n",
       "      <td>0.0</td>\n",
       "      <td>0.0</td>\n",
       "      <td>0.0</td>\n",
       "      <td>0.0</td>\n",
       "      <td>0.0</td>\n",
       "      <td>0.0</td>\n",
       "      <td>0.0</td>\n",
       "    </tr>\n",
       "    <tr>\n",
       "      <th>B084HNWBD6</th>\n",
       "      <td>0.0</td>\n",
       "      <td>0.0</td>\n",
       "      <td>0.0</td>\n",
       "      <td>0.0</td>\n",
       "      <td>0.0</td>\n",
       "      <td>0.0</td>\n",
       "      <td>0.0</td>\n",
       "      <td>0.0</td>\n",
       "      <td>0.0</td>\n",
       "      <td>0.0</td>\n",
       "      <td>...</td>\n",
       "      <td>0.0</td>\n",
       "      <td>0.0</td>\n",
       "      <td>0.0</td>\n",
       "      <td>0.0</td>\n",
       "      <td>0.0</td>\n",
       "      <td>0.0</td>\n",
       "      <td>0.0</td>\n",
       "      <td>0.0</td>\n",
       "      <td>0.0</td>\n",
       "      <td>0.0</td>\n",
       "    </tr>\n",
       "    <tr>\n",
       "      <th>B0874WYYRJ</th>\n",
       "      <td>0.0</td>\n",
       "      <td>0.0</td>\n",
       "      <td>0.0</td>\n",
       "      <td>0.0</td>\n",
       "      <td>0.0</td>\n",
       "      <td>0.0</td>\n",
       "      <td>0.0</td>\n",
       "      <td>0.0</td>\n",
       "      <td>0.0</td>\n",
       "      <td>0.0</td>\n",
       "      <td>...</td>\n",
       "      <td>0.0</td>\n",
       "      <td>0.0</td>\n",
       "      <td>0.0</td>\n",
       "      <td>0.0</td>\n",
       "      <td>0.0</td>\n",
       "      <td>0.0</td>\n",
       "      <td>0.0</td>\n",
       "      <td>0.0</td>\n",
       "      <td>0.0</td>\n",
       "      <td>0.0</td>\n",
       "    </tr>\n",
       "  </tbody>\n",
       "</table>\n",
       "<p>11300 rows × 11300 columns</p>\n",
       "</div>"
      ],
      "text/plain": [
       "user_id        0      1      2      3      4      5      6      7      8      \\\n",
       "isbn                                                                           \n",
       "0000195170342    0.0    0.0    0.0    0.0    0.0    0.0    0.0    0.0    0.0   \n",
       "0031809014745    0.0    0.0    0.0    0.0    0.0    0.0    0.0    0.0    0.0   \n",
       "0076783609419    0.0    0.0    0.0    0.0    0.0    0.0    0.0    0.0    0.0   \n",
       "0630809681058    0.0    0.0    0.0    0.0    0.0    0.0    0.0    0.0    0.0   \n",
       "1230000005499    0.0    0.0    0.0    0.0    0.0    0.0    0.0    0.0    0.0   \n",
       "...              ...    ...    ...    ...    ...    ...    ...    ...    ...   \n",
       "B081MXH4MQ       0.0    0.0    0.0    0.0    0.0    0.0    0.0    0.0    0.0   \n",
       "B082RGTTG8       0.0    0.0    0.0    0.0    0.0    0.0    0.0    0.0    0.0   \n",
       "B084FJW8DQ       0.0    0.0    0.0    0.0    0.0    0.0    0.0    0.0    0.0   \n",
       "B084HNWBD6       0.0    0.0    0.0    0.0    0.0    0.0    0.0    0.0    0.0   \n",
       "B0874WYYRJ       0.0    0.0    0.0    0.0    0.0    0.0    0.0    0.0    0.0   \n",
       "\n",
       "user_id        9      ...  11290  11291  11292  11293  11294  11295  11296  \\\n",
       "isbn                  ...                                                    \n",
       "0000195170342    0.0  ...    0.0    0.0    0.0    0.0    0.0    0.0    0.0   \n",
       "0031809014745    0.0  ...    0.0    0.0    0.0    0.0    0.0    0.0    0.0   \n",
       "0076783609419    0.0  ...    0.0    0.0    0.0    0.0    0.0    0.0    0.0   \n",
       "0630809681058    0.0  ...    0.0    0.0    0.0    0.0    0.0    0.0    0.0   \n",
       "1230000005499    0.0  ...    0.0    0.0    0.0    0.0    0.0    0.0    0.0   \n",
       "...              ...  ...    ...    ...    ...    ...    ...    ...    ...   \n",
       "B081MXH4MQ       0.0  ...    0.0    0.0    0.0    0.0    0.0    0.0    0.0   \n",
       "B082RGTTG8       0.0  ...    0.0    0.0    0.0    0.0    0.0    0.0    0.0   \n",
       "B084FJW8DQ       0.0  ...    0.0    0.0    0.0    0.0    0.0    0.0    0.0   \n",
       "B084HNWBD6       0.0  ...    0.0    0.0    0.0    0.0    0.0    0.0    0.0   \n",
       "B0874WYYRJ       0.0  ...    0.0    0.0    0.0    0.0    0.0    0.0    0.0   \n",
       "\n",
       "user_id        11297  11298  11299  \n",
       "isbn                                \n",
       "0000195170342    0.0    0.0    0.0  \n",
       "0031809014745    0.0    0.0    0.0  \n",
       "0076783609419    0.0    0.0    0.0  \n",
       "0630809681058    0.0    0.0    0.0  \n",
       "1230000005499    0.0    0.0    0.0  \n",
       "...              ...    ...    ...  \n",
       "B081MXH4MQ       0.0    0.0    0.0  \n",
       "B082RGTTG8       0.0    0.0    0.0  \n",
       "B084FJW8DQ       0.0    0.0    0.0  \n",
       "B084HNWBD6       0.0    0.0    0.0  \n",
       "B0874WYYRJ       0.0    0.0    0.0  \n",
       "\n",
       "[11300 rows x 11300 columns]"
      ]
     },
     "execution_count": 99,
     "metadata": {},
     "output_type": "execute_result"
    }
   ],
   "source": [
    "collab_pivot"
   ]
  },
  {
   "cell_type": "code",
   "execution_count": null,
   "id": "0cce6925",
   "metadata": {
    "execution": {
     "iopub.execute_input": "2025-03-23T17:34:56.494579Z",
     "iopub.status.busy": "2025-03-23T17:34:56.494280Z",
     "iopub.status.idle": "2025-03-23T17:34:56.497517Z",
     "shell.execute_reply": "2025-03-23T17:34:56.496768Z"
    },
    "papermill": {
     "duration": 0.028434,
     "end_time": "2025-03-23T17:34:56.498670",
     "exception": false,
     "start_time": "2025-03-23T17:34:56.470236",
     "status": "completed"
    },
    "tags": []
   },
   "outputs": [],
   "source": [
    "# # FILLING THE RATINGS MATRIX \n",
    "# def pivot_table(startRange, endRange):\n",
    "#     for rowIndex in range(startRange, endRange):\n",
    "#         numOfIterations = random_number_iterations()\n",
    "#         for _ in range(numOfIterations):\n",
    "#             columnNo = random_number_index()\n",
    "#             rating = random_number_rating()\n",
    "#             collab_pivot.iloc[rowIndex, columnNo] = rating"
   ]
  },
  {
   "cell_type": "code",
   "execution_count": null,
   "id": "8eef86ca",
   "metadata": {
    "execution": {
     "iopub.execute_input": "2025-03-23T17:34:56.546163Z",
     "iopub.status.busy": "2025-03-23T17:34:56.545888Z",
     "iopub.status.idle": "2025-03-23T17:37:04.576748Z",
     "shell.execute_reply": "2025-03-23T17:37:04.575420Z"
    },
    "papermill": {
     "duration": 128.080988,
     "end_time": "2025-03-23T17:37:04.603000",
     "exception": false,
     "start_time": "2025-03-23T17:34:56.522012",
     "status": "completed"
    },
    "tags": []
   },
   "outputs": [
    {
     "name": "stdout",
     "output_type": "stream",
     "text": [
      "user_id        0      1      2      3      4      5      6      7      8      \\\n",
      "isbn                                                                           \n",
      "0000195170342    0.0    0.0    0.0    0.0    0.0    0.0    0.0    0.0    0.0   \n",
      "0031809014745    0.0    0.0    0.0    0.0    0.0    0.0    0.0    0.0    0.0   \n",
      "0076783609419    0.0    0.0    0.0    0.0    0.0    0.0    0.0    0.0    0.0   \n",
      "0630809681058    0.0    0.0    0.0    0.0    0.0    0.0    0.0    0.0    0.0   \n",
      "1230000005499    0.0    0.0    0.0    0.0    0.0    0.0    0.0    0.0    0.0   \n",
      "...              ...    ...    ...    ...    ...    ...    ...    ...    ...   \n",
      "B081MXH4MQ       0.0    0.0    0.0    0.0    0.0    0.0    0.0    0.0    0.0   \n",
      "B082RGTTG8       0.0    0.0    0.0    0.0    0.0    0.0    0.0    0.0    0.0   \n",
      "B084FJW8DQ       0.0    0.0    0.0    0.0    0.0    0.0    0.0    0.0    0.0   \n",
      "B084HNWBD6       0.0    0.0    0.0    0.0    0.0    0.0    0.0    0.0    0.0   \n",
      "B0874WYYRJ       0.0    0.0    0.0    0.0    0.0    0.0    0.0    0.0    0.0   \n",
      "\n",
      "user_id        9      ...  11290  11291  11292  11293  11294  11295  11296  \\\n",
      "isbn                  ...                                                    \n",
      "0000195170342    0.0  ...    0.0    0.0    0.0    0.0    0.0    0.0    0.0   \n",
      "0031809014745    0.0  ...    0.0    0.0    0.0    0.0    0.0    0.0    0.0   \n",
      "0076783609419    0.0  ...    0.0    0.0    0.0    0.0    0.0    0.0    0.0   \n",
      "0630809681058    0.0  ...    0.0    0.0    0.0    0.0    0.0    0.0    0.0   \n",
      "1230000005499    0.0  ...    0.0    0.0    0.0    0.0    0.0    0.0    0.0   \n",
      "...              ...  ...    ...    ...    ...    ...    ...    ...    ...   \n",
      "B081MXH4MQ       0.0  ...    0.0    0.0    0.0    0.0    0.0    0.0    0.0   \n",
      "B082RGTTG8       0.0  ...    0.0    0.0    0.0    0.0    0.0    0.0    0.0   \n",
      "B084FJW8DQ       0.0  ...    0.0    0.0    0.0    0.0    0.0    0.0    0.0   \n",
      "B084HNWBD6       0.0  ...    0.0    0.0    0.0    0.0    0.0    0.0    0.0   \n",
      "B0874WYYRJ       0.0  ...    0.0    0.0    0.0    0.0    0.0    0.0    0.0   \n",
      "\n",
      "user_id        11297  11298  11299  \n",
      "isbn                                \n",
      "0000195170342    0.0    0.0    0.0  \n",
      "0031809014745    0.0    0.0    0.0  \n",
      "0076783609419    0.0    0.0    0.0  \n",
      "0630809681058    0.0    0.0    0.0  \n",
      "1230000005499    0.0    0.0    0.0  \n",
      "...              ...    ...    ...  \n",
      "B081MXH4MQ       0.0    0.0    0.0  \n",
      "B082RGTTG8       0.0    0.0    0.0  \n",
      "B084FJW8DQ       0.0    0.0    0.0  \n",
      "B084HNWBD6       0.0    0.0    0.0  \n",
      "B0874WYYRJ       0.0    0.0    0.0  \n",
      "\n",
      "[11300 rows x 11300 columns]\n"
     ]
    }
   ],
   "source": [
    "import random\n",
    "import multiprocessing\n",
    "\n",
    "# Number of rows in the DataFrame\n",
    "num_rows = 11300  # Adjust as needed\n",
    "\n",
    "# Function to fill ratings matrix for a range of rows\n",
    "def fill_ratings(start_range, end_range):\n",
    "    for row_index in range(start_range, end_range):\n",
    "        num_iterations = random_number_iterations()\n",
    "        for _ in range(num_iterations):\n",
    "            column_no = random_number_index()\n",
    "            rating = random_number_rating()\n",
    "            collab_pivot.iloc[row_index, column_no] = rating\n",
    "\n",
    "# Define the number of processes to use\n",
    "num_processes = multiprocessing.cpu_count()\n",
    "\n",
    "# Divide the task among multiple processes\n",
    "rows_per_process = num_rows // num_processes\n",
    "processes = []\n",
    "for i in range(num_processes):\n",
    "    start_range = i * rows_per_process\n",
    "    end_range = (i + 1) * rows_per_process if i < num_processes - 1 else num_rows\n",
    "    process = multiprocessing.Process(target=fill_ratings, args=(start_range, end_range))\n",
    "    processes.append(process)\n",
    "\n",
    "# Start the processes\n",
    "for process in processes:\n",
    "    process.start()\n",
    "\n",
    "# Wait for all processes to finish\n",
    "for process in processes:\n",
    "    process.join()\n",
    "\n",
    "# Print the resulting DataFrame\n",
    "print(collab_pivot)\n"
   ]
  },
  {
   "cell_type": "code",
   "execution_count": null,
   "id": "7c128437",
   "metadata": {
    "papermill": {
     "duration": 0.023405,
     "end_time": "2025-03-23T17:37:04.651422",
     "exception": false,
     "start_time": "2025-03-23T17:37:04.628017",
     "status": "completed"
    },
    "tags": []
   },
   "outputs": [],
   "source": []
  },
  {
   "cell_type": "code",
   "execution_count": null,
   "id": "1679437a",
   "metadata": {
    "execution": {
     "iopub.execute_input": "2025-03-23T17:37:04.698946Z",
     "iopub.status.busy": "2025-03-23T17:37:04.698633Z",
     "iopub.status.idle": "2025-03-23T17:37:04.702442Z",
     "shell.execute_reply": "2025-03-23T17:37:04.701584Z"
    },
    "papermill": {
     "duration": 0.029284,
     "end_time": "2025-03-23T17:37:04.703753",
     "exception": false,
     "start_time": "2025-03-23T17:37:04.674469",
     "status": "completed"
    },
    "tags": []
   },
   "outputs": [],
   "source": [
    "from scipy.sparse import csr_matrix"
   ]
  },
  {
   "cell_type": "code",
   "execution_count": null,
   "id": "2fca2650",
   "metadata": {
    "execution": {
     "iopub.execute_input": "2025-03-23T17:37:04.753847Z",
     "iopub.status.busy": "2025-03-23T17:37:04.753554Z",
     "iopub.status.idle": "2025-03-23T17:37:06.675571Z",
     "shell.execute_reply": "2025-03-23T17:37:06.674780Z"
    },
    "papermill": {
     "duration": 1.949988,
     "end_time": "2025-03-23T17:37:06.677151",
     "exception": false,
     "start_time": "2025-03-23T17:37:04.727163",
     "status": "completed"
    },
    "tags": []
   },
   "outputs": [],
   "source": [
    "collab_sparse = csr_matrix(collab_pivot)"
   ]
  },
  {
   "cell_type": "code",
   "execution_count": null,
   "id": "2cd34b3f",
   "metadata": {
    "execution": {
     "iopub.execute_input": "2025-03-23T17:37:06.725064Z",
     "iopub.status.busy": "2025-03-23T17:37:06.724784Z",
     "iopub.status.idle": "2025-03-23T17:37:06.729706Z",
     "shell.execute_reply": "2025-03-23T17:37:06.729030Z"
    },
    "papermill": {
     "duration": 0.030006,
     "end_time": "2025-03-23T17:37:06.730882",
     "exception": false,
     "start_time": "2025-03-23T17:37:06.700876",
     "status": "completed"
    },
    "tags": []
   },
   "outputs": [
    {
     "data": {
      "text/plain": [
       "<11300x11300 sparse matrix of type '<class 'numpy.float64'>'\n",
       "\twith 11300 stored elements in Compressed Sparse Row format>"
      ]
     },
     "execution_count": 104,
     "metadata": {},
     "output_type": "execute_result"
    }
   ],
   "source": [
    "collab_sparse"
   ]
  },
  {
   "cell_type": "code",
   "execution_count": null,
   "id": "d9607ee6",
   "metadata": {
    "execution": {
     "iopub.execute_input": "2025-03-23T17:37:06.778833Z",
     "iopub.status.busy": "2025-03-23T17:37:06.778549Z",
     "iopub.status.idle": "2025-03-23T17:37:06.974207Z",
     "shell.execute_reply": "2025-03-23T17:37:06.973529Z"
    },
    "papermill": {
     "duration": 0.221306,
     "end_time": "2025-03-23T17:37:06.975800",
     "exception": false,
     "start_time": "2025-03-23T17:37:06.754494",
     "status": "completed"
    },
    "tags": []
   },
   "outputs": [],
   "source": [
    "# Now import our clustering algoritm which is Nearest Neighbors this is an unsupervised ml algo\n",
    "from sklearn.neighbors import NearestNeighbors\n",
    "model = NearestNeighbors(algorithm= 'brute')"
   ]
  },
  {
   "cell_type": "code",
   "execution_count": null,
   "id": "5703325a",
   "metadata": {
    "execution": {
     "iopub.execute_input": "2025-03-23T17:37:07.024849Z",
     "iopub.status.busy": "2025-03-23T17:37:07.024559Z",
     "iopub.status.idle": "2025-03-23T17:37:07.034913Z",
     "shell.execute_reply": "2025-03-23T17:37:07.034073Z"
    },
    "papermill": {
     "duration": 0.036013,
     "end_time": "2025-03-23T17:37:07.036232",
     "exception": false,
     "start_time": "2025-03-23T17:37:07.000219",
     "status": "completed"
    },
    "tags": []
   },
   "outputs": [
    {
     "data": {
      "text/html": [
       "<style>#sk-container-id-1 {color: black;background-color: white;}#sk-container-id-1 pre{padding: 0;}#sk-container-id-1 div.sk-toggleable {background-color: white;}#sk-container-id-1 label.sk-toggleable__label {cursor: pointer;display: block;width: 100%;margin-bottom: 0;padding: 0.3em;box-sizing: border-box;text-align: center;}#sk-container-id-1 label.sk-toggleable__label-arrow:before {content: \"▸\";float: left;margin-right: 0.25em;color: #696969;}#sk-container-id-1 label.sk-toggleable__label-arrow:hover:before {color: black;}#sk-container-id-1 div.sk-estimator:hover label.sk-toggleable__label-arrow:before {color: black;}#sk-container-id-1 div.sk-toggleable__content {max-height: 0;max-width: 0;overflow: hidden;text-align: left;background-color: #f0f8ff;}#sk-container-id-1 div.sk-toggleable__content pre {margin: 0.2em;color: black;border-radius: 0.25em;background-color: #f0f8ff;}#sk-container-id-1 input.sk-toggleable__control:checked~div.sk-toggleable__content {max-height: 200px;max-width: 100%;overflow: auto;}#sk-container-id-1 input.sk-toggleable__control:checked~label.sk-toggleable__label-arrow:before {content: \"▾\";}#sk-container-id-1 div.sk-estimator input.sk-toggleable__control:checked~label.sk-toggleable__label {background-color: #d4ebff;}#sk-container-id-1 div.sk-label input.sk-toggleable__control:checked~label.sk-toggleable__label {background-color: #d4ebff;}#sk-container-id-1 input.sk-hidden--visually {border: 0;clip: rect(1px 1px 1px 1px);clip: rect(1px, 1px, 1px, 1px);height: 1px;margin: -1px;overflow: hidden;padding: 0;position: absolute;width: 1px;}#sk-container-id-1 div.sk-estimator {font-family: monospace;background-color: #f0f8ff;border: 1px dotted black;border-radius: 0.25em;box-sizing: border-box;margin-bottom: 0.5em;}#sk-container-id-1 div.sk-estimator:hover {background-color: #d4ebff;}#sk-container-id-1 div.sk-parallel-item::after {content: \"\";width: 100%;border-bottom: 1px solid gray;flex-grow: 1;}#sk-container-id-1 div.sk-label:hover label.sk-toggleable__label {background-color: #d4ebff;}#sk-container-id-1 div.sk-serial::before {content: \"\";position: absolute;border-left: 1px solid gray;box-sizing: border-box;top: 0;bottom: 0;left: 50%;z-index: 0;}#sk-container-id-1 div.sk-serial {display: flex;flex-direction: column;align-items: center;background-color: white;padding-right: 0.2em;padding-left: 0.2em;position: relative;}#sk-container-id-1 div.sk-item {position: relative;z-index: 1;}#sk-container-id-1 div.sk-parallel {display: flex;align-items: stretch;justify-content: center;background-color: white;position: relative;}#sk-container-id-1 div.sk-item::before, #sk-container-id-1 div.sk-parallel-item::before {content: \"\";position: absolute;border-left: 1px solid gray;box-sizing: border-box;top: 0;bottom: 0;left: 50%;z-index: -1;}#sk-container-id-1 div.sk-parallel-item {display: flex;flex-direction: column;z-index: 1;position: relative;background-color: white;}#sk-container-id-1 div.sk-parallel-item:first-child::after {align-self: flex-end;width: 50%;}#sk-container-id-1 div.sk-parallel-item:last-child::after {align-self: flex-start;width: 50%;}#sk-container-id-1 div.sk-parallel-item:only-child::after {width: 0;}#sk-container-id-1 div.sk-dashed-wrapped {border: 1px dashed gray;margin: 0 0.4em 0.5em 0.4em;box-sizing: border-box;padding-bottom: 0.4em;background-color: white;}#sk-container-id-1 div.sk-label label {font-family: monospace;font-weight: bold;display: inline-block;line-height: 1.2em;}#sk-container-id-1 div.sk-label-container {text-align: center;}#sk-container-id-1 div.sk-container {/* jupyter's `normalize.less` sets `[hidden] { display: none; }` but bootstrap.min.css set `[hidden] { display: none !important; }` so we also need the `!important` here to be able to override the default hidden behavior on the sphinx rendered scikit-learn.org. See: https://github.com/scikit-learn/scikit-learn/issues/21755 */display: inline-block !important;position: relative;}#sk-container-id-1 div.sk-text-repr-fallback {display: none;}</style><div id=\"sk-container-id-1\" class=\"sk-top-container\"><div class=\"sk-text-repr-fallback\"><pre>NearestNeighbors(algorithm=&#x27;brute&#x27;)</pre><b>In a Jupyter environment, please rerun this cell to show the HTML representation or trust the notebook. <br />On GitHub, the HTML representation is unable to render, please try loading this page with nbviewer.org.</b></div><div class=\"sk-container\" hidden><div class=\"sk-item\"><div class=\"sk-estimator sk-toggleable\"><input class=\"sk-toggleable__control sk-hidden--visually\" id=\"sk-estimator-id-1\" type=\"checkbox\" checked><label for=\"sk-estimator-id-1\" class=\"sk-toggleable__label sk-toggleable__label-arrow\">NearestNeighbors</label><div class=\"sk-toggleable__content\"><pre>NearestNeighbors(algorithm=&#x27;brute&#x27;)</pre></div></div></div></div></div>"
      ],
      "text/plain": [
       "NearestNeighbors(algorithm='brute')"
      ]
     },
     "execution_count": 106,
     "metadata": {},
     "output_type": "execute_result"
    }
   ],
   "source": [
    "model.fit(collab_sparse)"
   ]
  },
  {
   "cell_type": "code",
   "execution_count": null,
   "id": "ea35b958",
   "metadata": {
    "execution": {
     "iopub.execute_input": "2025-03-23T17:37:07.085550Z",
     "iopub.status.busy": "2025-03-23T17:37:07.085170Z",
     "iopub.status.idle": "2025-03-23T17:37:07.092116Z",
     "shell.execute_reply": "2025-03-23T17:37:07.091268Z"
    },
    "papermill": {
     "duration": 0.032855,
     "end_time": "2025-03-23T17:37:07.093569",
     "exception": false,
     "start_time": "2025-03-23T17:37:07.060714",
     "status": "completed"
    },
    "tags": []
   },
   "outputs": [
    {
     "data": {
      "text/plain": [
       "array([4.33, 4.5 , 4.28, 3.6 , 4.37, 3.95, 4.6 , 4.3 , 3.86, 4.12, 4.06,\n",
       "       4.13, 3.99, 4.19, 3.69, 3.75, 3.88, 4.22, 4.1 , 4.26, 4.17, 3.97,\n",
       "       4.  , 3.81, 4.38, 4.45, 3.82, 3.77, 3.91, 3.85, 4.09, 3.89, 4.08,\n",
       "       3.98, 4.23, 4.34, 3.78, 4.62, 4.32, 4.36, 4.27, 4.11, 4.57, 3.51,\n",
       "       4.18, 4.01, 4.29, 4.53, 3.9 , 4.14, 3.62, 4.43, 3.41, 4.07, 3.94,\n",
       "       4.25, 4.48, 4.02, 4.24, 4.51, 4.05, 3.92, 4.35, 3.57, 3.43, 3.93,\n",
       "       3.87, 3.84, 3.68, 4.2 , 4.03, 3.83, 3.66, 3.5 , 3.54, 4.39, 4.04,\n",
       "       3.73, 4.44, 3.59, 4.16, 4.42, 3.96, 4.41, 3.8 , 4.82, 3.79, 4.56,\n",
       "       3.65, 4.15, 4.21, 4.63, 3.45, 3.76, 3.72, 3.58, 4.55, 4.4 , 4.73,\n",
       "       3.53, 4.31, 4.54, 4.49, 3.71, 3.48, 3.67, 4.75, 3.7 , 4.58, 3.63,\n",
       "       4.52, 4.59, 3.46, 3.64, 3.74, 3.61, 3.26, 4.46, 4.47, 3.3 , 3.56,\n",
       "       4.61, 3.52, 4.74, 4.68, 4.67, 3.32, 4.65, 3.22, 4.64, 3.2 , 3.4 ,\n",
       "       3.37, 4.77, 3.55, 4.78, 3.31, 3.39, 3.17, 3.15, 3.47, 3.44, 3.11,\n",
       "       3.38, 3.23, 3.42, 3.24, 4.76, 4.7 , 3.28, 3.13, 3.16, 3.06, 3.33,\n",
       "       3.1 , 4.72, 3.29, 3.27, 3.49, 4.71, 4.66, 3.18, 3.02, 3.35, 3.14,\n",
       "       3.36, 3.01, 3.34, 3.21, 3.  , 3.25, 4.79, 3.12, 3.19])"
      ]
     },
     "execution_count": 107,
     "metadata": {},
     "output_type": "execute_result"
    }
   ],
   "source": [
    "collab_data['rating'].unique()"
   ]
  },
  {
   "cell_type": "code",
   "execution_count": null,
   "id": "6d263672",
   "metadata": {
    "execution": {
     "iopub.execute_input": "2025-03-23T17:37:07.143239Z",
     "iopub.status.busy": "2025-03-23T17:37:07.142905Z",
     "iopub.status.idle": "2025-03-23T17:37:07.149241Z",
     "shell.execute_reply": "2025-03-23T17:37:07.148532Z"
    },
    "papermill": {
     "duration": 0.032787,
     "end_time": "2025-03-23T17:37:07.150781",
     "exception": false,
     "start_time": "2025-03-23T17:37:07.117994",
     "status": "completed"
    },
    "tags": []
   },
   "outputs": [
    {
     "data": {
      "text/plain": [
       "Index([7530], dtype='int64')"
      ]
     },
     "execution_count": 108,
     "metadata": {},
     "output_type": "execute_result"
    }
   ],
   "source": [
    "# ----> CHECK THIS TYPE OF CASES WHERE INDEX GO OUT OF BOUND <------\n",
    "collab_data[collab_data['rating'] == 3].index\n"
   ]
  },
  {
   "cell_type": "code",
   "execution_count": null,
   "id": "b8541f34",
   "metadata": {
    "execution": {
     "iopub.execute_input": "2025-03-23T17:37:07.200441Z",
     "iopub.status.busy": "2025-03-23T17:37:07.200109Z",
     "iopub.status.idle": "2025-03-23T17:37:07.206137Z",
     "shell.execute_reply": "2025-03-23T17:37:07.205325Z"
    },
    "papermill": {
     "duration": 0.031926,
     "end_time": "2025-03-23T17:37:07.207447",
     "exception": false,
     "start_time": "2025-03-23T17:37:07.175521",
     "status": "completed"
    },
    "tags": []
   },
   "outputs": [
    {
     "data": {
      "text/plain": [
       "Index([331, 1879, 6647], dtype='int64')"
      ]
     },
     "execution_count": 109,
     "metadata": {},
     "output_type": "execute_result"
    }
   ],
   "source": [
    "collab_data[collab_data['rating'] == 4.73].index"
   ]
  },
  {
   "cell_type": "code",
   "execution_count": null,
   "id": "0e3027a4",
   "metadata": {
    "execution": {
     "iopub.execute_input": "2025-03-23T17:37:07.256319Z",
     "iopub.status.busy": "2025-03-23T17:37:07.255991Z",
     "iopub.status.idle": "2025-03-23T17:37:07.262892Z",
     "shell.execute_reply": "2025-03-23T17:37:07.262141Z"
    },
    "papermill": {
     "duration": 0.032978,
     "end_time": "2025-03-23T17:37:07.264260",
     "exception": false,
     "start_time": "2025-03-23T17:37:07.231282",
     "status": "completed"
    },
    "tags": []
   },
   "outputs": [],
   "source": [
    "distance, suggestion = model.kneighbors(collab_pivot.iloc[2231,:].values.reshape(1,-1), n_neighbors=6 )"
   ]
  },
  {
   "cell_type": "code",
   "execution_count": null,
   "id": "5ce16cf2",
   "metadata": {
    "execution": {
     "iopub.execute_input": "2025-03-23T17:37:07.314660Z",
     "iopub.status.busy": "2025-03-23T17:37:07.314359Z",
     "iopub.status.idle": "2025-03-23T17:37:07.319063Z",
     "shell.execute_reply": "2025-03-23T17:37:07.318356Z"
    },
    "papermill": {
     "duration": 0.030522,
     "end_time": "2025-03-23T17:37:07.320179",
     "exception": false,
     "start_time": "2025-03-23T17:37:07.289657",
     "status": "completed"
    },
    "tags": []
   },
   "outputs": [
    {
     "data": {
      "text/plain": [
       "array([[0.        , 4.79453856, 4.80080202, 4.80707811, 4.80707811,\n",
       "        4.83230794]])"
      ]
     },
     "execution_count": 111,
     "metadata": {},
     "output_type": "execute_result"
    }
   ],
   "source": [
    "distance"
   ]
  },
  {
   "cell_type": "code",
   "execution_count": null,
   "id": "b7374e3a",
   "metadata": {
    "execution": {
     "iopub.execute_input": "2025-03-23T17:37:07.369295Z",
     "iopub.status.busy": "2025-03-23T17:37:07.368903Z",
     "iopub.status.idle": "2025-03-23T17:37:07.373915Z",
     "shell.execute_reply": "2025-03-23T17:37:07.373091Z"
    },
    "papermill": {
     "duration": 0.030957,
     "end_time": "2025-03-23T17:37:07.375169",
     "exception": false,
     "start_time": "2025-03-23T17:37:07.344212",
     "status": "completed"
    },
    "tags": []
   },
   "outputs": [
    {
     "data": {
      "text/plain": [
       "array([[ 2231, 10655,  3751, 10484,  8786,  7855]])"
      ]
     },
     "execution_count": 112,
     "metadata": {},
     "output_type": "execute_result"
    }
   ],
   "source": [
    "suggestion"
   ]
  },
  {
   "cell_type": "code",
   "execution_count": null,
   "id": "bd4b2f80",
   "metadata": {
    "execution": {
     "iopub.execute_input": "2025-03-23T17:37:07.425301Z",
     "iopub.status.busy": "2025-03-23T17:37:07.424949Z",
     "iopub.status.idle": "2025-03-23T17:37:07.429739Z",
     "shell.execute_reply": "2025-03-23T17:37:07.428885Z"
    },
    "papermill": {
     "duration": 0.03112,
     "end_time": "2025-03-23T17:37:07.431052",
     "exception": false,
     "start_time": "2025-03-23T17:37:07.399932",
     "status": "completed"
    },
    "tags": []
   },
   "outputs": [
    {
     "name": "stdout",
     "output_type": "stream",
     "text": [
      "Index(['9780312442033', '9789953715100', '9780385538039', '9788129113726',\n",
      "       '9781439163146', '9781101874080'],\n",
      "      dtype='object', name='isbn')\n"
     ]
    }
   ],
   "source": [
    "for i in range(len(suggestion)):\n",
    "    print(collab_pivot.index[suggestion[i]])"
   ]
  },
  {
   "cell_type": "code",
   "execution_count": null,
   "id": "8390808c",
   "metadata": {
    "execution": {
     "iopub.execute_input": "2025-03-23T17:37:07.481006Z",
     "iopub.status.busy": "2025-03-23T17:37:07.480709Z",
     "iopub.status.idle": "2025-03-23T17:37:07.485745Z",
     "shell.execute_reply": "2025-03-23T17:37:07.485017Z"
    },
    "papermill": {
     "duration": 0.031305,
     "end_time": "2025-03-23T17:37:07.486993",
     "exception": false,
     "start_time": "2025-03-23T17:37:07.455688",
     "status": "completed"
    },
    "tags": []
   },
   "outputs": [
    {
     "data": {
      "text/plain": [
       "array([ 2231, 10655,  3751, 10484,  8786,  7855])"
      ]
     },
     "execution_count": 114,
     "metadata": {},
     "output_type": "execute_result"
    }
   ],
   "source": [
    "suggestion[0]"
   ]
  },
  {
   "cell_type": "code",
   "execution_count": null,
   "id": "178c81c9",
   "metadata": {
    "execution": {
     "iopub.execute_input": "2025-03-23T17:37:07.545569Z",
     "iopub.status.busy": "2025-03-23T17:37:07.545207Z",
     "iopub.status.idle": "2025-03-23T17:37:07.551358Z",
     "shell.execute_reply": "2025-03-23T17:37:07.550354Z"
    },
    "papermill": {
     "duration": 0.040354,
     "end_time": "2025-03-23T17:37:07.553299",
     "exception": false,
     "start_time": "2025-03-23T17:37:07.512945",
     "status": "completed"
    },
    "scrolled": true,
    "tags": []
   },
   "outputs": [
    {
     "name": "stdout",
     "output_type": "stream",
     "text": [
      "4.73\n",
      "4.07\n",
      "4.19\n",
      "4.03\n",
      "3.97\n",
      "3.8\n"
     ]
    }
   ],
   "source": [
    "for index in suggestion[0]:\n",
    "    print(updated_books['rating'].iloc[index], end='\\n')"
   ]
  },
  {
   "cell_type": "code",
   "execution_count": null,
   "id": "1ed5837d",
   "metadata": {
    "execution": {
     "iopub.execute_input": "2025-03-23T17:37:07.640506Z",
     "iopub.status.busy": "2025-03-23T17:37:07.640140Z",
     "iopub.status.idle": "2025-03-23T17:37:07.645576Z",
     "shell.execute_reply": "2025-03-23T17:37:07.644682Z"
    },
    "papermill": {
     "duration": 0.05289,
     "end_time": "2025-03-23T17:37:07.646971",
     "exception": false,
     "start_time": "2025-03-23T17:37:07.594081",
     "status": "completed"
    },
    "tags": []
   },
   "outputs": [],
   "source": [
    "def recommend_book(book_name):\n",
    "    book_id = req_content_data[req_content_data['title'] == book_name].index[0]\n",
    "    distance, suggestion = model.kneighbors(collab_pivot.iloc[book_id,:].values.reshape(1,-1), n_neighbors=6 )\n",
    "    for i in range(len(suggestion)):\n",
    "            books_isbn = collab_pivot.index[suggestion[i]]    \n",
    "            books_titles = req_content_data[req_content_data['isbn'].isin(books_isbn)]\n",
    "            print(books_titles['title'])\n",
    "            for j in books_isbn:\n",
    "                if j == book_name:\n",
    "                    print(f\"You searched '{book_name}'\\n\")\n",
    "                    print(\"The suggestion books are: \\n\")\n",
    "                else:\n",
    "                    print(j)\n",
    "                    \n",
    "                    \n",
    "# def get_content_based_recommendations(title, top_n):\n",
    "#     index = req_content_data[req_content_data['title'] == title].index[0]\n",
    "#     similarity_scores = content_similarity[index]\n",
    "#     similar_indices = similarity_scores.argsort()[::-1][1:top_n + 1]\n",
    "#     recommendations = req_content_data.loc[similar_indices, 'isbn'].values\n",
    "#     return recommendations"
   ]
  },
  {
   "cell_type": "code",
   "execution_count": null,
   "id": "5df2f851",
   "metadata": {
    "execution": {
     "iopub.execute_input": "2025-03-23T17:37:07.714144Z",
     "iopub.status.busy": "2025-03-23T17:37:07.713848Z",
     "iopub.status.idle": "2025-03-23T17:37:07.717223Z",
     "shell.execute_reply": "2025-03-23T17:37:07.716366Z"
    },
    "papermill": {
     "duration": 0.045734,
     "end_time": "2025-03-23T17:37:07.718709",
     "exception": false,
     "start_time": "2025-03-23T17:37:07.672975",
     "status": "completed"
    },
    "tags": []
   },
   "outputs": [],
   "source": [
    "# req_content_data['title'].value_counts()"
   ]
  },
  {
   "cell_type": "code",
   "execution_count": null,
   "id": "27ba6443",
   "metadata": {
    "execution": {
     "iopub.execute_input": "2025-03-23T17:37:07.771008Z",
     "iopub.status.busy": "2025-03-23T17:37:07.770713Z",
     "iopub.status.idle": "2025-03-23T17:37:07.783535Z",
     "shell.execute_reply": "2025-03-23T17:37:07.782518Z"
    },
    "papermill": {
     "duration": 0.040528,
     "end_time": "2025-03-23T17:37:07.784888",
     "exception": false,
     "start_time": "2025-03-23T17:37:07.744360",
     "status": "completed"
    },
    "tags": []
   },
   "outputs": [
    {
     "name": "stdout",
     "output_type": "stream",
     "text": [
      "4836                     Adultery\n",
      "6052                    Palo Alto\n",
      "6654    The 3 Mistakes of My Life\n",
      "6794              Unveiled: Tamar\n",
      "7231                Beautiful You\n",
      "7530                   ليتها تقرأ\n",
      "Name: title, dtype: object\n",
      "0031809014745\n",
      "9789953715100\n",
      "9780385538039\n",
      "9788129113726\n",
      "9781439163146\n",
      "9781101874080\n"
     ]
    }
   ],
   "source": [
    "book_name = \"Harry Potter and the Order of the Phoenix\"\n",
    "recommend_book(book_name)"
   ]
  },
  {
   "cell_type": "code",
   "execution_count": null,
   "id": "f6ee19fe",
   "metadata": {
    "execution": {
     "iopub.execute_input": "2025-03-23T17:37:07.844194Z",
     "iopub.status.busy": "2025-03-23T17:37:07.843906Z",
     "iopub.status.idle": "2025-03-23T17:37:07.847451Z",
     "shell.execute_reply": "2025-03-23T17:37:07.846598Z"
    },
    "papermill": {
     "duration": 0.03766,
     "end_time": "2025-03-23T17:37:07.848808",
     "exception": false,
     "start_time": "2025-03-23T17:37:07.811148",
     "status": "completed"
    },
    "tags": []
   },
   "outputs": [],
   "source": [
    "import pickle"
   ]
  },
  {
   "cell_type": "code",
   "execution_count": null,
   "id": "17c68542",
   "metadata": {
    "execution": {
     "iopub.execute_input": "2025-03-23T17:37:07.903320Z",
     "iopub.status.busy": "2025-03-23T17:37:07.902902Z",
     "iopub.status.idle": "2025-03-23T17:37:07.907679Z",
     "shell.execute_reply": "2025-03-23T17:37:07.906847Z"
    },
    "papermill": {
     "duration": 0.034871,
     "end_time": "2025-03-23T17:37:07.908929",
     "exception": false,
     "start_time": "2025-03-23T17:37:07.874058",
     "status": "completed"
    },
    "tags": []
   },
   "outputs": [],
   "source": [
    "books_names_list = req_updated_books['title'].to_list()"
   ]
  },
  {
   "cell_type": "code",
   "execution_count": null,
   "id": "7a9e9510",
   "metadata": {
    "execution": {
     "iopub.execute_input": "2025-03-23T17:37:07.961200Z",
     "iopub.status.busy": "2025-03-23T17:37:07.960807Z",
     "iopub.status.idle": "2025-03-23T17:37:07.976683Z",
     "shell.execute_reply": "2025-03-23T17:37:07.975837Z"
    },
    "papermill": {
     "duration": 0.044039,
     "end_time": "2025-03-23T17:37:07.978635",
     "exception": false,
     "start_time": "2025-03-23T17:37:07.934596",
     "status": "completed"
    },
    "tags": []
   },
   "outputs": [
    {
     "data": {
      "text/plain": [
       "['The Hunger Games',\n",
       " 'Harry Potter and the Order of the Phoenix',\n",
       " 'To Kill a Mockingbird',\n",
       " 'Twilight',\n",
       " 'The Book Thief',\n",
       " 'Animal Farm',\n",
       " 'J.R.R. Tolkien 4-Book Boxed Set: The Hobbit and The Lord of the Rings',\n",
       " 'Gone with the Wind',\n",
       " 'The Giving Tree',\n",
       " 'Wuthering Heights',\n",
       " 'Memoirs of a Geisha',\n",
       " \"Alice's Adventures in Wonderland & Through the Looking-Glass\",\n",
       " 'Jane Eyre',\n",
       " 'Fahrenheit 451',\n",
       " 'Divergent',\n",
       " 'Lord of the Flies',\n",
       " 'Romeo and Juliet',\n",
       " 'The Alchemist',\n",
       " 'Crime and Punishment',\n",
       " 'City of Bones',\n",
       " \"Ender's Game\",\n",
       " 'Anne of Green Gables',\n",
       " \"Charlotte's Web\",\n",
       " 'Of Mice and Men',\n",
       " \"The Time Traveler's Wife\",\n",
       " 'Dracula',\n",
       " 'Brave New World',\n",
       " 'The Catcher in the Rye',\n",
       " 'The Princess Bride',\n",
       " 'The Lightning Thief',\n",
       " 'The Secret Garden',\n",
       " 'A Thousand Splendid Suns',\n",
       " 'A Wrinkle in Time',\n",
       " 'A Game of Thrones',\n",
       " 'The Adventures of Huckleberry Finn',\n",
       " 'The Lovely Bones',\n",
       " 'Where the Wild Things Are',\n",
       " 'Green Eggs and Ham',\n",
       " 'The Odyssey',\n",
       " 'Life of Pi',\n",
       " 'A Tale of Two Cities',\n",
       " 'Water for Elephants',\n",
       " 'Lolita',\n",
       " 'Slaughterhouse-Five',\n",
       " 'Frankenstein: The 1818 Text',\n",
       " 'The Giver',\n",
       " 'Catch-22',\n",
       " 'Dune',\n",
       " 'The Stand',\n",
       " 'Watership Down',\n",
       " 'Great Expectations',\n",
       " 'Little Women',\n",
       " 'Harry Potter and the Deathly Hallows',\n",
       " 'Outlander',\n",
       " \"My Sister's Keeper\",\n",
       " 'Matilda',\n",
       " 'The Fellowship of the Ring',\n",
       " 'Rebecca',\n",
       " '1984',\n",
       " 'The Color Purple',\n",
       " 'A Tree Grows in Brooklyn',\n",
       " 'A Clockwork Orange',\n",
       " 'The Road',\n",
       " 'The Brothers Karamazov',\n",
       " \"Angela's Ashes\",\n",
       " 'Vampire Academy',\n",
       " 'The Poisonwood Bible',\n",
       " 'The Golden Compass',\n",
       " 'Don Quixote',\n",
       " 'Atlas Shrugged',\n",
       " 'Harry Potter and the Prisoner of Azkaban',\n",
       " 'The Old Man and the Sea',\n",
       " 'The Notebook',\n",
       " 'Winnie-the-Pooh',\n",
       " 'The Complete Stories and Poems',\n",
       " 'Interview with the Vampire',\n",
       " 'A Prayer for Owen Meany',\n",
       " 'Moby-Dick or, the Whale',\n",
       " 'The Red Tent',\n",
       " 'The Secret Life of Bees',\n",
       " 'Clockwork Angel',\n",
       " 'And Then There Were None',\n",
       " 'Middlesex',\n",
       " 'The Master and Margarita',\n",
       " 'The Name of the Wind',\n",
       " 'The Shining',\n",
       " 'The Adventures of Tom Sawyer',\n",
       " 'Eragon',\n",
       " 'Charlie and the Chocolate Factory',\n",
       " 'On the Road',\n",
       " 'The Curious Incident of the Dog in the Night-Time',\n",
       " 'The Very Hungry Caterpillar',\n",
       " 'Tuesdays with Morrie',\n",
       " 'The Unbearable Lightness of Being',\n",
       " 'The Name of the Rose',\n",
       " 'Where the Red Fern Grows',\n",
       " 'Harry Potter and the Chamber of Secrets',\n",
       " 'The Scarlet Letter',\n",
       " 'In Cold Blood',\n",
       " 'Fight Club',\n",
       " 'The Five People You Meet in Heaven',\n",
       " 'Hush, Hush',\n",
       " 'The Cat in the Hat',\n",
       " 'The Count of Monte Cristo',\n",
       " 'Lonesome Dove',\n",
       " 'Perfume: The Story of a Murderer',\n",
       " 'Holes',\n",
       " 'Watchmen',\n",
       " 'It',\n",
       " 'The Last Olympian',\n",
       " 'The Little House Collection',\n",
       " 'The Divine Comedy',\n",
       " 'Peter Pan',\n",
       " 'All Quiet on the Western Front',\n",
       " 'The Hobbit, or There and Back Again',\n",
       " 'Love in the Time of Cholera',\n",
       " 'Shadow Kiss',\n",
       " 'Insurgent',\n",
       " 'How the Grinch Stole Christmas!',\n",
       " \"The Ultimate Hitchhiker's Guide to the Galaxy\",\n",
       " 'Atonement',\n",
       " 'The Importance of Being Earnest',\n",
       " 'Eat, Pray, Love',\n",
       " 'Their Eyes Were Watching God',\n",
       " 'The Wonderful Wizard of Oz',\n",
       " 'Goodnight Moon',\n",
       " 'The Lorax',\n",
       " 'Blood Promise',\n",
       " 'The Good Earth',\n",
       " 'Heart of Darkness',\n",
       " \"A Midsummer Night's Dream\",\n",
       " 'Clockwork Princess',\n",
       " 'The Prophet',\n",
       " 'The Mists of Avalon',\n",
       " \"The Titan's Curse\",\n",
       " 'The Sea of Monsters',\n",
       " 'The Joy Luck Club',\n",
       " 'Alice in Wonderland',\n",
       " 'The Call of the Wild',\n",
       " 'Jonathan Livingston Seagull',\n",
       " 'Madame Bovary',\n",
       " 'The Phantom Tollbooth',\n",
       " 'Bridge to Terabithia',\n",
       " 'The Hunger Games Trilogy Boxset',\n",
       " \"Oh, the Places You'll Go!\",\n",
       " 'The Girl Who Played with Fire',\n",
       " 'The Maze Runner',\n",
       " 'The Neverending Story',\n",
       " 'Treasure Island',\n",
       " 'Fifty Shades of Grey',\n",
       " 'The Clan of the Cave Bear',\n",
       " 'A Storm of Swords',\n",
       " 'The Canterbury Tales',\n",
       " 'The World According to Garp',\n",
       " 'A Farewell to Arms',\n",
       " 'Tote Mädchen lügen nicht',\n",
       " 'Wicked: The Life and Times of the Wicked Witch of the West',\n",
       " 'Shōgun',\n",
       " 'Extremely Loud & Incredibly Close',\n",
       " 'Murder on the Orient Express',\n",
       " 'His Dark Materials',\n",
       " 'A Little Princess',\n",
       " \"Schindler's List\",\n",
       " 'Jurassic Park',\n",
       " 'Last Sacrifice',\n",
       " 'The Night Circus',\n",
       " 'Fallen',\n",
       " 'The Silmarillion',\n",
       " 'Beloved',\n",
       " 'A Confederacy of Dunces',\n",
       " 'The Selection',\n",
       " 'The Velveteen Rabbit',\n",
       " 'Catching Fire',\n",
       " 'The Lost Hero',\n",
       " 'Spirit Bound',\n",
       " 'Clockwork Prince',\n",
       " 'The Iliad/The Odyssey',\n",
       " 'The Crucible',\n",
       " \"Cat's Cradle\",\n",
       " 'The God of Small Things',\n",
       " 'The Wind in the Willows',\n",
       " 'The Screwtape Letters',\n",
       " 'Girl with a Pearl Earring',\n",
       " 'The Hiding Place: The Triumphant True Story of Corrie Ten Boom',\n",
       " 'A Light in the Attic',\n",
       " 'The Silence of the Lambs',\n",
       " 'Shiver',\n",
       " 'Uglies',\n",
       " 'City of Fallen Angels',\n",
       " \"Man's Search for Meaning\",\n",
       " \"She's Come Undone\",\n",
       " 'The Phantom of the Opera',\n",
       " \"Marley and Me: Life and Love With the World's Worst Dog\",\n",
       " 'Ella Enchanted',\n",
       " 'The Wind-Up Bird Chronicle',\n",
       " 'The Green Mile',\n",
       " 'Blindness',\n",
       " 'A Clash of Kings',\n",
       " 'The Shack',\n",
       " 'Marked',\n",
       " 'The Guernsey Literary and Potato Peel Pie Society',\n",
       " 'Fear and Loathing in Las Vegas',\n",
       " 'The House of the Spirits',\n",
       " 'The Complete Calvin and Hobbes',\n",
       " 'Roots: The Saga of an American Family',\n",
       " 'Misery',\n",
       " \"Howl's Moving Castle\",\n",
       " 'Stranger in a Strange Land',\n",
       " 'Island of the Blue Dolphins',\n",
       " \"The Girl Who Kicked the Hornet's Nest\",\n",
       " 'The Secret History',\n",
       " 'White Oleander',\n",
       " 'Delirium',\n",
       " 'Beautiful Disaster',\n",
       " 'Othello',\n",
       " 'Paper Towns',\n",
       " 'The Vampire Lestat',\n",
       " 'Speak',\n",
       " 'The Idiot',\n",
       " 'King Lear',\n",
       " 'The Once and Future King',\n",
       " 'I Know This Much Is True',\n",
       " 'Neverwhere',\n",
       " 'Into the Wild',\n",
       " 'Inkheart',\n",
       " \"Lamb: The Gospel According to Biff, Christ's Childhood Pal\",\n",
       " 'The Historian',\n",
       " 'The Complete Sherlock Holmes',\n",
       " 'Candide',\n",
       " 'James and the Giant Peach',\n",
       " 'Paradise Lost',\n",
       " 'All Creatures Great and Small',\n",
       " 'The Complete Works',\n",
       " 'The Thirteenth Tale',\n",
       " 'Foundation',\n",
       " 'Norwegian Wood',\n",
       " 'The Things They Carried',\n",
       " 'The Cider House Rules',\n",
       " 'Different Seasons',\n",
       " 'Kafka on the Shore',\n",
       " 'Heidi',\n",
       " \"Are You There God? It's Me, Margaret\",\n",
       " 'City of Lost Souls',\n",
       " \"Sophie's World\",\n",
       " \"The Wise Man's Fear\",\n",
       " 'The Awakening',\n",
       " 'Fangirl',\n",
       " \"Sophie's Choice\",\n",
       " 'The Prince of Tides',\n",
       " 'Never Let Me Go',\n",
       " 'The Son of Neptune',\n",
       " 'Dead Until Dark',\n",
       " 'Fried Green Tomatoes at the Whistle Stop Cafe',\n",
       " 'Fifty Shades Darker',\n",
       " 'Ready Player One',\n",
       " 'Middlemarch',\n",
       " 'The Monster at the End of this Book',\n",
       " 'A Court of Mist and Fury',\n",
       " \"Bridget Jones's Diary\",\n",
       " 'Mrs. Dalloway',\n",
       " 'Mockingjay',\n",
       " 'Franny and Zooey',\n",
       " 'The Power of One',\n",
       " \"The Magician's Nephew\",\n",
       " 'Stardust',\n",
       " 'Number the Stars',\n",
       " 'Do Androids Dream of Electric Sheep?',\n",
       " 'Allegiant',\n",
       " 'Eleanor & Park',\n",
       " 'A Short History of Nearly Everything',\n",
       " 'Me Before You',\n",
       " 'The Mark of Athena',\n",
       " 'The Art of Racing in the Rain',\n",
       " 'The Way of Kings',\n",
       " 'If I Stay',\n",
       " 'Black Beauty',\n",
       " 'A Portrait of the Artist as a Young Man',\n",
       " \"Gulliver's Travels\",\n",
       " 'Bel Canto',\n",
       " 'American Psycho',\n",
       " 'V for Vendetta',\n",
       " 'Love You Forever',\n",
       " 'The Witches',\n",
       " 'The Graveyard Book',\n",
       " 'The Complete Novels',\n",
       " 'Fifty Shades Freed',\n",
       " 'Cold Mountain',\n",
       " 'White Fang',\n",
       " 'Beowulf',\n",
       " 'Tuck Everlasting',\n",
       " 'The Final Empire',\n",
       " 'Beautiful Creatures',\n",
       " 'Steppenwolf',\n",
       " 'Eldest',\n",
       " 'Dark Lover',\n",
       " 'Go Ask Alice',\n",
       " 'The Eye of the World',\n",
       " 'The Tell-Tale Heart and Other Writings',\n",
       " 'As I Lay Dying',\n",
       " 'A Separate Peace',\n",
       " 'The Complete Maus',\n",
       " 'Mansfield Park',\n",
       " 'The Amazing Adventures of Kavalier & Clay',\n",
       " 'Brisingr',\n",
       " 'A Child Called \"It\"',\n",
       " 'Stargirl',\n",
       " 'Tao Te Ching',\n",
       " 'Dear John',\n",
       " \"Midnight's Children\",\n",
       " \"'Salem's Lot\",\n",
       " 'The Martian Chronicles',\n",
       " 'Crescendo',\n",
       " 'The English Patient',\n",
       " 'East of Eden',\n",
       " 'Cloud Atlas',\n",
       " 'Zen and the Art of Motorcycle Maintenance: An Inquiry Into Values',\n",
       " 'The Martian',\n",
       " 'The Firm',\n",
       " 'The Last Song',\n",
       " 'My Ántonia',\n",
       " 'Shatter Me',\n",
       " 'The Amber Spyglass',\n",
       " 'Doctor Zhivago',\n",
       " 'The Hunchback of Notre-Dame',\n",
       " 'Inferno',\n",
       " 'Like Water for Chocolate',\n",
       " 'Room',\n",
       " 'Dragonfly in Amber',\n",
       " 'Breakfast of Champions',\n",
       " 'The BFG',\n",
       " 'Six of Crows',\n",
       " 'Harry Potter Series Box Set',\n",
       " 'The Origin of Species',\n",
       " 'A Fine Balance',\n",
       " 'Daughter of Smoke & Bone',\n",
       " 'The Strange Case of Dr. Jekyll and Mr. Hyde',\n",
       " 'City of Heavenly Fire',\n",
       " 'Evermore',\n",
       " 'The Subtle Knife',\n",
       " 'Death of a Salesman',\n",
       " '11/22/63',\n",
       " 'Midnight in the Garden of Good and Evil',\n",
       " 'A Streetcar Named Desire',\n",
       " 'Infinite Jest',\n",
       " 'The Prince',\n",
       " 'Hamlet',\n",
       " 'Faust, First Part',\n",
       " 'Snow Flower and the Secret Fan',\n",
       " 'Anna and the French Kiss',\n",
       " 'A Feast for Crows',\n",
       " 'The Angel Experiment',\n",
       " 'Matched',\n",
       " 'Flowers in the Attic',\n",
       " 'The Shipping News',\n",
       " 'Unbroken: A World War II Story of Survival, Resilience and Redemption',\n",
       " 'The Scarlet Pimpernel',\n",
       " 'Hopeless',\n",
       " 'The Chosen',\n",
       " 'High Fidelity',\n",
       " 'All the Light We Cannot See',\n",
       " 'Artemis Fowl',\n",
       " 'Pippi Longstocking',\n",
       " 'The Tales of Beedle the Bard',\n",
       " 'The Virgin Suicides',\n",
       " 'The Reader',\n",
       " 'Nineteen Minutes',\n",
       " 'The House of Hades',\n",
       " 'Shantaram',\n",
       " 'The Devil in the White City: Murder, Magic, and Madness at the Fair That Changed America',\n",
       " 'Redeeming Love',\n",
       " 'The Age of Innocence',\n",
       " 'The Host',\n",
       " 'The Lost Symbol',\n",
       " 'Neuromancer',\n",
       " 'Betrayed',\n",
       " 'The Grapes of Wrath',\n",
       " 'Northanger Abbey',\n",
       " 'The Voyage of the Dawn Treader',\n",
       " 'Dubliners',\n",
       " 'Lover Awakened',\n",
       " 'A Court of Thorns and Roses',\n",
       " 'Divine Secrets of the Ya-Ya Sisterhood',\n",
       " 'The Waste Land',\n",
       " 'Untamed',\n",
       " 'Everything Is Illuminated',\n",
       " 'Crown of Midnight',\n",
       " 'To the Lighthouse',\n",
       " 'I Know Why the Caged Bird Sings',\n",
       " 'I, Robot',\n",
       " 'The Twilight Collection',\n",
       " 'The Pearl',\n",
       " 'The One',\n",
       " 'The Jungle',\n",
       " 'Carrie',\n",
       " 'Snow Falling on Cedars',\n",
       " 'Voyager',\n",
       " 'I, Claudius',\n",
       " 'Heir of Fire',\n",
       " 'Me Talk Pretty One Day',\n",
       " 'Chosen',\n",
       " 'A Room with a View',\n",
       " 'Bleak House',\n",
       " 'The Republic',\n",
       " 'The Last Battle',\n",
       " 'The Exorcist',\n",
       " 'The Elephant Tree',\n",
       " 'Coraline',\n",
       " 'Demian: Die Geschichte von Emil Sinclairs Jugend',\n",
       " 'The 5th Wave',\n",
       " 'The Iron King',\n",
       " 'Aristotle and Dante Discover the Secrets of the Universe',\n",
       " 'The Arabian Nights',\n",
       " 'Torment',\n",
       " 'Bloodlines',\n",
       " 'Vanity Fair',\n",
       " \"Wizard's First Rule\",\n",
       " 'North and South',\n",
       " 'Brideshead Revisited',\n",
       " 'The God Delusion',\n",
       " 'Of Human Bondage',\n",
       " 'Snow Crash',\n",
       " 'World War Z: An Oral History of the Zombie War',\n",
       " 'A Great and Terrible Beauty',\n",
       " 'Bared to You',\n",
       " 'The Witching Hour',\n",
       " 'The War of the Worlds',\n",
       " 'The Summoning',\n",
       " 'Cry, the Beloved Country',\n",
       " 'Johnny Got His Gun',\n",
       " 'Chocolat',\n",
       " 'Halfway to the Grave',\n",
       " \"Three Cups of Tea: One Man's Mission to Promote Peace ... One School at a Time\",\n",
       " 'Perfect Chemistry',\n",
       " 'Red Queen',\n",
       " 'City of Glass',\n",
       " 'The Mortal Instruments Boxed Set: City of Bones; City of Ashes; City of Glass',\n",
       " 'The Woman in White',\n",
       " 'Angels & Demons',\n",
       " 'Just Listen',\n",
       " '2001: A Space Odyssey',\n",
       " 'The Truth About Forever',\n",
       " 'A Discovery of Witches',\n",
       " 'Unwind',\n",
       " 'Trainspotting',\n",
       " 'Are You My Mother?',\n",
       " 'Cannery Row',\n",
       " 'Much Ado About Nothing',\n",
       " \"Swann's Way\",\n",
       " \"Sarah's Key\",\n",
       " 'The Polar Express',\n",
       " 'Acheron',\n",
       " \"Lady Chatterley's Lover\",\n",
       " 'The Elite',\n",
       " 'Silence',\n",
       " 'Ishmael',\n",
       " 'Nine Stories',\n",
       " 'The Unbecoming of Mara Dyer',\n",
       " 'The Return of the King',\n",
       " 'All the Bright Places',\n",
       " 'Into Thin Air: A Personal Account of the Mount Everest Disaster',\n",
       " 'Far From the Madding Crowd',\n",
       " 'The Zombie Room',\n",
       " 'I Am Number Four',\n",
       " 'Angelfall',\n",
       " 'Dead to the World',\n",
       " 'Persuasion',\n",
       " 'The Bronze Horseman',\n",
       " 'You Are Special',\n",
       " 'Sabriel',\n",
       " 'Cutting for Stone',\n",
       " 'Being and Time',\n",
       " 'The Goose Girl',\n",
       " 'I Capture the Castle',\n",
       " 'The Last Lecture',\n",
       " 'Ignite Me',\n",
       " 'The Glass Menagerie',\n",
       " 'Twelfth Night',\n",
       " 'The Darkest Minds',\n",
       " 'The Hours',\n",
       " 'Drums of Autumn',\n",
       " 'Wicked Lovely',\n",
       " 'P.S. I Love You',\n",
       " 'Queen of Shadows',\n",
       " 'Hunted',\n",
       " 'A Christmas Carol',\n",
       " 'The Merchant of Venice',\n",
       " 'The Last Unicorn',\n",
       " 'Little House in the Big Woods',\n",
       " 'Hyperion',\n",
       " 'No Country for Old Men',\n",
       " 'The Bean Trees',\n",
       " 'The Raven Boys',\n",
       " 'The Bad Beginning',\n",
       " 'Cyrano de Bergerac',\n",
       " 'Speaker for the Dead',\n",
       " 'The Westing Game',\n",
       " 'Interpreter of Maladies',\n",
       " 'The Red Pyramid',\n",
       " 'The Goldfinch',\n",
       " \"All the King's Men\",\n",
       " 'Julius Caesar',\n",
       " 'Anne of Avonlea',\n",
       " \"A Dog's Purpose\",\n",
       " 'Peace Like a River',\n",
       " 'We Need to Talk About Kevin',\n",
       " 'A Monster Calls',\n",
       " 'The Wasp Factory',\n",
       " 'The Art of War',\n",
       " 'Poison Study',\n",
       " 'Mythology',\n",
       " 'The Two Towers',\n",
       " 'One Day in the Life of Ivan Denisovich',\n",
       " 'The Queen of the Damned',\n",
       " 'Left Behind',\n",
       " 'The Eyre Affair',\n",
       " 'Inheritance',\n",
       " 'Before I Fall',\n",
       " 'The Talisman',\n",
       " 'Where She Went',\n",
       " 'Prince Caspian',\n",
       " \"The Memory Keeper's Daughter\",\n",
       " 'The Knife of Never Letting Go',\n",
       " 'Shadowfever',\n",
       " 'Gone',\n",
       " 'Native Son',\n",
       " 'Seabiscuit: An American Legend',\n",
       " 'The Killer Angels',\n",
       " \"Foucault's Pendulum\",\n",
       " 'The Scorch Trials',\n",
       " 'Darkfever',\n",
       " 'The History of Love',\n",
       " \"If on a Winter's Night a Traveler\",\n",
       " 'Pretties',\n",
       " 'The Bourne Identity',\n",
       " 'Words of Radiance',\n",
       " 'Possession',\n",
       " \"Gravity's Rainbow\",\n",
       " \"A People's History of the United States\",\n",
       " 'I Am Legend and Other Stories',\n",
       " 'A Brief History of Time',\n",
       " 'Oedipus Rex',\n",
       " 'Scarlet',\n",
       " 'Alanna: The First Adventure',\n",
       " 'John Adams',\n",
       " 'One for the Money',\n",
       " 'A Wizard of Earthsea',\n",
       " 'The Song of Achilles',\n",
       " 'Lover Unbound',\n",
       " 'Champion',\n",
       " 'The Haunting of Hill House',\n",
       " \"Assassin's Apprentice\",\n",
       " \"I'll Give You the Sun\",\n",
       " '1Q84',\n",
       " 'The Night Before Christmas',\n",
       " 'The Yellow Wallpaper and Other Stories',\n",
       " 'The Magus',\n",
       " 'Oryx and Crake',\n",
       " 'Tempted',\n",
       " 'Cress',\n",
       " 'A Breath of Snow and Ashes',\n",
       " 'Night Watch',\n",
       " 'A Heartbreaking Work of Staggering Genius',\n",
       " 'Veronika Decides to Die',\n",
       " 'Brainwalker',\n",
       " 'The Lies of Locke Lamora',\n",
       " 'Jitterbug Perfume',\n",
       " 'Papillon',\n",
       " 'Prodigal Summer',\n",
       " \"Corelli's Mandolin\",\n",
       " \"I'd Tell You I Love You, But Then I'd Have to Kill You\",\n",
       " 'The Fiery Cross',\n",
       " 'The Magic Mountain',\n",
       " 'The Sisterhood of the Traveling Pants',\n",
       " 'From the Mixed-Up Files of Mrs. Basil E. Frankweiler',\n",
       " 'The Elegance of the Hedgehog',\n",
       " 'Cosmos',\n",
       " 'The Big Sleep',\n",
       " \"Grimm's Fairy Tales\",\n",
       " 'Message in a Bottle',\n",
       " 'Crooked Kingdom',\n",
       " 'Bury My Heart at Wounded Knee: An Indian History of the American West',\n",
       " 'Prodigy',\n",
       " 'The Power of Myth',\n",
       " 'City of Ashes',\n",
       " \"The No. 1 Ladies' Detective Agency\",\n",
       " 'Love Story',\n",
       " 'Glass Houses',\n",
       " 'Twenty Thousand Leagues Under the Sea',\n",
       " 'Confessions of a Shopaholic',\n",
       " 'Lover Revealed',\n",
       " 'Odd Thomas',\n",
       " 'The Edge of Never',\n",
       " 'Ivanhoe',\n",
       " 'Carry On',\n",
       " 'Princess Academy',\n",
       " 'Freakonomics: A Rogue Economist Explores the Hidden Side of Everything',\n",
       " 'The Nightingale',\n",
       " \"Ender's Shadow\",\n",
       " 'The Aeneid',\n",
       " 'Unravel Me',\n",
       " 'Emma',\n",
       " 'Walk Two Moons',\n",
       " 'Angle of Repose',\n",
       " 'Lover Avenged',\n",
       " 'The Shell Seekers',\n",
       " 'The Corrections',\n",
       " 'The Bluest Eye',\n",
       " 'Anthem',\n",
       " 'Under the Dome',\n",
       " 'Living Dead in Dallas',\n",
       " \"The Omnivore's Dilemma: A Natural History of Four Meals\",\n",
       " 'A Canticle for Leibowitz',\n",
       " 'The Jungle Books',\n",
       " 'Collected Fictions',\n",
       " 'Rubinrot',\n",
       " 'One Day',\n",
       " 'The Story of My Life',\n",
       " 'Something Wicked This Way Comes',\n",
       " 'Linger',\n",
       " 'Geek Love',\n",
       " 'The Portrait of a Lady',\n",
       " 'Because of Winn-Dixie',\n",
       " 'My Name Is Asher Lev',\n",
       " 'Song of Solomon',\n",
       " 'Jude the Obscure',\n",
       " 'Red Rising',\n",
       " 'Macbeth',\n",
       " 'The Namesake',\n",
       " 'The Death Cure',\n",
       " 'Howards End',\n",
       " 'The Girl on the Train',\n",
       " 'Ficciones',\n",
       " \"It's Kind of a Funny Story\",\n",
       " 'Fire',\n",
       " 'Death on the Nile',\n",
       " 'The Color of Magic',\n",
       " 'The Hero of Ages',\n",
       " 'Shot Down: The True Story of Pilot Howard Snyder and the Crew of the B-17 Susan Ruth',\n",
       " 'The Sorrows of Young Werther',\n",
       " 'Still Alice',\n",
       " 'The Moon Is a Harsh Mistress',\n",
       " 'Choke',\n",
       " 'Battle Royale',\n",
       " 'Dandelion Wine',\n",
       " 'Mary Poppins',\n",
       " 'Finale',\n",
       " 'Gift from the Sea',\n",
       " 'Revolutionary Road',\n",
       " 'An Abundance of Katherines',\n",
       " 'Antigone',\n",
       " 'The Invention of Hugo Cabret',\n",
       " 'The Ocean at the End of the Lane',\n",
       " 'Small Gods',\n",
       " 'Tender Is the Night',\n",
       " 'Cold Sassy Tree',\n",
       " 'Nausea',\n",
       " 'The Passage',\n",
       " 'The Reckoning',\n",
       " 'Starship Troopers',\n",
       " 'The Poetry of Robert Frost',\n",
       " 'Ethan Frome',\n",
       " 'Exodus',\n",
       " 'The 7 Habits of Highly Effective People: Powerful Lessons in Personal Change',\n",
       " 'The Gargoyle',\n",
       " 'Forrest Gump',\n",
       " 'The Sparrow',\n",
       " 'I Am the Messenger',\n",
       " 'The Hate U Give',\n",
       " 'Walking Disaster',\n",
       " \"Gabriel's Inferno\",\n",
       " 'Dreamfever',\n",
       " 'Around the World in Eighty Days',\n",
       " 'The Hotel New Hampshire',\n",
       " 'On Writing: A Memoir of the Craft',\n",
       " 'The Forgotten Garden',\n",
       " 'The Bridges of Madison County',\n",
       " 'Kane and Abel',\n",
       " 'Reflected in You',\n",
       " 'Specials',\n",
       " 'Absalom, Absalom!',\n",
       " 'Shutter Island',\n",
       " 'Mort',\n",
       " 'The Golden Lily',\n",
       " 'One Foot in the Grave',\n",
       " 'A Million Little Pieces',\n",
       " 'Mystic River',\n",
       " 'The Blood of Olympus',\n",
       " 'Lover Mine',\n",
       " 'Burned',\n",
       " 'Guilty Pleasures',\n",
       " 'The City of Ember',\n",
       " 'Dead as a Doornail',\n",
       " 'The Glass Castle',\n",
       " 'Holy Bible: New International Version',\n",
       " 'Simon vs. the Homo Sapiens Agenda',\n",
       " 'Christy',\n",
       " 'The Lucky One',\n",
       " 'The Amulet of Samarkand',\n",
       " 'Crank',\n",
       " 'House of Leaves',\n",
       " 'The Hunt for Red October',\n",
       " 'Orlando',\n",
       " 'Requiem for a Dream',\n",
       " 'The Agony and the Ecstasy',\n",
       " 'Pandemonium',\n",
       " 'The Millennium Trilogy (Millennium Trilogy, #1-3)',\n",
       " 'The Story of Edgar Sawtelle',\n",
       " 'Factotum',\n",
       " 'Beauty: A Retelling of the Story of Beauty and the Beast',\n",
       " 'Where the Heart Is',\n",
       " 'A Walk in the Woods: Rediscovering America on the Appalachian Trail',\n",
       " 'Naked Lunch',\n",
       " 'The Fall',\n",
       " 'Still Life with Woodpecker',\n",
       " 'Night World, No. 1',\n",
       " 'The House of Mirth',\n",
       " 'Will Grayson, Will Grayson',\n",
       " 'Journey to the End of the Night',\n",
       " 'On the Beach',\n",
       " 'Thoughtless',\n",
       " 'The Long Walk',\n",
       " 'The Wedding',\n",
       " 'Fablehaven',\n",
       " 'Lunar Park',\n",
       " 'Sometimes a Great Notion',\n",
       " 'The Murder of Roger Ackroyd',\n",
       " 'Easy',\n",
       " 'Beach Music',\n",
       " 'We',\n",
       " 'The Pact',\n",
       " 'The Awakening / The Struggle',\n",
       " 'Roll of Thunder, Hear My Cry',\n",
       " 'Deception Point',\n",
       " 'Faefever',\n",
       " 'Fantasy Lover',\n",
       " 'This Lullaby',\n",
       " 'Ugly Love',\n",
       " 'Passion',\n",
       " 'A Court of Wings and Ruin',\n",
       " 'Bitten',\n",
       " 'The 5 Love Languages: The Secret to Love that Lasts',\n",
       " 'Meditations',\n",
       " 'From Dead to Worse',\n",
       " 'Wizard and Glass',\n",
       " 'Disgrace',\n",
       " 'The Fountainhead',\n",
       " 'Wings',\n",
       " 'All Together Dead',\n",
       " 'The Brief Wondrous Life of Oscar Wao',\n",
       " 'Dark Places',\n",
       " 'The Rime of the Ancient Mariner',\n",
       " 'The Drawing of the Three',\n",
       " 'The Bhagavad Gita',\n",
       " 'These Is My Words: The Diary of Sarah Agnes Prine, 1881-1901, Arizona Territories',\n",
       " 'Dead and Gone',\n",
       " 'Every Day',\n",
       " 'The Horse Whisperer',\n",
       " 'The Maltese Falcon',\n",
       " 'Skagboys',\n",
       " \"Tiger's Curse\",\n",
       " 'Redwall',\n",
       " 'Safe Haven',\n",
       " 'The Iliad',\n",
       " 'All the Pretty Horses',\n",
       " \"The Razor's Edge\",\n",
       " 'The Ruins of Gorlan',\n",
       " 'The Runaway Jury',\n",
       " 'Call Me By Your Name',\n",
       " 'Hex Hall',\n",
       " 'Unearthly',\n",
       " 'The Well of Ascension',\n",
       " 'Light in August',\n",
       " 'The Guardian',\n",
       " 'White Noise',\n",
       " 'Along for the Ride',\n",
       " 'The Story of Ferdinand',\n",
       " 'A Passage to India',\n",
       " 'Dead Witch Walking',\n",
       " 'Beastly',\n",
       " 'The Far Pavilions',\n",
       " \"At Grave's End\",\n",
       " 'The Man in the High Castle',\n",
       " 'A Bend in the Road',\n",
       " 'The Indigo Spell',\n",
       " 'Blue Bloods',\n",
       " \"The Assassin's Blade\",\n",
       " \"Suzanne's Diary for Nicholas\",\n",
       " \"A Doll's House\",\n",
       " 'The Taming of the Shrew',\n",
       " 'Eleven Minutes',\n",
       " \"Smilla's Sense of Snow\",\n",
       " 'The Devil Wears Prada',\n",
       " 'A Study in Scarlet',\n",
       " 'Anansi Boys',\n",
       " 'A Little Life',\n",
       " 'Songs of Innocence and of Experience',\n",
       " 'Lover Enshrined',\n",
       " 'Running with Scissors',\n",
       " 'Forbidden',\n",
       " 'The Client',\n",
       " 'The Iron Queen',\n",
       " 'The Last of the Mohicans',\n",
       " 'Across the Universe',\n",
       " 'Hatchet',\n",
       " 'Birdsong: A Novel of Love and War',\n",
       " 'Hogfather',\n",
       " 'Gödel, Escher, Bach: An Eternal Golden Braid',\n",
       " 'Let the Right One In',\n",
       " 'Nightshade',\n",
       " 'Storm Front',\n",
       " 'Lock and Key',\n",
       " 'Valley of the Dolls',\n",
       " 'The Short Second Life of Bree Tanner',\n",
       " \"The Kitchen God's Wife\",\n",
       " 'Eugene Onegin',\n",
       " 'Evernight',\n",
       " 'Between Shades of Gray',\n",
       " 'We Have Always Lived in the Castle',\n",
       " 'Magician',\n",
       " 'Animal Farm / 1984',\n",
       " 'Fingersmith',\n",
       " 'On Dublin Street',\n",
       " 'Cry Wolf',\n",
       " 'Swan Song',\n",
       " 'Memnoch the Devil',\n",
       " 'Helter Skelter: The True Story of the Manson Murders',\n",
       " 'The Winds of War',\n",
       " 'The Iron Daughter',\n",
       " 'A River Runs Through it and Other Stories',\n",
       " 'The Stinky Cheese Man and Other Fairly Stupid Tales',\n",
       " 'The Mysterious Benedict Society',\n",
       " 'The Valley of Horses',\n",
       " 'Twenty Love Poems and a Song of Despair',\n",
       " \"School's Out—Forever\",\n",
       " 'Saving the World and Other Extreme Sports',\n",
       " 'Rules of Attraction',\n",
       " 'Percy Jackson and the Olympians',\n",
       " 'Invisible Cities',\n",
       " 'A Darker Shade of Magic',\n",
       " 'Everything, Everything',\n",
       " 'Timeline',\n",
       " 'This Present Darkness',\n",
       " 'Go, Dog. Go!',\n",
       " 'Practical Magic',\n",
       " 'Blue Moon',\n",
       " 'Life, the Universe and Everything',\n",
       " 'For One More Day',\n",
       " 'Tropic of Cancer',\n",
       " 'The Absolutely True Diary of a Part-Time Indian',\n",
       " 'Bloodfever',\n",
       " \"Maus: Un survivant raconte, tome 1: Mon père saigne l'histoire\",\n",
       " 'Awakened',\n",
       " 'A Scanner Darkly',\n",
       " 'The Way of Shadows',\n",
       " 'The Tin Drum',\n",
       " 'Half-Blood',\n",
       " 'Fall on Your Knees',\n",
       " 'Winter',\n",
       " 'The Immortal Life of Henrietta Lacks',\n",
       " \"Archer's Voice\",\n",
       " 'Momo',\n",
       " 'A Dirty Job',\n",
       " 'Origin',\n",
       " 'Switched',\n",
       " 'A Town Like Alice',\n",
       " \"Kushiel's Dart\",\n",
       " 'Stones from the River',\n",
       " 'Inkspell',\n",
       " 'The Complete Persepolis',\n",
       " 'Zorba the Greek',\n",
       " 'The Turn of the Screw',\n",
       " 'Lady Midnight',\n",
       " 'The Crying of Lot 49',\n",
       " 'Jaws',\n",
       " 'Starcrossed',\n",
       " 'Outliers: The Story of Success',\n",
       " 'The Waves',\n",
       " 'And the Mountains Echoed',\n",
       " 'Ubik',\n",
       " 'The Decameron',\n",
       " \"The Color of Water: A Black Man's Tribute to His White Mother\",\n",
       " 'Brave New World / Brave New World Revisited',\n",
       " 'Before I Go to Sleep',\n",
       " 'Germinal',\n",
       " 'Mother Night',\n",
       " 'Destined for an Early Grave',\n",
       " \"A Room of One's Own\",\n",
       " 'The Tale of Despereaux',\n",
       " 'The Rescue',\n",
       " 'The Tale of Genji',\n",
       " 'Chronicle of a Death Foretold',\n",
       " 'Empire Falls',\n",
       " 'Nights in Rodanthe',\n",
       " 'Hearts in Atlantis',\n",
       " 'Fallen Too Far',\n",
       " \"The Beekeeper's Apprentice\",\n",
       " 'The Quiet American',\n",
       " 'Year of Wonders',\n",
       " 'Harriet the Spy',\n",
       " 'The Accidental Tourist',\n",
       " 'The Time Quartet Box Set',\n",
       " 'The Red Badge of Courage',\n",
       " 'The Day of the Triffids',\n",
       " 'The Dragon Reborn',\n",
       " 'The Raven and Other Poems',\n",
       " 'The Evolution of Mara Dyer',\n",
       " 'The Blade Itself',\n",
       " 'Needful Things',\n",
       " 'The Throne of Fire',\n",
       " 'Batman: The Dark Knight Returns',\n",
       " 'Alias Grace',\n",
       " 'On the Jellicoe Road',\n",
       " 'Going Postal',\n",
       " 'Hopscotch',\n",
       " 'The Red and the Black',\n",
       " 'Pretty Little Liars',\n",
       " 'Under the Never Sky',\n",
       " 'The Book of Disquiet: The Complete Edition',\n",
       " 'The Dead Zone',\n",
       " 'Stoner',\n",
       " 'The Complete Anne of Green Gables Boxed Set',\n",
       " 'Love, Rosie',\n",
       " 'The Glass Bead Game',\n",
       " 'Night World, No. 2',\n",
       " 'Hawaii',\n",
       " 'Inkdeath',\n",
       " 'The Pelican Brief',\n",
       " 'Bastard Out of Carolina',\n",
       " 'The Alchemyst',\n",
       " 'Halo',\n",
       " 'The Silver Linings Playbook',\n",
       " 'Sweet Evil',\n",
       " 'Fifty Shades Trilogy',\n",
       " 'The Spy Who Came In from the Cold',\n",
       " 'Eclipse',\n",
       " 'Les Fleurs du Mal',\n",
       " 'Memoirs of Hadrian',\n",
       " 'White Teeth',\n",
       " 'Breaking Dawn',\n",
       " 'Cujo',\n",
       " \"The Angel's Game\",\n",
       " 'Effortless',\n",
       " 'Garden Spells',\n",
       " 'The Immortal Rules',\n",
       " 'Anne of the Island',\n",
       " 'Losing Hope',\n",
       " 'The Selfish Gene',\n",
       " 'Rant',\n",
       " 'The Princess Diaries',\n",
       " 'The Blue Castle',\n",
       " \"The French Lieutenant's Woman\",\n",
       " 'Cross My Heart and Hope to Spy',\n",
       " 'The Tenant of Wildfell Hall',\n",
       " 'Max',\n",
       " 'Beautiful Darkness',\n",
       " 'The Satanic Verses',\n",
       " 'Metamorphoses',\n",
       " 'Alexander and the Terrible, Horrible, No Good, Very Bad Day',\n",
       " \"A New Earth: Awakening to Your Life's Purpose\",\n",
       " 'City of Thieves',\n",
       " 'Stolen: A Letter to My Captor',\n",
       " 'Fall of Giants',\n",
       " 'Just So Stories',\n",
       " 'Old Yeller',\n",
       " 'Quo Vadis',\n",
       " 'Guards! Guards!',\n",
       " 'أولاد حارتنا',\n",
       " 'Something Borrowed',\n",
       " 'Born at Midnight',\n",
       " 'A Man Called Ove',\n",
       " 'Elantris',\n",
       " 'Gilead',\n",
       " 'Extras',\n",
       " 'Ragtime',\n",
       " 'Perdido Street Station',\n",
       " 'The Blue Sword',\n",
       " 'The Sky Is Everywhere',\n",
       " \"The Diamond Age: Or, A Young Lady's Illustrated Primer\",\n",
       " 'The Complete Fairy Tales',\n",
       " 'The Life and Opinions of Tristram Shandy, Gentleman',\n",
       " 'Rapture',\n",
       " 'What Is the What',\n",
       " 'Haunted',\n",
       " 'Iron Kissed',\n",
       " 'The Tipping Point: How Little Things Can Make a Big Difference',\n",
       " 'Illuminae',\n",
       " 'An Echo in the Bone',\n",
       " 'An American Tragedy',\n",
       " \"Tiger's Voyage\",\n",
       " 'It Ends with Us',\n",
       " 'Ink Exchange',\n",
       " 'Fantastic Beasts and Where to Find Them',\n",
       " 'The House of the Scorpion',\n",
       " 'The Waste Lands',\n",
       " 'Darkness at Noon',\n",
       " 'Black Like Me',\n",
       " 'Cheaper by the Dozen',\n",
       " 'The End of the Affair',\n",
       " 'The Thief Lord',\n",
       " \"The Serpent's Shadow\",\n",
       " ...]"
      ]
     },
     "execution_count": 121,
     "metadata": {},
     "output_type": "execute_result"
    }
   ],
   "source": [
    "books_names_list"
   ]
  },
  {
   "cell_type": "code",
   "execution_count": null,
   "id": "03ef8743",
   "metadata": {
    "execution": {
     "iopub.execute_input": "2025-03-23T17:37:08.046305Z",
     "iopub.status.busy": "2025-03-23T17:37:08.045973Z",
     "iopub.status.idle": "2025-03-23T17:37:08.050587Z",
     "shell.execute_reply": "2025-03-23T17:37:08.049824Z"
    },
    "papermill": {
     "duration": 0.035853,
     "end_time": "2025-03-23T17:37:08.051912",
     "exception": false,
     "start_time": "2025-03-23T17:37:08.016059",
     "status": "completed"
    },
    "tags": []
   },
   "outputs": [],
   "source": [
    "books_names = req_updated_books[['title']]"
   ]
  },
  {
   "cell_type": "code",
   "execution_count": null,
   "id": "7a48c080",
   "metadata": {
    "execution": {
     "iopub.execute_input": "2025-03-23T17:37:08.107777Z",
     "iopub.status.busy": "2025-03-23T17:37:08.107456Z",
     "iopub.status.idle": "2025-03-23T17:37:08.117308Z",
     "shell.execute_reply": "2025-03-23T17:37:08.116368Z"
    },
    "papermill": {
     "duration": 0.03927,
     "end_time": "2025-03-23T17:37:08.118787",
     "exception": false,
     "start_time": "2025-03-23T17:37:08.079517",
     "status": "completed"
    },
    "tags": []
   },
   "outputs": [
    {
     "data": {
      "text/plain": [
       "title\n",
       "False    11300\n",
       "Name: count, dtype: int64"
      ]
     },
     "execution_count": 123,
     "metadata": {},
     "output_type": "execute_result"
    }
   ],
   "source": [
    "books_names.isnull().value_counts()"
   ]
  },
  {
   "cell_type": "code",
   "execution_count": null,
   "id": "62759d77",
   "metadata": {
    "execution": {
     "iopub.execute_input": "2025-03-23T17:37:08.176862Z",
     "iopub.status.busy": "2025-03-23T17:37:08.176454Z",
     "iopub.status.idle": "2025-03-23T17:37:08.181292Z",
     "shell.execute_reply": "2025-03-23T17:37:08.180518Z"
    },
    "papermill": {
     "duration": 0.034574,
     "end_time": "2025-03-23T17:37:08.182598",
     "exception": false,
     "start_time": "2025-03-23T17:37:08.148024",
     "status": "completed"
    },
    "tags": []
   },
   "outputs": [],
   "source": [
    "pickle.dump(model, open('/kaggle/working/model.pkl', 'wb'))"
   ]
  },
  {
   "cell_type": "code",
   "execution_count": null,
   "id": "4a08abda",
   "metadata": {
    "execution": {
     "iopub.execute_input": "2025-03-23T17:37:08.237850Z",
     "iopub.status.busy": "2025-03-23T17:37:08.237532Z",
     "iopub.status.idle": "2025-03-23T17:37:09.984137Z",
     "shell.execute_reply": "2025-03-23T17:37:09.983425Z"
    },
    "papermill": {
     "duration": 1.775705,
     "end_time": "2025-03-23T17:37:09.985741",
     "exception": false,
     "start_time": "2025-03-23T17:37:08.210036",
     "status": "completed"
    },
    "tags": []
   },
   "outputs": [],
   "source": [
    "pickle.dump(content_similarity, open('/kaggle/working/content_similarity.pkl', 'wb'))"
   ]
  },
  {
   "cell_type": "code",
   "execution_count": null,
   "id": "337d572f",
   "metadata": {
    "execution": {
     "iopub.execute_input": "2025-03-23T17:37:10.040130Z",
     "iopub.status.busy": "2025-03-23T17:37:10.039831Z",
     "iopub.status.idle": "2025-03-23T17:37:10.674429Z",
     "shell.execute_reply": "2025-03-23T17:37:10.673466Z"
    },
    "papermill": {
     "duration": 0.663419,
     "end_time": "2025-03-23T17:37:10.676077",
     "exception": false,
     "start_time": "2025-03-23T17:37:10.012658",
     "status": "completed"
    },
    "tags": []
   },
   "outputs": [],
   "source": [
    "pickle.dump(req_updated_books, open('/kaggle/working/req_updated_books.pkl', 'wb'))"
   ]
  },
  {
   "cell_type": "code",
   "execution_count": null,
   "id": "92363738",
   "metadata": {
    "execution": {
     "iopub.execute_input": "2025-03-23T17:37:10.731203Z",
     "iopub.status.busy": "2025-03-23T17:37:10.730921Z",
     "iopub.status.idle": "2025-03-23T17:37:12.470444Z",
     "shell.execute_reply": "2025-03-23T17:37:12.469701Z"
    },
    "papermill": {
     "duration": 1.769394,
     "end_time": "2025-03-23T17:37:12.472044",
     "exception": false,
     "start_time": "2025-03-23T17:37:10.702650",
     "status": "completed"
    },
    "tags": []
   },
   "outputs": [],
   "source": [
    "pickle.dump(req_content_data, open('/kaggle/working/req_content_data.pkl', 'wb'))\n",
    "pickle.dump(collab_data, open('/kaggle/working/collab_data.pkl', 'wb'))\n",
    "pickle.dump(collab_pivot, open('/kaggle/working/collab_pivot.pkl', 'wb'))\n",
    "pickle.dump(books_names, open('/kaggle/working/books_names.pkl', 'wb'))"
   ]
  },
  {
   "cell_type": "code",
   "execution_count": null,
   "id": "218950c5",
   "metadata": {
    "execution": {
     "iopub.execute_input": "2025-03-23T17:37:12.526847Z",
     "iopub.status.busy": "2025-03-23T17:37:12.526390Z",
     "iopub.status.idle": "2025-03-23T17:37:12.531907Z",
     "shell.execute_reply": "2025-03-23T17:37:12.531320Z"
    },
    "papermill": {
     "duration": 0.034259,
     "end_time": "2025-03-23T17:37:12.533025",
     "exception": false,
     "start_time": "2025-03-23T17:37:12.498766",
     "status": "completed"
    },
    "tags": []
   },
   "outputs": [],
   "source": [
    "pickle.dump(books_names_list, open('/kaggle/working/books_names_list.pkl', 'wb'))"
   ]
  }
 ],
 "metadata": {
  "kaggle": {
   "accelerator": "gpu",
   "dataSources": [
    {
     "datasetId": 1360170,
     "sourceId": 2260058,
     "sourceType": "datasetVersion"
    }
   ],
   "dockerImageVersionId": 30919,
   "isGpuEnabled": true,
   "isInternetEnabled": true,
   "language": "python",
   "sourceType": "notebook"
  },
  "kernelspec": {
   "display_name": "Python 3",
   "language": "python",
   "name": "python3"
  },
  "language_info": {
   "codemirror_mode": {
    "name": "ipython",
    "version": 3
   },
   "file_extension": ".py",
   "mimetype": "text/x-python",
   "name": "python",
   "nbconvert_exporter": "python",
   "pygments_lexer": "ipython3",
   "version": "3.10.12"
  },
  "papermill": {
   "default_parameters": {},
   "duration": 165.297291,
   "end_time": "2025-03-23T17:37:13.788343",
   "environment_variables": {},
   "exception": null,
   "input_path": "__notebook__.ipynb",
   "output_path": "__notebook__.ipynb",
   "parameters": {},
   "start_time": "2025-03-23T17:34:28.491052",
   "version": "2.6.0"
  }
 },
 "nbformat": 4,
 "nbformat_minor": 5
}
